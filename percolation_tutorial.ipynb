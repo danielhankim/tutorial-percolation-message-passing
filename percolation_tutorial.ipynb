{
 "cells": [
  {
   "cell_type": "code",
   "execution_count": 169,
   "metadata": {},
   "outputs": [],
   "source": [
    "import networkx as nx\n",
    "import random\n",
    "import numpy as np\n",
    "import scipy\n",
    "\n",
    "from tqdm import tqdm\n",
    "\n",
    "import matplotlib.pyplot as plt\n"
   ]
  },
  {
   "cell_type": "markdown",
   "metadata": {},
   "source": [
    "# Naive implementation of Percolation"
   ]
  },
  {
   "cell_type": "code",
   "execution_count": 147,
   "metadata": {},
   "outputs": [],
   "source": [
    "def ordinary_bond_percolation(G, p):\n",
    "    \"\"\"\n",
    "    Performs ordinary bond percolation on a graph by randomly removing edges.\n",
    "    \n",
    "    Parameters:\n",
    "        G (networkx.Graph): Input graph to perform percolation on\n",
    "        p (float): Probability of keeping each edge (between 0 and 1)\n",
    "        \n",
    "    Returns:\n",
    "        H (networkx.Graph): New graph with edges present with probability p\n",
    "    \"\"\"\n",
    "\n",
    "    H = nx.Graph()  # generate an empty graph instance\n",
    "\n",
    "    # add nodes to H\n",
    "    for node in G.nodes():\n",
    "        H.add_node(node)\n",
    "\n",
    "    # add edges to H\n",
    "    for edge in G.edges():\n",
    "        if random.random() <= p:\n",
    "            H.add_edge(edge[0], edge[1])\n",
    "            \n",
    "    return H\n",
    "\n",
    "def ordinary_site_percolation(G, p):\n",
    "    \"\"\"\n",
    "    Performs ordinary site percolation on a graph by randomly removing nodes.\n",
    "    \n",
    "    Parameters:\n",
    "        G (networkx.Graph): Input graph to perform percolation on\n",
    "        p (float): Probability of keeping each node (between 0 and 1)\n",
    "        \n",
    "    Returns:\n",
    "        H (networkx.Graph): New graph with nodes present with probability p\n",
    "    \"\"\"\n",
    "\n",
    "    # copy the input graph\n",
    "    H = G.copy()\n",
    "\n",
    "    # remove nodes from H with probability 1 - p (in other words, keep nodes with probability p)\n",
    "    for node in G.nodes():\n",
    "        if random.random() <= 1. - p:\n",
    "            H.remove_node(node)\n",
    "\n",
    "    return H\n",
    "\n",
    "def compute_component_sizes(G):\n",
    "\n",
    "    LCC = 0\n",
    "    SLCC = 0\n",
    "    \n",
    "    components = sorted(nx.connected_components(G), key=len, reverse=True)\n",
    "\n",
    "    if len(components) > 1:\n",
    "        LCC = len(components[0])\n",
    "        SLCC = len(components[1])\n",
    "    \n",
    "    else:\n",
    "        # print(components)\n",
    "        LCC = len(G.nodes())\n",
    "        SLCC = 0\n",
    "\n",
    "    return LCC, SLCC\n",
    "\n",
    "def get_phase_diagram(G, p_range, num_samples, percolation_func):\n",
    "\n",
    "    phase_diagram = {'p': [], 'LCC': [], 'SLCC': [], 'susceptibility': []}\n",
    "\n",
    "    for p in p_range:\n",
    "        print(f\"Computing phase diagram for p = {p}\")\n",
    "        LCC_values = []\n",
    "        SLCC_values = []\n",
    "\n",
    "        for i in tqdm(range(num_samples)):\n",
    "            H = percolation_func(G, p)\n",
    "            LCC, SLCC = compute_component_sizes(H)\n",
    "\n",
    "            LCC_values.append(LCC)\n",
    "            SLCC_values.append(SLCC)\n",
    "\n",
    "        LCC_values = np.array(LCC_values) / len(G.nodes())\n",
    "        SLCC_values = np.array(SLCC_values) / len(G.nodes())\n",
    "\n",
    "        LCC = np.mean(LCC_values)\n",
    "        SLCC = np.mean(SLCC_values)\n",
    "        susceptibility = (np.mean(np.power(LCC_values, 2)) - np.power(np.mean(LCC_values), 2))\n",
    "\n",
    "        phase_diagram['p'].append(p)\n",
    "        phase_diagram['LCC'].append(LCC)\n",
    "        phase_diagram['SLCC'].append(SLCC)\n",
    "        phase_diagram['susceptibility'].append(susceptibility)\n",
    "\n",
    "    return phase_diagram\n",
    "    "
   ]
  },
  {
   "cell_type": "code",
   "execution_count": 148,
   "metadata": {},
   "outputs": [
    {
     "name": "stdout",
     "output_type": "stream",
     "text": [
      "Computing phase diagram for p = 0.0\n"
     ]
    },
    {
     "name": "stderr",
     "output_type": "stream",
     "text": [
      "  0%|          | 0/100 [00:00<?, ?it/s]"
     ]
    },
    {
     "name": "stderr",
     "output_type": "stream",
     "text": [
      "100%|██████████| 100/100 [00:00<00:00, 381.14it/s]\n"
     ]
    },
    {
     "name": "stdout",
     "output_type": "stream",
     "text": [
      "Computing phase diagram for p = 0.02\n"
     ]
    },
    {
     "name": "stderr",
     "output_type": "stream",
     "text": [
      "100%|██████████| 100/100 [00:00<00:00, 279.15it/s]\n"
     ]
    },
    {
     "name": "stdout",
     "output_type": "stream",
     "text": [
      "Computing phase diagram for p = 0.04\n"
     ]
    },
    {
     "name": "stderr",
     "output_type": "stream",
     "text": [
      "100%|██████████| 100/100 [00:00<00:00, 419.74it/s]\n"
     ]
    },
    {
     "name": "stdout",
     "output_type": "stream",
     "text": [
      "Computing phase diagram for p = 0.06\n"
     ]
    },
    {
     "name": "stderr",
     "output_type": "stream",
     "text": [
      "100%|██████████| 100/100 [00:00<00:00, 406.84it/s]\n"
     ]
    },
    {
     "name": "stdout",
     "output_type": "stream",
     "text": [
      "Computing phase diagram for p = 0.08\n"
     ]
    },
    {
     "name": "stderr",
     "output_type": "stream",
     "text": [
      "100%|██████████| 100/100 [00:00<00:00, 400.46it/s]\n"
     ]
    },
    {
     "name": "stdout",
     "output_type": "stream",
     "text": [
      "Computing phase diagram for p = 0.1\n"
     ]
    },
    {
     "name": "stderr",
     "output_type": "stream",
     "text": [
      "100%|██████████| 100/100 [00:00<00:00, 395.77it/s]\n"
     ]
    },
    {
     "name": "stdout",
     "output_type": "stream",
     "text": [
      "Computing phase diagram for p = 0.12\n"
     ]
    },
    {
     "name": "stderr",
     "output_type": "stream",
     "text": [
      "100%|██████████| 100/100 [00:00<00:00, 389.22it/s]\n"
     ]
    },
    {
     "name": "stdout",
     "output_type": "stream",
     "text": [
      "Computing phase diagram for p = 0.14\n"
     ]
    },
    {
     "name": "stderr",
     "output_type": "stream",
     "text": [
      "100%|██████████| 100/100 [00:00<00:00, 393.16it/s]\n"
     ]
    },
    {
     "name": "stdout",
     "output_type": "stream",
     "text": [
      "Computing phase diagram for p = 0.16\n"
     ]
    },
    {
     "name": "stderr",
     "output_type": "stream",
     "text": [
      "100%|██████████| 100/100 [00:00<00:00, 277.10it/s]\n"
     ]
    },
    {
     "name": "stdout",
     "output_type": "stream",
     "text": [
      "Computing phase diagram for p = 0.18\n"
     ]
    },
    {
     "name": "stderr",
     "output_type": "stream",
     "text": [
      "100%|██████████| 100/100 [00:00<00:00, 382.13it/s]\n"
     ]
    },
    {
     "name": "stdout",
     "output_type": "stream",
     "text": [
      "Computing phase diagram for p = 0.2\n"
     ]
    },
    {
     "name": "stderr",
     "output_type": "stream",
     "text": [
      "100%|██████████| 100/100 [00:00<00:00, 378.26it/s]\n"
     ]
    },
    {
     "name": "stdout",
     "output_type": "stream",
     "text": [
      "Computing phase diagram for p = 0.22\n"
     ]
    },
    {
     "name": "stderr",
     "output_type": "stream",
     "text": [
      "100%|██████████| 100/100 [00:00<00:00, 374.39it/s]\n"
     ]
    },
    {
     "name": "stdout",
     "output_type": "stream",
     "text": [
      "Computing phase diagram for p = 0.24\n"
     ]
    },
    {
     "name": "stderr",
     "output_type": "stream",
     "text": [
      "100%|██████████| 100/100 [00:00<00:00, 369.63it/s]\n"
     ]
    },
    {
     "name": "stdout",
     "output_type": "stream",
     "text": [
      "Computing phase diagram for p = 0.26\n"
     ]
    },
    {
     "name": "stderr",
     "output_type": "stream",
     "text": [
      "100%|██████████| 100/100 [00:00<00:00, 268.97it/s]\n"
     ]
    },
    {
     "name": "stdout",
     "output_type": "stream",
     "text": [
      "Computing phase diagram for p = 0.28\n"
     ]
    },
    {
     "name": "stderr",
     "output_type": "stream",
     "text": [
      "100%|██████████| 100/100 [00:00<00:00, 365.56it/s]\n"
     ]
    },
    {
     "name": "stdout",
     "output_type": "stream",
     "text": [
      "Computing phase diagram for p = 0.3\n"
     ]
    },
    {
     "name": "stderr",
     "output_type": "stream",
     "text": [
      "100%|██████████| 100/100 [00:00<00:00, 364.30it/s]\n"
     ]
    },
    {
     "name": "stdout",
     "output_type": "stream",
     "text": [
      "Computing phase diagram for p = 0.32\n"
     ]
    },
    {
     "name": "stderr",
     "output_type": "stream",
     "text": [
      "100%|██████████| 100/100 [00:00<00:00, 359.94it/s]\n"
     ]
    },
    {
     "name": "stdout",
     "output_type": "stream",
     "text": [
      "Computing phase diagram for p = 0.34\n"
     ]
    },
    {
     "name": "stderr",
     "output_type": "stream",
     "text": [
      "100%|██████████| 100/100 [00:00<00:00, 256.14it/s]\n"
     ]
    },
    {
     "name": "stdout",
     "output_type": "stream",
     "text": [
      "Computing phase diagram for p = 0.36\n"
     ]
    },
    {
     "name": "stderr",
     "output_type": "stream",
     "text": [
      "100%|██████████| 100/100 [00:00<00:00, 341.57it/s]\n"
     ]
    },
    {
     "name": "stdout",
     "output_type": "stream",
     "text": [
      "Computing phase diagram for p = 0.38\n"
     ]
    },
    {
     "name": "stderr",
     "output_type": "stream",
     "text": [
      "100%|██████████| 100/100 [00:00<00:00, 254.32it/s]\n"
     ]
    },
    {
     "name": "stdout",
     "output_type": "stream",
     "text": [
      "Computing phase diagram for p = 0.4\n"
     ]
    },
    {
     "name": "stderr",
     "output_type": "stream",
     "text": [
      "100%|██████████| 100/100 [00:00<00:00, 339.30it/s]\n"
     ]
    },
    {
     "name": "stdout",
     "output_type": "stream",
     "text": [
      "Computing phase diagram for p = 0.42\n"
     ]
    },
    {
     "name": "stderr",
     "output_type": "stream",
     "text": [
      "100%|██████████| 100/100 [00:00<00:00, 335.54it/s]\n"
     ]
    },
    {
     "name": "stdout",
     "output_type": "stream",
     "text": [
      "Computing phase diagram for p = 0.44\n"
     ]
    },
    {
     "name": "stderr",
     "output_type": "stream",
     "text": [
      "100%|██████████| 100/100 [00:00<00:00, 249.18it/s]\n"
     ]
    },
    {
     "name": "stdout",
     "output_type": "stream",
     "text": [
      "Computing phase diagram for p = 0.46\n"
     ]
    },
    {
     "name": "stderr",
     "output_type": "stream",
     "text": [
      "100%|██████████| 100/100 [00:00<00:00, 326.45it/s]\n"
     ]
    },
    {
     "name": "stdout",
     "output_type": "stream",
     "text": [
      "Computing phase diagram for p = 0.48\n"
     ]
    },
    {
     "name": "stderr",
     "output_type": "stream",
     "text": [
      "100%|██████████| 100/100 [00:00<00:00, 324.54it/s]\n"
     ]
    },
    {
     "name": "stdout",
     "output_type": "stream",
     "text": [
      "Computing phase diagram for p = 0.5\n"
     ]
    },
    {
     "name": "stderr",
     "output_type": "stream",
     "text": [
      "100%|██████████| 100/100 [00:00<00:00, 221.31it/s]\n"
     ]
    },
    {
     "name": "stdout",
     "output_type": "stream",
     "text": [
      "Computing phase diagram for p = 0.52\n"
     ]
    },
    {
     "name": "stderr",
     "output_type": "stream",
     "text": [
      "100%|██████████| 100/100 [00:00<00:00, 312.66it/s]\n"
     ]
    },
    {
     "name": "stdout",
     "output_type": "stream",
     "text": [
      "Computing phase diagram for p = 0.54\n"
     ]
    },
    {
     "name": "stderr",
     "output_type": "stream",
     "text": [
      "100%|██████████| 100/100 [00:00<00:00, 236.82it/s]\n"
     ]
    },
    {
     "name": "stdout",
     "output_type": "stream",
     "text": [
      "Computing phase diagram for p = 0.56\n"
     ]
    },
    {
     "name": "stderr",
     "output_type": "stream",
     "text": [
      "100%|██████████| 100/100 [00:00<00:00, 305.53it/s]\n"
     ]
    },
    {
     "name": "stdout",
     "output_type": "stream",
     "text": [
      "Computing phase diagram for p = 0.58\n"
     ]
    },
    {
     "name": "stderr",
     "output_type": "stream",
     "text": [
      "100%|██████████| 100/100 [00:00<00:00, 230.93it/s]\n"
     ]
    },
    {
     "name": "stdout",
     "output_type": "stream",
     "text": [
      "Computing phase diagram for p = 0.6\n"
     ]
    },
    {
     "name": "stderr",
     "output_type": "stream",
     "text": [
      "100%|██████████| 100/100 [00:00<00:00, 298.14it/s]\n"
     ]
    },
    {
     "name": "stdout",
     "output_type": "stream",
     "text": [
      "Computing phase diagram for p = 0.62\n"
     ]
    },
    {
     "name": "stderr",
     "output_type": "stream",
     "text": [
      "100%|██████████| 100/100 [00:00<00:00, 224.13it/s]\n"
     ]
    },
    {
     "name": "stdout",
     "output_type": "stream",
     "text": [
      "Computing phase diagram for p = 0.64\n"
     ]
    },
    {
     "name": "stderr",
     "output_type": "stream",
     "text": [
      "100%|██████████| 100/100 [00:00<00:00, 290.17it/s]\n"
     ]
    },
    {
     "name": "stdout",
     "output_type": "stream",
     "text": [
      "Computing phase diagram for p = 0.66\n"
     ]
    },
    {
     "name": "stderr",
     "output_type": "stream",
     "text": [
      "100%|██████████| 100/100 [00:00<00:00, 221.65it/s]\n"
     ]
    },
    {
     "name": "stdout",
     "output_type": "stream",
     "text": [
      "Computing phase diagram for p = 0.68\n"
     ]
    },
    {
     "name": "stderr",
     "output_type": "stream",
     "text": [
      "100%|██████████| 100/100 [00:00<00:00, 219.58it/s]\n"
     ]
    },
    {
     "name": "stdout",
     "output_type": "stream",
     "text": [
      "Computing phase diagram for p = 0.7000000000000001\n"
     ]
    },
    {
     "name": "stderr",
     "output_type": "stream",
     "text": [
      "100%|██████████| 100/100 [00:00<00:00, 277.86it/s]\n"
     ]
    },
    {
     "name": "stdout",
     "output_type": "stream",
     "text": [
      "Computing phase diagram for p = 0.72\n"
     ]
    },
    {
     "name": "stderr",
     "output_type": "stream",
     "text": [
      "100%|██████████| 100/100 [00:00<00:00, 215.35it/s]\n"
     ]
    },
    {
     "name": "stdout",
     "output_type": "stream",
     "text": [
      "Computing phase diagram for p = 0.74\n"
     ]
    },
    {
     "name": "stderr",
     "output_type": "stream",
     "text": [
      "100%|██████████| 100/100 [00:00<00:00, 275.12it/s]\n"
     ]
    },
    {
     "name": "stdout",
     "output_type": "stream",
     "text": [
      "Computing phase diagram for p = 0.76\n"
     ]
    },
    {
     "name": "stderr",
     "output_type": "stream",
     "text": [
      "100%|██████████| 100/100 [00:00<00:00, 211.54it/s]\n"
     ]
    },
    {
     "name": "stdout",
     "output_type": "stream",
     "text": [
      "Computing phase diagram for p = 0.78\n"
     ]
    },
    {
     "name": "stderr",
     "output_type": "stream",
     "text": [
      "100%|██████████| 100/100 [00:00<00:00, 209.63it/s]\n"
     ]
    },
    {
     "name": "stdout",
     "output_type": "stream",
     "text": [
      "Computing phase diagram for p = 0.8\n"
     ]
    },
    {
     "name": "stderr",
     "output_type": "stream",
     "text": [
      "100%|██████████| 100/100 [00:00<00:00, 263.02it/s]\n"
     ]
    },
    {
     "name": "stdout",
     "output_type": "stream",
     "text": [
      "Computing phase diagram for p = 0.8200000000000001\n"
     ]
    },
    {
     "name": "stderr",
     "output_type": "stream",
     "text": [
      "100%|██████████| 100/100 [00:00<00:00, 206.67it/s]\n"
     ]
    },
    {
     "name": "stdout",
     "output_type": "stream",
     "text": [
      "Computing phase diagram for p = 0.84\n"
     ]
    },
    {
     "name": "stderr",
     "output_type": "stream",
     "text": [
      "100%|██████████| 100/100 [00:00<00:00, 259.75it/s]\n"
     ]
    },
    {
     "name": "stdout",
     "output_type": "stream",
     "text": [
      "Computing phase diagram for p = 0.86\n"
     ]
    },
    {
     "name": "stderr",
     "output_type": "stream",
     "text": [
      "100%|██████████| 100/100 [00:00<00:00, 202.61it/s]\n"
     ]
    },
    {
     "name": "stdout",
     "output_type": "stream",
     "text": [
      "Computing phase diagram for p = 0.88\n"
     ]
    },
    {
     "name": "stderr",
     "output_type": "stream",
     "text": [
      "100%|██████████| 100/100 [00:00<00:00, 200.86it/s]\n"
     ]
    },
    {
     "name": "stdout",
     "output_type": "stream",
     "text": [
      "Computing phase diagram for p = 0.9\n"
     ]
    },
    {
     "name": "stderr",
     "output_type": "stream",
     "text": [
      "100%|██████████| 100/100 [00:00<00:00, 196.81it/s]\n"
     ]
    },
    {
     "name": "stdout",
     "output_type": "stream",
     "text": [
      "Computing phase diagram for p = 0.92\n"
     ]
    },
    {
     "name": "stderr",
     "output_type": "stream",
     "text": [
      "100%|██████████| 100/100 [00:00<00:00, 196.00it/s]\n"
     ]
    },
    {
     "name": "stdout",
     "output_type": "stream",
     "text": [
      "Computing phase diagram for p = 0.9400000000000001\n"
     ]
    },
    {
     "name": "stderr",
     "output_type": "stream",
     "text": [
      "100%|██████████| 100/100 [00:00<00:00, 243.49it/s]\n"
     ]
    },
    {
     "name": "stdout",
     "output_type": "stream",
     "text": [
      "Computing phase diagram for p = 0.96\n"
     ]
    },
    {
     "name": "stderr",
     "output_type": "stream",
     "text": [
      "100%|██████████| 100/100 [00:00<00:00, 194.42it/s]\n"
     ]
    },
    {
     "name": "stdout",
     "output_type": "stream",
     "text": [
      "Computing phase diagram for p = 0.98\n"
     ]
    },
    {
     "name": "stderr",
     "output_type": "stream",
     "text": [
      "100%|██████████| 100/100 [00:00<00:00, 238.21it/s]\n"
     ]
    },
    {
     "name": "stdout",
     "output_type": "stream",
     "text": [
      "Computing phase diagram for p = 1.0\n"
     ]
    },
    {
     "name": "stderr",
     "output_type": "stream",
     "text": [
      "100%|██████████| 100/100 [00:00<00:00, 190.44it/s]\n"
     ]
    },
    {
     "name": "stdout",
     "output_type": "stream",
     "text": [
      "Computing phase diagram for p = 0.0\n"
     ]
    },
    {
     "name": "stderr",
     "output_type": "stream",
     "text": [
      "100%|██████████| 100/100 [00:00<00:00, 146.43it/s]\n"
     ]
    },
    {
     "name": "stdout",
     "output_type": "stream",
     "text": [
      "Computing phase diagram for p = 0.02\n"
     ]
    },
    {
     "name": "stderr",
     "output_type": "stream",
     "text": [
      "100%|██████████| 100/100 [00:00<00:00, 144.27it/s]\n"
     ]
    },
    {
     "name": "stdout",
     "output_type": "stream",
     "text": [
      "Computing phase diagram for p = 0.04\n"
     ]
    },
    {
     "name": "stderr",
     "output_type": "stream",
     "text": [
      "100%|██████████| 100/100 [00:00<00:00, 143.62it/s]\n"
     ]
    },
    {
     "name": "stdout",
     "output_type": "stream",
     "text": [
      "Computing phase diagram for p = 0.06\n"
     ]
    },
    {
     "name": "stderr",
     "output_type": "stream",
     "text": [
      "100%|██████████| 100/100 [00:00<00:00, 143.91it/s]\n"
     ]
    },
    {
     "name": "stdout",
     "output_type": "stream",
     "text": [
      "Computing phase diagram for p = 0.08\n"
     ]
    },
    {
     "name": "stderr",
     "output_type": "stream",
     "text": [
      "100%|██████████| 100/100 [00:00<00:00, 144.15it/s]\n"
     ]
    },
    {
     "name": "stdout",
     "output_type": "stream",
     "text": [
      "Computing phase diagram for p = 0.1\n"
     ]
    },
    {
     "name": "stderr",
     "output_type": "stream",
     "text": [
      "100%|██████████| 100/100 [00:00<00:00, 143.85it/s]\n"
     ]
    },
    {
     "name": "stdout",
     "output_type": "stream",
     "text": [
      "Computing phase diagram for p = 0.12\n"
     ]
    },
    {
     "name": "stderr",
     "output_type": "stream",
     "text": [
      "100%|██████████| 100/100 [00:00<00:00, 143.07it/s]\n"
     ]
    },
    {
     "name": "stdout",
     "output_type": "stream",
     "text": [
      "Computing phase diagram for p = 0.14\n"
     ]
    },
    {
     "name": "stderr",
     "output_type": "stream",
     "text": [
      "100%|██████████| 100/100 [00:00<00:00, 124.19it/s]\n"
     ]
    },
    {
     "name": "stdout",
     "output_type": "stream",
     "text": [
      "Computing phase diagram for p = 0.16\n"
     ]
    },
    {
     "name": "stderr",
     "output_type": "stream",
     "text": [
      "100%|██████████| 100/100 [00:00<00:00, 143.02it/s]\n"
     ]
    },
    {
     "name": "stdout",
     "output_type": "stream",
     "text": [
      "Computing phase diagram for p = 0.18\n"
     ]
    },
    {
     "name": "stderr",
     "output_type": "stream",
     "text": [
      "100%|██████████| 100/100 [00:00<00:00, 124.51it/s]\n"
     ]
    },
    {
     "name": "stdout",
     "output_type": "stream",
     "text": [
      "Computing phase diagram for p = 0.2\n"
     ]
    },
    {
     "name": "stderr",
     "output_type": "stream",
     "text": [
      "100%|██████████| 100/100 [00:00<00:00, 142.37it/s]\n"
     ]
    },
    {
     "name": "stdout",
     "output_type": "stream",
     "text": [
      "Computing phase diagram for p = 0.22\n"
     ]
    },
    {
     "name": "stderr",
     "output_type": "stream",
     "text": [
      "100%|██████████| 100/100 [00:00<00:00, 123.87it/s]\n"
     ]
    },
    {
     "name": "stdout",
     "output_type": "stream",
     "text": [
      "Computing phase diagram for p = 0.24\n"
     ]
    },
    {
     "name": "stderr",
     "output_type": "stream",
     "text": [
      "100%|██████████| 100/100 [00:00<00:00, 143.02it/s]\n"
     ]
    },
    {
     "name": "stdout",
     "output_type": "stream",
     "text": [
      "Computing phase diagram for p = 0.26\n"
     ]
    },
    {
     "name": "stderr",
     "output_type": "stream",
     "text": [
      "100%|██████████| 100/100 [00:00<00:00, 125.47it/s]\n"
     ]
    },
    {
     "name": "stdout",
     "output_type": "stream",
     "text": [
      "Computing phase diagram for p = 0.28\n"
     ]
    },
    {
     "name": "stderr",
     "output_type": "stream",
     "text": [
      "100%|██████████| 100/100 [00:00<00:00, 144.21it/s]\n"
     ]
    },
    {
     "name": "stdout",
     "output_type": "stream",
     "text": [
      "Computing phase diagram for p = 0.3\n"
     ]
    },
    {
     "name": "stderr",
     "output_type": "stream",
     "text": [
      "100%|██████████| 100/100 [00:00<00:00, 144.41it/s]\n"
     ]
    },
    {
     "name": "stdout",
     "output_type": "stream",
     "text": [
      "Computing phase diagram for p = 0.32\n"
     ]
    },
    {
     "name": "stderr",
     "output_type": "stream",
     "text": [
      "100%|██████████| 100/100 [00:00<00:00, 144.66it/s]\n"
     ]
    },
    {
     "name": "stdout",
     "output_type": "stream",
     "text": [
      "Computing phase diagram for p = 0.34\n"
     ]
    },
    {
     "name": "stderr",
     "output_type": "stream",
     "text": [
      "100%|██████████| 100/100 [00:00<00:00, 143.88it/s]\n"
     ]
    },
    {
     "name": "stdout",
     "output_type": "stream",
     "text": [
      "Computing phase diagram for p = 0.36\n"
     ]
    },
    {
     "name": "stderr",
     "output_type": "stream",
     "text": [
      "100%|██████████| 100/100 [00:00<00:00, 125.73it/s]\n"
     ]
    },
    {
     "name": "stdout",
     "output_type": "stream",
     "text": [
      "Computing phase diagram for p = 0.38\n"
     ]
    },
    {
     "name": "stderr",
     "output_type": "stream",
     "text": [
      "100%|██████████| 100/100 [00:00<00:00, 144.47it/s]\n"
     ]
    },
    {
     "name": "stdout",
     "output_type": "stream",
     "text": [
      "Computing phase diagram for p = 0.4\n"
     ]
    },
    {
     "name": "stderr",
     "output_type": "stream",
     "text": [
      "100%|██████████| 100/100 [00:00<00:00, 144.10it/s]\n"
     ]
    },
    {
     "name": "stdout",
     "output_type": "stream",
     "text": [
      "Computing phase diagram for p = 0.42\n"
     ]
    },
    {
     "name": "stderr",
     "output_type": "stream",
     "text": [
      "100%|██████████| 100/100 [00:00<00:00, 143.76it/s]\n"
     ]
    },
    {
     "name": "stdout",
     "output_type": "stream",
     "text": [
      "Computing phase diagram for p = 0.44\n"
     ]
    },
    {
     "name": "stderr",
     "output_type": "stream",
     "text": [
      "100%|██████████| 100/100 [00:00<00:00, 143.95it/s]\n"
     ]
    },
    {
     "name": "stdout",
     "output_type": "stream",
     "text": [
      "Computing phase diagram for p = 0.46\n"
     ]
    },
    {
     "name": "stderr",
     "output_type": "stream",
     "text": [
      "100%|██████████| 100/100 [00:00<00:00, 124.48it/s]\n"
     ]
    },
    {
     "name": "stdout",
     "output_type": "stream",
     "text": [
      "Computing phase diagram for p = 0.48\n"
     ]
    },
    {
     "name": "stderr",
     "output_type": "stream",
     "text": [
      "100%|██████████| 100/100 [00:00<00:00, 143.73it/s]\n"
     ]
    },
    {
     "name": "stdout",
     "output_type": "stream",
     "text": [
      "Computing phase diagram for p = 0.5\n"
     ]
    },
    {
     "name": "stderr",
     "output_type": "stream",
     "text": [
      "100%|██████████| 100/100 [00:00<00:00, 144.76it/s]\n"
     ]
    },
    {
     "name": "stdout",
     "output_type": "stream",
     "text": [
      "Computing phase diagram for p = 0.52\n"
     ]
    },
    {
     "name": "stderr",
     "output_type": "stream",
     "text": [
      "100%|██████████| 100/100 [00:00<00:00, 125.71it/s]\n"
     ]
    },
    {
     "name": "stdout",
     "output_type": "stream",
     "text": [
      "Computing phase diagram for p = 0.54\n"
     ]
    },
    {
     "name": "stderr",
     "output_type": "stream",
     "text": [
      "100%|██████████| 100/100 [00:00<00:00, 125.03it/s]\n"
     ]
    },
    {
     "name": "stdout",
     "output_type": "stream",
     "text": [
      "Computing phase diagram for p = 0.56\n"
     ]
    },
    {
     "name": "stderr",
     "output_type": "stream",
     "text": [
      "100%|██████████| 100/100 [00:00<00:00, 143.23it/s]\n"
     ]
    },
    {
     "name": "stdout",
     "output_type": "stream",
     "text": [
      "Computing phase diagram for p = 0.58\n"
     ]
    },
    {
     "name": "stderr",
     "output_type": "stream",
     "text": [
      "100%|██████████| 100/100 [00:00<00:00, 124.30it/s]\n"
     ]
    },
    {
     "name": "stdout",
     "output_type": "stream",
     "text": [
      "Computing phase diagram for p = 0.6\n"
     ]
    },
    {
     "name": "stderr",
     "output_type": "stream",
     "text": [
      "100%|██████████| 100/100 [00:00<00:00, 125.48it/s]\n"
     ]
    },
    {
     "name": "stdout",
     "output_type": "stream",
     "text": [
      "Computing phase diagram for p = 0.62\n"
     ]
    },
    {
     "name": "stderr",
     "output_type": "stream",
     "text": [
      "100%|██████████| 100/100 [00:00<00:00, 144.80it/s]\n"
     ]
    },
    {
     "name": "stdout",
     "output_type": "stream",
     "text": [
      "Computing phase diagram for p = 0.64\n"
     ]
    },
    {
     "name": "stderr",
     "output_type": "stream",
     "text": [
      "100%|██████████| 100/100 [00:00<00:00, 144.92it/s]\n"
     ]
    },
    {
     "name": "stdout",
     "output_type": "stream",
     "text": [
      "Computing phase diagram for p = 0.66\n"
     ]
    },
    {
     "name": "stderr",
     "output_type": "stream",
     "text": [
      "100%|██████████| 100/100 [00:00<00:00, 126.33it/s]\n"
     ]
    },
    {
     "name": "stdout",
     "output_type": "stream",
     "text": [
      "Computing phase diagram for p = 0.68\n"
     ]
    },
    {
     "name": "stderr",
     "output_type": "stream",
     "text": [
      "100%|██████████| 100/100 [00:00<00:00, 145.05it/s]\n"
     ]
    },
    {
     "name": "stdout",
     "output_type": "stream",
     "text": [
      "Computing phase diagram for p = 0.7000000000000001\n"
     ]
    },
    {
     "name": "stderr",
     "output_type": "stream",
     "text": [
      "100%|██████████| 100/100 [00:00<00:00, 144.86it/s]\n"
     ]
    },
    {
     "name": "stdout",
     "output_type": "stream",
     "text": [
      "Computing phase diagram for p = 0.72\n"
     ]
    },
    {
     "name": "stderr",
     "output_type": "stream",
     "text": [
      "100%|██████████| 100/100 [00:00<00:00, 125.58it/s]\n"
     ]
    },
    {
     "name": "stdout",
     "output_type": "stream",
     "text": [
      "Computing phase diagram for p = 0.74\n"
     ]
    },
    {
     "name": "stderr",
     "output_type": "stream",
     "text": [
      "100%|██████████| 100/100 [00:00<00:00, 145.18it/s]\n"
     ]
    },
    {
     "name": "stdout",
     "output_type": "stream",
     "text": [
      "Computing phase diagram for p = 0.76\n"
     ]
    },
    {
     "name": "stderr",
     "output_type": "stream",
     "text": [
      "100%|██████████| 100/100 [00:00<00:00, 125.68it/s]\n"
     ]
    },
    {
     "name": "stdout",
     "output_type": "stream",
     "text": [
      "Computing phase diagram for p = 0.78\n"
     ]
    },
    {
     "name": "stderr",
     "output_type": "stream",
     "text": [
      "100%|██████████| 100/100 [00:00<00:00, 125.77it/s]\n"
     ]
    },
    {
     "name": "stdout",
     "output_type": "stream",
     "text": [
      "Computing phase diagram for p = 0.8\n"
     ]
    },
    {
     "name": "stderr",
     "output_type": "stream",
     "text": [
      "100%|██████████| 100/100 [00:00<00:00, 124.94it/s]\n"
     ]
    },
    {
     "name": "stdout",
     "output_type": "stream",
     "text": [
      "Computing phase diagram for p = 0.8200000000000001\n"
     ]
    },
    {
     "name": "stderr",
     "output_type": "stream",
     "text": [
      "100%|██████████| 100/100 [00:00<00:00, 125.82it/s]\n"
     ]
    },
    {
     "name": "stdout",
     "output_type": "stream",
     "text": [
      "Computing phase diagram for p = 0.84\n"
     ]
    },
    {
     "name": "stderr",
     "output_type": "stream",
     "text": [
      "100%|██████████| 100/100 [00:00<00:00, 145.26it/s]\n"
     ]
    },
    {
     "name": "stdout",
     "output_type": "stream",
     "text": [
      "Computing phase diagram for p = 0.86\n"
     ]
    },
    {
     "name": "stderr",
     "output_type": "stream",
     "text": [
      "100%|██████████| 100/100 [00:00<00:00, 126.54it/s]\n"
     ]
    },
    {
     "name": "stdout",
     "output_type": "stream",
     "text": [
      "Computing phase diagram for p = 0.88\n"
     ]
    },
    {
     "name": "stderr",
     "output_type": "stream",
     "text": [
      "100%|██████████| 100/100 [00:00<00:00, 144.80it/s]\n"
     ]
    },
    {
     "name": "stdout",
     "output_type": "stream",
     "text": [
      "Computing phase diagram for p = 0.9\n"
     ]
    },
    {
     "name": "stderr",
     "output_type": "stream",
     "text": [
      "100%|██████████| 100/100 [00:00<00:00, 144.33it/s]\n"
     ]
    },
    {
     "name": "stdout",
     "output_type": "stream",
     "text": [
      "Computing phase diagram for p = 0.92\n"
     ]
    },
    {
     "name": "stderr",
     "output_type": "stream",
     "text": [
      "100%|██████████| 100/100 [00:00<00:00, 126.31it/s]\n"
     ]
    },
    {
     "name": "stdout",
     "output_type": "stream",
     "text": [
      "Computing phase diagram for p = 0.9400000000000001\n"
     ]
    },
    {
     "name": "stderr",
     "output_type": "stream",
     "text": [
      "100%|██████████| 100/100 [00:00<00:00, 127.26it/s]\n"
     ]
    },
    {
     "name": "stdout",
     "output_type": "stream",
     "text": [
      "Computing phase diagram for p = 0.96\n"
     ]
    },
    {
     "name": "stderr",
     "output_type": "stream",
     "text": [
      "100%|██████████| 100/100 [00:00<00:00, 146.26it/s]\n"
     ]
    },
    {
     "name": "stdout",
     "output_type": "stream",
     "text": [
      "Computing phase diagram for p = 0.98\n"
     ]
    },
    {
     "name": "stderr",
     "output_type": "stream",
     "text": [
      "100%|██████████| 100/100 [00:00<00:00, 125.30it/s]\n"
     ]
    },
    {
     "name": "stdout",
     "output_type": "stream",
     "text": [
      "Computing phase diagram for p = 1.0\n"
     ]
    },
    {
     "name": "stderr",
     "output_type": "stream",
     "text": [
      "100%|██████████| 100/100 [00:00<00:00, 126.81it/s]\n"
     ]
    }
   ],
   "source": [
    "N = 1000\n",
    "k = 5\n",
    "E = int(N * k / 2)\n",
    "G = nx.gnm_random_graph(N, E)\n",
    "\n",
    "p_range = np.linspace(0.0, 1.0, 51)\n",
    "num_samples = 100\n",
    "\n",
    "bp_phase_diagram = get_phase_diagram(G, p_range, num_samples, ordinary_bond_percolation)\n",
    "sp_phase_diagram = get_phase_diagram(G, p_range, num_samples, ordinary_site_percolation)\n"
   ]
  },
  {
   "cell_type": "code",
   "execution_count": 149,
   "metadata": {},
   "outputs": [
    {
     "data": {
      "image/png": "[encoded data removed]",
      "text/plain": [
       "<Figure size 2400x600 with 3 Axes>"
      ]
     },
     "metadata": {},
     "output_type": "display_data"
    }
   ],
   "source": [
    "fig, ax = plt.subplots(ncols=3, figsize=(24, 6))\n",
    "\n",
    "ax[0].plot(bp_phase_diagram['p'], bp_phase_diagram['LCC'], c='k', ls='-', lw=3., label=r'Bond Percolation')\n",
    "ax[0].plot(sp_phase_diagram['p'], sp_phase_diagram['LCC'], c='r', ls='--', lw=3., label=r'Site Percolation')\n",
    "ax[0].axvline(x=1/k, c='b', ls='-', alpha=0.5, lw=4, label=r'$p_c=1/\\bar{k}$')\n",
    "\n",
    "ax[0].set_xlabel(r'$p$', fontsize=20)\n",
    "ax[0].set_ylabel(r'$P_{\\infty}$', fontsize=20)\n",
    "ax[0].tick_params('both', labelsize=20)\n",
    "ax[0].legend(fontsize=15)\n",
    "\n",
    "ax[1].plot(bp_phase_diagram['p'], bp_phase_diagram['SLCC'], c='k', ls='-', lw=3., label=r'Bond Percolation')\n",
    "ax[1].plot(sp_phase_diagram['p'], sp_phase_diagram['SLCC'], c='r', ls='--', lw=3., label=r'Site Percolation')\n",
    "ax[1].axvline(x=1/k, c='b', ls='-', alpha=0.5, lw=4, label=r'$p_c=1/\\bar{k}$')\n",
    "\n",
    "ax[1].set_xlabel(r'$p$', fontsize=20)\n",
    "ax[1].set_ylabel(r'SLCC', fontsize=20)\n",
    "ax[1].tick_params('both', labelsize=20)\n",
    "\n",
    "ax[2].plot(bp_phase_diagram['p'], bp_phase_diagram['susceptibility'], c='k', ls='-', lw=3., label=r'Bond Percolation')\n",
    "ax[2].plot(sp_phase_diagram['p'], sp_phase_diagram['susceptibility'], c='r', ls='--', lw=3., label=r'Site Percolation')\n",
    "ax[2].axvline(x=1/k, c='b', ls='-', alpha=0.5, lw=4, label=r'$p_c=1/\\bar{k}$')\n",
    "\n",
    "ax[2].set_xlabel(r'$p$', fontsize=20)\n",
    "ax[2].set_ylabel(r'$\\chi$', fontsize=20)\n",
    "ax[2].tick_params('both', labelsize=20)\n",
    "# ax[1].legend(fontsize=15)\n",
    "\n",
    "plt.tight_layout()\n",
    "plt.show()"
   ]
  },
  {
   "cell_type": "code",
   "execution_count": 150,
   "metadata": {},
   "outputs": [
    {
     "name": "stdout",
     "output_type": "stream",
     "text": [
      "Computing phase diagram for p = 0.0\n"
     ]
    },
    {
     "name": "stderr",
     "output_type": "stream",
     "text": [
      "  0%|          | 0/100 [00:00<?, ?it/s]"
     ]
    },
    {
     "name": "stderr",
     "output_type": "stream",
     "text": [
      "100%|██████████| 100/100 [00:00<00:00, 264.14it/s]\n"
     ]
    },
    {
     "name": "stdout",
     "output_type": "stream",
     "text": [
      "Computing phase diagram for p = 0.02\n"
     ]
    },
    {
     "name": "stderr",
     "output_type": "stream",
     "text": [
      "100%|██████████| 100/100 [00:00<00:00, 265.43it/s]\n"
     ]
    },
    {
     "name": "stdout",
     "output_type": "stream",
     "text": [
      "Computing phase diagram for p = 0.04\n"
     ]
    },
    {
     "name": "stderr",
     "output_type": "stream",
     "text": [
      "100%|██████████| 100/100 [00:00<00:00, 257.85it/s]\n"
     ]
    },
    {
     "name": "stdout",
     "output_type": "stream",
     "text": [
      "Computing phase diagram for p = 0.06\n"
     ]
    },
    {
     "name": "stderr",
     "output_type": "stream",
     "text": [
      "100%|██████████| 100/100 [00:00<00:00, 197.06it/s]\n"
     ]
    },
    {
     "name": "stdout",
     "output_type": "stream",
     "text": [
      "Computing phase diagram for p = 0.08\n"
     ]
    },
    {
     "name": "stderr",
     "output_type": "stream",
     "text": [
      "100%|██████████| 100/100 [00:00<00:00, 248.98it/s]\n"
     ]
    },
    {
     "name": "stdout",
     "output_type": "stream",
     "text": [
      "Computing phase diagram for p = 0.1\n"
     ]
    },
    {
     "name": "stderr",
     "output_type": "stream",
     "text": [
      "100%|██████████| 100/100 [00:00<00:00, 250.16it/s]\n"
     ]
    },
    {
     "name": "stdout",
     "output_type": "stream",
     "text": [
      "Computing phase diagram for p = 0.12\n"
     ]
    },
    {
     "name": "stderr",
     "output_type": "stream",
     "text": [
      "100%|██████████| 100/100 [00:00<00:00, 246.18it/s]\n"
     ]
    },
    {
     "name": "stdout",
     "output_type": "stream",
     "text": [
      "Computing phase diagram for p = 0.14\n"
     ]
    },
    {
     "name": "stderr",
     "output_type": "stream",
     "text": [
      "100%|██████████| 100/100 [00:00<00:00, 243.05it/s]\n"
     ]
    },
    {
     "name": "stdout",
     "output_type": "stream",
     "text": [
      "Computing phase diagram for p = 0.16\n"
     ]
    },
    {
     "name": "stderr",
     "output_type": "stream",
     "text": [
      "100%|██████████| 100/100 [00:00<00:00, 238.97it/s]\n"
     ]
    },
    {
     "name": "stdout",
     "output_type": "stream",
     "text": [
      "Computing phase diagram for p = 0.18\n"
     ]
    },
    {
     "name": "stderr",
     "output_type": "stream",
     "text": [
      "100%|██████████| 100/100 [00:00<00:00, 236.17it/s]\n"
     ]
    },
    {
     "name": "stdout",
     "output_type": "stream",
     "text": [
      "Computing phase diagram for p = 0.2\n"
     ]
    },
    {
     "name": "stderr",
     "output_type": "stream",
     "text": [
      "100%|██████████| 100/100 [00:00<00:00, 185.93it/s]\n"
     ]
    },
    {
     "name": "stdout",
     "output_type": "stream",
     "text": [
      "Computing phase diagram for p = 0.22\n"
     ]
    },
    {
     "name": "stderr",
     "output_type": "stream",
     "text": [
      "100%|██████████| 100/100 [00:00<00:00, 229.43it/s]\n"
     ]
    },
    {
     "name": "stdout",
     "output_type": "stream",
     "text": [
      "Computing phase diagram for p = 0.24\n"
     ]
    },
    {
     "name": "stderr",
     "output_type": "stream",
     "text": [
      "100%|██████████| 100/100 [00:00<00:00, 223.86it/s]\n"
     ]
    },
    {
     "name": "stdout",
     "output_type": "stream",
     "text": [
      "Computing phase diagram for p = 0.26\n"
     ]
    },
    {
     "name": "stderr",
     "output_type": "stream",
     "text": [
      "100%|██████████| 100/100 [00:00<00:00, 179.26it/s]\n"
     ]
    },
    {
     "name": "stdout",
     "output_type": "stream",
     "text": [
      "Computing phase diagram for p = 0.28\n"
     ]
    },
    {
     "name": "stderr",
     "output_type": "stream",
     "text": [
      "100%|██████████| 100/100 [00:00<00:00, 217.95it/s]\n"
     ]
    },
    {
     "name": "stdout",
     "output_type": "stream",
     "text": [
      "Computing phase diagram for p = 0.3\n"
     ]
    },
    {
     "name": "stderr",
     "output_type": "stream",
     "text": [
      "100%|██████████| 100/100 [00:00<00:00, 176.72it/s]\n"
     ]
    },
    {
     "name": "stdout",
     "output_type": "stream",
     "text": [
      "Computing phase diagram for p = 0.32\n"
     ]
    },
    {
     "name": "stderr",
     "output_type": "stream",
     "text": [
      "100%|██████████| 100/100 [00:00<00:00, 215.46it/s]\n"
     ]
    },
    {
     "name": "stdout",
     "output_type": "stream",
     "text": [
      "Computing phase diagram for p = 0.34\n"
     ]
    },
    {
     "name": "stderr",
     "output_type": "stream",
     "text": [
      "100%|██████████| 100/100 [00:00<00:00, 212.48it/s]\n"
     ]
    },
    {
     "name": "stdout",
     "output_type": "stream",
     "text": [
      "Computing phase diagram for p = 0.36\n"
     ]
    },
    {
     "name": "stderr",
     "output_type": "stream",
     "text": [
      "100%|██████████| 100/100 [00:00<00:00, 171.44it/s]\n"
     ]
    },
    {
     "name": "stdout",
     "output_type": "stream",
     "text": [
      "Computing phase diagram for p = 0.38\n"
     ]
    },
    {
     "name": "stderr",
     "output_type": "stream",
     "text": [
      "100%|██████████| 100/100 [00:00<00:00, 206.79it/s]\n"
     ]
    },
    {
     "name": "stdout",
     "output_type": "stream",
     "text": [
      "Computing phase diagram for p = 0.4\n"
     ]
    },
    {
     "name": "stderr",
     "output_type": "stream",
     "text": [
      "100%|██████████| 100/100 [00:00<00:00, 204.18it/s]\n"
     ]
    },
    {
     "name": "stdout",
     "output_type": "stream",
     "text": [
      "Computing phase diagram for p = 0.42\n"
     ]
    },
    {
     "name": "stderr",
     "output_type": "stream",
     "text": [
      "100%|██████████| 100/100 [00:00<00:00, 165.63it/s]\n"
     ]
    },
    {
     "name": "stdout",
     "output_type": "stream",
     "text": [
      "Computing phase diagram for p = 0.44\n"
     ]
    },
    {
     "name": "stderr",
     "output_type": "stream",
     "text": [
      "100%|██████████| 100/100 [00:00<00:00, 195.74it/s]\n"
     ]
    },
    {
     "name": "stdout",
     "output_type": "stream",
     "text": [
      "Computing phase diagram for p = 0.46\n"
     ]
    },
    {
     "name": "stderr",
     "output_type": "stream",
     "text": [
      "100%|██████████| 100/100 [00:00<00:00, 161.38it/s]\n"
     ]
    },
    {
     "name": "stdout",
     "output_type": "stream",
     "text": [
      "Computing phase diagram for p = 0.48\n"
     ]
    },
    {
     "name": "stderr",
     "output_type": "stream",
     "text": [
      "100%|██████████| 100/100 [00:00<00:00, 191.55it/s]\n"
     ]
    },
    {
     "name": "stdout",
     "output_type": "stream",
     "text": [
      "Computing phase diagram for p = 0.5\n"
     ]
    },
    {
     "name": "stderr",
     "output_type": "stream",
     "text": [
      "100%|██████████| 100/100 [00:00<00:00, 156.99it/s]\n"
     ]
    },
    {
     "name": "stdout",
     "output_type": "stream",
     "text": [
      "Computing phase diagram for p = 0.52\n"
     ]
    },
    {
     "name": "stderr",
     "output_type": "stream",
     "text": [
      "100%|██████████| 100/100 [00:00<00:00, 186.09it/s]\n"
     ]
    },
    {
     "name": "stdout",
     "output_type": "stream",
     "text": [
      "Computing phase diagram for p = 0.54\n"
     ]
    },
    {
     "name": "stderr",
     "output_type": "stream",
     "text": [
      "100%|██████████| 100/100 [00:00<00:00, 154.61it/s]\n"
     ]
    },
    {
     "name": "stdout",
     "output_type": "stream",
     "text": [
      "Computing phase diagram for p = 0.56\n"
     ]
    },
    {
     "name": "stderr",
     "output_type": "stream",
     "text": [
      "100%|██████████| 100/100 [00:00<00:00, 152.59it/s]\n"
     ]
    },
    {
     "name": "stdout",
     "output_type": "stream",
     "text": [
      "Computing phase diagram for p = 0.58\n"
     ]
    },
    {
     "name": "stderr",
     "output_type": "stream",
     "text": [
      "100%|██████████| 100/100 [00:00<00:00, 180.43it/s]\n"
     ]
    },
    {
     "name": "stdout",
     "output_type": "stream",
     "text": [
      "Computing phase diagram for p = 0.6\n"
     ]
    },
    {
     "name": "stderr",
     "output_type": "stream",
     "text": [
      "100%|██████████| 100/100 [00:00<00:00, 149.77it/s]\n"
     ]
    },
    {
     "name": "stdout",
     "output_type": "stream",
     "text": [
      "Computing phase diagram for p = 0.62\n"
     ]
    },
    {
     "name": "stderr",
     "output_type": "stream",
     "text": [
      "100%|██████████| 100/100 [00:00<00:00, 176.00it/s]\n"
     ]
    },
    {
     "name": "stdout",
     "output_type": "stream",
     "text": [
      "Computing phase diagram for p = 0.64\n"
     ]
    },
    {
     "name": "stderr",
     "output_type": "stream",
     "text": [
      "100%|██████████| 100/100 [00:00<00:00, 146.85it/s]\n"
     ]
    },
    {
     "name": "stdout",
     "output_type": "stream",
     "text": [
      "Computing phase diagram for p = 0.66\n"
     ]
    },
    {
     "name": "stderr",
     "output_type": "stream",
     "text": [
      "100%|██████████| 100/100 [00:00<00:00, 172.12it/s]\n"
     ]
    },
    {
     "name": "stdout",
     "output_type": "stream",
     "text": [
      "Computing phase diagram for p = 0.68\n"
     ]
    },
    {
     "name": "stderr",
     "output_type": "stream",
     "text": [
      "100%|██████████| 100/100 [00:00<00:00, 143.65it/s]\n"
     ]
    },
    {
     "name": "stdout",
     "output_type": "stream",
     "text": [
      "Computing phase diagram for p = 0.7000000000000001\n"
     ]
    },
    {
     "name": "stderr",
     "output_type": "stream",
     "text": [
      "100%|██████████| 100/100 [00:00<00:00, 142.18it/s]\n"
     ]
    },
    {
     "name": "stdout",
     "output_type": "stream",
     "text": [
      "Computing phase diagram for p = 0.72\n"
     ]
    },
    {
     "name": "stderr",
     "output_type": "stream",
     "text": [
      "100%|██████████| 100/100 [00:00<00:00, 140.98it/s]\n"
     ]
    },
    {
     "name": "stdout",
     "output_type": "stream",
     "text": [
      "Computing phase diagram for p = 0.74\n"
     ]
    },
    {
     "name": "stderr",
     "output_type": "stream",
     "text": [
      "100%|██████████| 100/100 [00:00<00:00, 163.14it/s]\n"
     ]
    },
    {
     "name": "stdout",
     "output_type": "stream",
     "text": [
      "Computing phase diagram for p = 0.76\n"
     ]
    },
    {
     "name": "stderr",
     "output_type": "stream",
     "text": [
      "100%|██████████| 100/100 [00:00<00:00, 137.18it/s]\n"
     ]
    },
    {
     "name": "stdout",
     "output_type": "stream",
     "text": [
      "Computing phase diagram for p = 0.78\n"
     ]
    },
    {
     "name": "stderr",
     "output_type": "stream",
     "text": [
      "100%|██████████| 100/100 [00:00<00:00, 138.12it/s]\n"
     ]
    },
    {
     "name": "stdout",
     "output_type": "stream",
     "text": [
      "Computing phase diagram for p = 0.8\n"
     ]
    },
    {
     "name": "stderr",
     "output_type": "stream",
     "text": [
      "100%|██████████| 100/100 [00:00<00:00, 136.59it/s]\n"
     ]
    },
    {
     "name": "stdout",
     "output_type": "stream",
     "text": [
      "Computing phase diagram for p = 0.8200000000000001\n"
     ]
    },
    {
     "name": "stderr",
     "output_type": "stream",
     "text": [
      "100%|██████████| 100/100 [00:00<00:00, 155.32it/s]\n"
     ]
    },
    {
     "name": "stdout",
     "output_type": "stream",
     "text": [
      "Computing phase diagram for p = 0.84\n"
     ]
    },
    {
     "name": "stderr",
     "output_type": "stream",
     "text": [
      "100%|██████████| 100/100 [00:00<00:00, 132.01it/s]\n"
     ]
    },
    {
     "name": "stdout",
     "output_type": "stream",
     "text": [
      "Computing phase diagram for p = 0.86\n"
     ]
    },
    {
     "name": "stderr",
     "output_type": "stream",
     "text": [
      "100%|██████████| 100/100 [00:00<00:00, 131.49it/s]\n"
     ]
    },
    {
     "name": "stdout",
     "output_type": "stream",
     "text": [
      "Computing phase diagram for p = 0.88\n"
     ]
    },
    {
     "name": "stderr",
     "output_type": "stream",
     "text": [
      "100%|██████████| 100/100 [00:00<00:00, 130.09it/s]\n"
     ]
    },
    {
     "name": "stdout",
     "output_type": "stream",
     "text": [
      "Computing phase diagram for p = 0.9\n"
     ]
    },
    {
     "name": "stderr",
     "output_type": "stream",
     "text": [
      "100%|██████████| 100/100 [00:00<00:00, 128.67it/s]\n"
     ]
    },
    {
     "name": "stdout",
     "output_type": "stream",
     "text": [
      "Computing phase diagram for p = 0.92\n"
     ]
    },
    {
     "name": "stderr",
     "output_type": "stream",
     "text": [
      "100%|██████████| 100/100 [00:00<00:00, 128.02it/s]\n"
     ]
    },
    {
     "name": "stdout",
     "output_type": "stream",
     "text": [
      "Computing phase diagram for p = 0.9400000000000001\n"
     ]
    },
    {
     "name": "stderr",
     "output_type": "stream",
     "text": [
      "100%|██████████| 100/100 [00:00<00:00, 126.85it/s]\n"
     ]
    },
    {
     "name": "stdout",
     "output_type": "stream",
     "text": [
      "Computing phase diagram for p = 0.96\n"
     ]
    },
    {
     "name": "stderr",
     "output_type": "stream",
     "text": [
      "100%|██████████| 100/100 [00:00<00:00, 125.70it/s]\n"
     ]
    },
    {
     "name": "stdout",
     "output_type": "stream",
     "text": [
      "Computing phase diagram for p = 0.98\n"
     ]
    },
    {
     "name": "stderr",
     "output_type": "stream",
     "text": [
      "100%|██████████| 100/100 [00:00<00:00, 125.52it/s]\n"
     ]
    },
    {
     "name": "stdout",
     "output_type": "stream",
     "text": [
      "Computing phase diagram for p = 1.0\n"
     ]
    },
    {
     "name": "stderr",
     "output_type": "stream",
     "text": [
      "100%|██████████| 100/100 [00:00<00:00, 124.65it/s]\n"
     ]
    },
    {
     "name": "stdout",
     "output_type": "stream",
     "text": [
      "Computing phase diagram for p = 0.0\n"
     ]
    },
    {
     "name": "stderr",
     "output_type": "stream",
     "text": [
      "100%|██████████| 100/100 [00:02<00:00, 45.04it/s]\n"
     ]
    },
    {
     "name": "stdout",
     "output_type": "stream",
     "text": [
      "Computing phase diagram for p = 0.02\n"
     ]
    },
    {
     "name": "stderr",
     "output_type": "stream",
     "text": [
      "100%|██████████| 100/100 [00:02<00:00, 42.58it/s]\n"
     ]
    },
    {
     "name": "stdout",
     "output_type": "stream",
     "text": [
      "Computing phase diagram for p = 0.04\n"
     ]
    },
    {
     "name": "stderr",
     "output_type": "stream",
     "text": [
      "100%|██████████| 100/100 [00:02<00:00, 44.75it/s]\n"
     ]
    },
    {
     "name": "stdout",
     "output_type": "stream",
     "text": [
      "Computing phase diagram for p = 0.06\n"
     ]
    },
    {
     "name": "stderr",
     "output_type": "stream",
     "text": [
      "100%|██████████| 100/100 [00:02<00:00, 44.72it/s]\n"
     ]
    },
    {
     "name": "stdout",
     "output_type": "stream",
     "text": [
      "Computing phase diagram for p = 0.08\n"
     ]
    },
    {
     "name": "stderr",
     "output_type": "stream",
     "text": [
      "100%|██████████| 100/100 [00:02<00:00, 44.25it/s]\n"
     ]
    },
    {
     "name": "stdout",
     "output_type": "stream",
     "text": [
      "Computing phase diagram for p = 0.1\n"
     ]
    },
    {
     "name": "stderr",
     "output_type": "stream",
     "text": [
      "100%|██████████| 100/100 [00:02<00:00, 44.42it/s]\n"
     ]
    },
    {
     "name": "stdout",
     "output_type": "stream",
     "text": [
      "Computing phase diagram for p = 0.12\n"
     ]
    },
    {
     "name": "stderr",
     "output_type": "stream",
     "text": [
      "100%|██████████| 100/100 [00:02<00:00, 46.82it/s]\n"
     ]
    },
    {
     "name": "stdout",
     "output_type": "stream",
     "text": [
      "Computing phase diagram for p = 0.14\n"
     ]
    },
    {
     "name": "stderr",
     "output_type": "stream",
     "text": [
      "100%|██████████| 100/100 [00:02<00:00, 42.25it/s]\n"
     ]
    },
    {
     "name": "stdout",
     "output_type": "stream",
     "text": [
      "Computing phase diagram for p = 0.16\n"
     ]
    },
    {
     "name": "stderr",
     "output_type": "stream",
     "text": [
      "100%|██████████| 100/100 [00:02<00:00, 46.83it/s]\n"
     ]
    },
    {
     "name": "stdout",
     "output_type": "stream",
     "text": [
      "Computing phase diagram for p = 0.18\n"
     ]
    },
    {
     "name": "stderr",
     "output_type": "stream",
     "text": [
      "100%|██████████| 100/100 [00:02<00:00, 44.38it/s]\n"
     ]
    },
    {
     "name": "stdout",
     "output_type": "stream",
     "text": [
      "Computing phase diagram for p = 0.2\n"
     ]
    },
    {
     "name": "stderr",
     "output_type": "stream",
     "text": [
      "100%|██████████| 100/100 [00:02<00:00, 44.31it/s]\n"
     ]
    },
    {
     "name": "stdout",
     "output_type": "stream",
     "text": [
      "Computing phase diagram for p = 0.22\n"
     ]
    },
    {
     "name": "stderr",
     "output_type": "stream",
     "text": [
      "100%|██████████| 100/100 [00:02<00:00, 46.70it/s]\n"
     ]
    },
    {
     "name": "stdout",
     "output_type": "stream",
     "text": [
      "Computing phase diagram for p = 0.24\n"
     ]
    },
    {
     "name": "stderr",
     "output_type": "stream",
     "text": [
      "100%|██████████| 100/100 [00:02<00:00, 43.98it/s]\n"
     ]
    },
    {
     "name": "stdout",
     "output_type": "stream",
     "text": [
      "Computing phase diagram for p = 0.26\n"
     ]
    },
    {
     "name": "stderr",
     "output_type": "stream",
     "text": [
      "100%|██████████| 100/100 [00:02<00:00, 44.36it/s]\n"
     ]
    },
    {
     "name": "stdout",
     "output_type": "stream",
     "text": [
      "Computing phase diagram for p = 0.28\n"
     ]
    },
    {
     "name": "stderr",
     "output_type": "stream",
     "text": [
      "100%|██████████| 100/100 [00:02<00:00, 44.29it/s]\n"
     ]
    },
    {
     "name": "stdout",
     "output_type": "stream",
     "text": [
      "Computing phase diagram for p = 0.3\n"
     ]
    },
    {
     "name": "stderr",
     "output_type": "stream",
     "text": [
      "100%|██████████| 100/100 [00:02<00:00, 46.97it/s]\n"
     ]
    },
    {
     "name": "stdout",
     "output_type": "stream",
     "text": [
      "Computing phase diagram for p = 0.32\n"
     ]
    },
    {
     "name": "stderr",
     "output_type": "stream",
     "text": [
      "100%|██████████| 100/100 [00:02<00:00, 44.38it/s]\n"
     ]
    },
    {
     "name": "stdout",
     "output_type": "stream",
     "text": [
      "Computing phase diagram for p = 0.34\n"
     ]
    },
    {
     "name": "stderr",
     "output_type": "stream",
     "text": [
      "100%|██████████| 100/100 [00:02<00:00, 46.88it/s]\n"
     ]
    },
    {
     "name": "stdout",
     "output_type": "stream",
     "text": [
      "Computing phase diagram for p = 0.36\n"
     ]
    },
    {
     "name": "stderr",
     "output_type": "stream",
     "text": [
      "100%|██████████| 100/100 [00:02<00:00, 42.41it/s]\n"
     ]
    },
    {
     "name": "stdout",
     "output_type": "stream",
     "text": [
      "Computing phase diagram for p = 0.38\n"
     ]
    },
    {
     "name": "stderr",
     "output_type": "stream",
     "text": [
      "100%|██████████| 100/100 [00:02<00:00, 46.98it/s]\n"
     ]
    },
    {
     "name": "stdout",
     "output_type": "stream",
     "text": [
      "Computing phase diagram for p = 0.4\n"
     ]
    },
    {
     "name": "stderr",
     "output_type": "stream",
     "text": [
      "100%|██████████| 100/100 [00:02<00:00, 42.18it/s]\n"
     ]
    },
    {
     "name": "stdout",
     "output_type": "stream",
     "text": [
      "Computing phase diagram for p = 0.42\n"
     ]
    },
    {
     "name": "stderr",
     "output_type": "stream",
     "text": [
      "100%|██████████| 100/100 [00:02<00:00, 46.93it/s]\n"
     ]
    },
    {
     "name": "stdout",
     "output_type": "stream",
     "text": [
      "Computing phase diagram for p = 0.44\n"
     ]
    },
    {
     "name": "stderr",
     "output_type": "stream",
     "text": [
      "100%|██████████| 100/100 [00:02<00:00, 42.31it/s]\n"
     ]
    },
    {
     "name": "stdout",
     "output_type": "stream",
     "text": [
      "Computing phase diagram for p = 0.46\n"
     ]
    },
    {
     "name": "stderr",
     "output_type": "stream",
     "text": [
      "100%|██████████| 100/100 [00:02<00:00, 44.55it/s]\n"
     ]
    },
    {
     "name": "stdout",
     "output_type": "stream",
     "text": [
      "Computing phase diagram for p = 0.48\n"
     ]
    },
    {
     "name": "stderr",
     "output_type": "stream",
     "text": [
      "100%|██████████| 100/100 [00:02<00:00, 42.36it/s]\n"
     ]
    },
    {
     "name": "stdout",
     "output_type": "stream",
     "text": [
      "Computing phase diagram for p = 0.5\n"
     ]
    },
    {
     "name": "stderr",
     "output_type": "stream",
     "text": [
      "100%|██████████| 100/100 [00:02<00:00, 44.22it/s]\n"
     ]
    },
    {
     "name": "stdout",
     "output_type": "stream",
     "text": [
      "Computing phase diagram for p = 0.52\n"
     ]
    },
    {
     "name": "stderr",
     "output_type": "stream",
     "text": [
      "100%|██████████| 100/100 [00:02<00:00, 42.31it/s]\n"
     ]
    },
    {
     "name": "stdout",
     "output_type": "stream",
     "text": [
      "Computing phase diagram for p = 0.54\n"
     ]
    },
    {
     "name": "stderr",
     "output_type": "stream",
     "text": [
      "100%|██████████| 100/100 [00:02<00:00, 44.44it/s]\n"
     ]
    },
    {
     "name": "stdout",
     "output_type": "stream",
     "text": [
      "Computing phase diagram for p = 0.56\n"
     ]
    },
    {
     "name": "stderr",
     "output_type": "stream",
     "text": [
      "100%|██████████| 100/100 [00:02<00:00, 42.28it/s]\n"
     ]
    },
    {
     "name": "stdout",
     "output_type": "stream",
     "text": [
      "Computing phase diagram for p = 0.58\n"
     ]
    },
    {
     "name": "stderr",
     "output_type": "stream",
     "text": [
      "100%|██████████| 100/100 [00:02<00:00, 42.32it/s]\n"
     ]
    },
    {
     "name": "stdout",
     "output_type": "stream",
     "text": [
      "Computing phase diagram for p = 0.6\n"
     ]
    },
    {
     "name": "stderr",
     "output_type": "stream",
     "text": [
      "100%|██████████| 100/100 [00:02<00:00, 44.49it/s]\n"
     ]
    },
    {
     "name": "stdout",
     "output_type": "stream",
     "text": [
      "Computing phase diagram for p = 0.62\n"
     ]
    },
    {
     "name": "stderr",
     "output_type": "stream",
     "text": [
      "100%|██████████| 100/100 [00:02<00:00, 40.37it/s]\n"
     ]
    },
    {
     "name": "stdout",
     "output_type": "stream",
     "text": [
      "Computing phase diagram for p = 0.64\n"
     ]
    },
    {
     "name": "stderr",
     "output_type": "stream",
     "text": [
      "100%|██████████| 100/100 [00:02<00:00, 42.29it/s]\n"
     ]
    },
    {
     "name": "stdout",
     "output_type": "stream",
     "text": [
      "Computing phase diagram for p = 0.66\n"
     ]
    },
    {
     "name": "stderr",
     "output_type": "stream",
     "text": [
      "100%|██████████| 100/100 [00:02<00:00, 42.38it/s]\n"
     ]
    },
    {
     "name": "stdout",
     "output_type": "stream",
     "text": [
      "Computing phase diagram for p = 0.68\n"
     ]
    },
    {
     "name": "stderr",
     "output_type": "stream",
     "text": [
      "100%|██████████| 100/100 [00:02<00:00, 42.29it/s]\n"
     ]
    },
    {
     "name": "stdout",
     "output_type": "stream",
     "text": [
      "Computing phase diagram for p = 0.7000000000000001\n"
     ]
    },
    {
     "name": "stderr",
     "output_type": "stream",
     "text": [
      "100%|██████████| 100/100 [00:02<00:00, 42.32it/s]\n"
     ]
    },
    {
     "name": "stdout",
     "output_type": "stream",
     "text": [
      "Computing phase diagram for p = 0.72\n"
     ]
    },
    {
     "name": "stderr",
     "output_type": "stream",
     "text": [
      "100%|██████████| 100/100 [00:02<00:00, 40.57it/s]\n"
     ]
    },
    {
     "name": "stdout",
     "output_type": "stream",
     "text": [
      "Computing phase diagram for p = 0.74\n"
     ]
    },
    {
     "name": "stderr",
     "output_type": "stream",
     "text": [
      "100%|██████████| 100/100 [00:02<00:00, 42.19it/s]\n"
     ]
    },
    {
     "name": "stdout",
     "output_type": "stream",
     "text": [
      "Computing phase diagram for p = 0.76\n"
     ]
    },
    {
     "name": "stderr",
     "output_type": "stream",
     "text": [
      "100%|██████████| 100/100 [00:02<00:00, 42.52it/s]\n"
     ]
    },
    {
     "name": "stdout",
     "output_type": "stream",
     "text": [
      "Computing phase diagram for p = 0.78\n"
     ]
    },
    {
     "name": "stderr",
     "output_type": "stream",
     "text": [
      "100%|██████████| 100/100 [00:02<00:00, 40.52it/s]\n"
     ]
    },
    {
     "name": "stdout",
     "output_type": "stream",
     "text": [
      "Computing phase diagram for p = 0.8\n"
     ]
    },
    {
     "name": "stderr",
     "output_type": "stream",
     "text": [
      "100%|██████████| 100/100 [00:02<00:00, 40.55it/s]\n"
     ]
    },
    {
     "name": "stdout",
     "output_type": "stream",
     "text": [
      "Computing phase diagram for p = 0.8200000000000001\n"
     ]
    },
    {
     "name": "stderr",
     "output_type": "stream",
     "text": [
      "100%|██████████| 100/100 [00:02<00:00, 40.24it/s]\n"
     ]
    },
    {
     "name": "stdout",
     "output_type": "stream",
     "text": [
      "Computing phase diagram for p = 0.84\n"
     ]
    },
    {
     "name": "stderr",
     "output_type": "stream",
     "text": [
      "100%|██████████| 100/100 [00:02<00:00, 42.25it/s]\n"
     ]
    },
    {
     "name": "stdout",
     "output_type": "stream",
     "text": [
      "Computing phase diagram for p = 0.86\n"
     ]
    },
    {
     "name": "stderr",
     "output_type": "stream",
     "text": [
      "100%|██████████| 100/100 [00:02<00:00, 40.50it/s]\n"
     ]
    },
    {
     "name": "stdout",
     "output_type": "stream",
     "text": [
      "Computing phase diagram for p = 0.88\n"
     ]
    },
    {
     "name": "stderr",
     "output_type": "stream",
     "text": [
      "100%|██████████| 100/100 [00:02<00:00, 38.73it/s]\n"
     ]
    },
    {
     "name": "stdout",
     "output_type": "stream",
     "text": [
      "Computing phase diagram for p = 0.9\n"
     ]
    },
    {
     "name": "stderr",
     "output_type": "stream",
     "text": [
      "100%|██████████| 100/100 [00:02<00:00, 40.34it/s]\n"
     ]
    },
    {
     "name": "stdout",
     "output_type": "stream",
     "text": [
      "Computing phase diagram for p = 0.92\n"
     ]
    },
    {
     "name": "stderr",
     "output_type": "stream",
     "text": [
      "100%|██████████| 100/100 [00:02<00:00, 40.41it/s]\n"
     ]
    },
    {
     "name": "stdout",
     "output_type": "stream",
     "text": [
      "Computing phase diagram for p = 0.9400000000000001\n"
     ]
    },
    {
     "name": "stderr",
     "output_type": "stream",
     "text": [
      "100%|██████████| 100/100 [00:02<00:00, 40.22it/s]\n"
     ]
    },
    {
     "name": "stdout",
     "output_type": "stream",
     "text": [
      "Computing phase diagram for p = 0.96\n"
     ]
    },
    {
     "name": "stderr",
     "output_type": "stream",
     "text": [
      "100%|██████████| 100/100 [00:02<00:00, 38.75it/s]\n"
     ]
    },
    {
     "name": "stdout",
     "output_type": "stream",
     "text": [
      "Computing phase diagram for p = 0.98\n"
     ]
    },
    {
     "name": "stderr",
     "output_type": "stream",
     "text": [
      "100%|██████████| 100/100 [00:02<00:00, 40.41it/s]\n"
     ]
    },
    {
     "name": "stdout",
     "output_type": "stream",
     "text": [
      "Computing phase diagram for p = 1.0\n"
     ]
    },
    {
     "name": "stderr",
     "output_type": "stream",
     "text": [
      "100%|██████████| 100/100 [00:02<00:00, 38.79it/s]\n"
     ]
    }
   ],
   "source": [
    "def random_pl(k_min, k_max, degree_exponent):\n",
    "    tmp_max = np.power(k_max, 1.0-degree_exponent)\n",
    "    tmp_min = np.power(k_min, 1.0-degree_exponent)\n",
    "    return int(np.power( (tmp_max - (tmp_max - tmp_min) * random.random()), 1.0/(1.0-degree_exponent)))\n",
    "\n",
    "N = 1000\n",
    "degree_exponent = 2.1\n",
    "k_min = 3\n",
    "k_max = int(np.sqrt(N))\n",
    "\n",
    "\n",
    "degree_sequence = [random_pl(k_min, k_max, degree_exponent) for n in range(N)]\n",
    "if sum(degree_sequence) % 2 != 0:\n",
    "    r = random.randint(0, N)\n",
    "    degree_sequence[r] += 1\n",
    "\n",
    "G = nx.configuration_model(degree_sequence)\n",
    "G.remove_edges_from(nx.selfloop_edges(G))\n",
    "\n",
    "# don't forget the nodes without any edges!\n",
    "for n in range(N):\n",
    "    G.add_node(n)\n",
    "\n",
    "\n",
    "\n",
    "p_range = np.linspace(0.0, 1.0, 51)\n",
    "num_samples = 100\n",
    "\n",
    "bp_phase_diagram = get_phase_diagram(G, p_range, num_samples, ordinary_bond_percolation)\n",
    "sp_phase_diagram = get_phase_diagram(G, p_range, num_samples, ordinary_site_percolation)\n"
   ]
  },
  {
   "cell_type": "code",
   "execution_count": 152,
   "metadata": {},
   "outputs": [
    {
     "data": {
      "image/png": "[encoded data removed]",
      "text/plain": [
       "<Figure size 2400x600 with 3 Axes>"
      ]
     },
     "metadata": {},
     "output_type": "display_data"
    }
   ],
   "source": [
    "fig, ax = plt.subplots(ncols=3, figsize=(24, 6))\n",
    "\n",
    "ax[0].plot(bp_phase_diagram['p'], bp_phase_diagram['LCC'], c='k', ls='-', lw=3., label=r'Bond Percolation')\n",
    "ax[0].plot(sp_phase_diagram['p'], sp_phase_diagram['LCC'], c='r', ls='--', lw=3., label=r'Site Percolation')\n",
    "ax[0].axvline(x=0., c='b', ls='-', alpha=0.5, lw=4, label=r'$p_c=0$')\n",
    "\n",
    "ax[0].set_xlabel(r'$p$', fontsize=20)\n",
    "ax[0].set_ylabel(r'$P_{\\infty}$', fontsize=20)\n",
    "ax[0].tick_params('both', labelsize=20)\n",
    "ax[0].legend(fontsize=15)\n",
    "\n",
    "ax[1].plot(bp_phase_diagram['p'], bp_phase_diagram['SLCC'], c='k', ls='-', lw=3., label=r'Bond Percolation')\n",
    "ax[1].plot(sp_phase_diagram['p'], sp_phase_diagram['SLCC'], c='r', ls='--', lw=3., label=r'Site Percolation')\n",
    "ax[1].axvline(x=0., c='b', ls='-', alpha=0.5, lw=4, label=r'$p_c=0$')\n",
    "\n",
    "ax[1].set_xlabel(r'$p$', fontsize=20)\n",
    "ax[1].set_ylabel(r'SLCC', fontsize=20)\n",
    "ax[1].tick_params('both', labelsize=20)\n",
    "\n",
    "ax[2].plot(bp_phase_diagram['p'], bp_phase_diagram['susceptibility'], c='k', ls='-', lw=3., label=r'Bond Percolation')\n",
    "ax[2].plot(sp_phase_diagram['p'], sp_phase_diagram['susceptibility'], c='r', ls='--', lw=3., label=r'Site Percolation')\n",
    "ax[2].axvline(x=0., c='b', ls='-', alpha=0.5, lw=4, label=r'$p_c=0$')\n",
    "\n",
    "ax[2].set_xlabel(r'$p$', fontsize=20)\n",
    "ax[2].set_ylabel(r'$\\chi$', fontsize=20)\n",
    "ax[2].tick_params('both', labelsize=20)\n",
    "# ax[1].legend(fontsize=15)\n",
    "\n",
    "plt.tight_layout()\n",
    "plt.show()"
   ]
  },
  {
   "cell_type": "markdown",
   "metadata": {},
   "source": [
    "# Newman-Ziff Algorithm \n",
    "M.E.J. Newman and R.M Ziff, [Efficient Monte Carlo Algorithm and High-Precision Results for Percolation](https://journals.aps.org/prl/abstract/10.1103/PhysRevLett.85.4104), Phys. Rev. Lett. 85, 4104 (2000)\n",
    "\n",
    "Note that here, the definition $p$, which was the ``probability`` of remaining microscopic elements is now the actual ``fraciton`` of remaining microscopic elements. In other words, the NZ algorithm generates the phase diagram valid for ``Microcanonical Ensemble``. Thus, there should be some adjustment in the phase diagram to convert these raw results into results valid for ``Canonical Ensemble``. But I won't cover it here at this moment! "
   ]
  },
  {
   "cell_type": "code",
   "execution_count": 153,
   "metadata": {},
   "outputs": [],
   "source": [
    "def NZ_find_root(n, root):\n",
    "    if root[n][0] == n:\n",
    "        return root[n]\n",
    "    return NZ_find_root(root[n][0], root)\n",
    "\n",
    "def NZ_merge_clusters(n, m, root):\n",
    "\n",
    "    root_n, size_n = NZ_find_root(n, root)  # root node and size of cluster that node n belongs to\n",
    "    root_m, size_m = NZ_find_root(m, root)  # root node and size of cluster that node m belongs to\n",
    "\n",
    "    # we only need to merge clusters if they belong to different clusters,\n",
    "    # and we systematically merge the smaller cluster into the larger one\n",
    "    if root_n != root_m:\n",
    "\n",
    "        if size_n > size_m:\n",
    "            root[root_m] = [root_n, 1]\n",
    "            root[root_n] = [root_n, size_n + size_m]\n",
    "            return root[root_n]\n",
    "    \n",
    "        else:\n",
    "            root[root_n] = [root_m, 1]\n",
    "            root[root_m] = [root_m, size_n + size_m]\n",
    "            return root[root_m]\n",
    "    \n",
    "    else:\n",
    "        return root[root_n]\n",
    "    \n",
    "\n",
    "def NZ_bond_percolation(G, num_samples):\n",
    "\n",
    "    N = len(G.nodes())\n",
    "    list_of_edges = list(G.edges())\n",
    "    LCC_list = np.zeros(len(list_of_edges))\n",
    "    susceptibility_list = np.zeros(len(list_of_edges))\n",
    "\n",
    "    for _ in tqdm(range(num_samples)):\n",
    "\n",
    "        random.shuffle(list_of_edges)\n",
    "\n",
    "        root = {}\n",
    "        for n in G.nodes():\n",
    "            root[n] = [n, 1]\n",
    "        \n",
    "        P_infty = 1\n",
    "        \n",
    "        for i, edge in enumerate(list_of_edges):\n",
    "            n, m = edge\n",
    "            q, P = NZ_merge_clusters(n, m, root)\n",
    "            if P > P_infty:\n",
    "                P_infty = P\n",
    "        \n",
    "            LCC_list[i] += P_infty / N\n",
    "            susceptibility_list[i] += (P_infty / N) * (P_infty / N)\n",
    "        \n",
    "    LCC_list /= num_samples\n",
    "    susceptibility_list /= num_samples\n",
    "    for i in range(len(LCC_list)):\n",
    "        susceptibility_list[i] -= LCC_list[i] * LCC_list[i]\n",
    "\n",
    "        if LCC_list[i] > 0.:\n",
    "            susceptibility_list[i] /= LCC_list[i]\n",
    "\n",
    "    return LCC_list, susceptibility_list\n",
    "\n",
    "\n",
    "def NZ_site_percolation(G, num_samples):\n",
    "\n",
    "    N = len(G.nodes())\n",
    "    list_of_nodes = list(G.nodes())\n",
    "    LCC_list = np.zeros(len(list_of_nodes))\n",
    "    susceptibility_list = np.zeros(len(list_of_nodes))\n",
    "\n",
    "\n",
    "    for _ in tqdm(range(num_samples)):\n",
    "    \n",
    "        # initial setup for current iteration\n",
    "        random.shuffle(list_of_nodes)\n",
    "        present = {}\n",
    "\n",
    "        for n in list_of_nodes:\n",
    "            present[n] = 0\n",
    "\n",
    "        root = {}\n",
    "        P_infty = 1\n",
    "\n",
    "        # iterate over all nodes in random order\n",
    "        for i in range(len(list_of_nodes)):\n",
    "            n = list_of_nodes[i]\n",
    "            present[n] = 1  # we mark the node as present\n",
    "            root[n] = [n, 1]\n",
    "\n",
    "            for m in G.neighbors(n):\n",
    "                if present[m] > 0:  # we need to check if there are any present neighbors\n",
    "                    q, P = NZ_merge_clusters(n, m, root)\n",
    "                    if P > P_infty:\n",
    "                        P_infty = P\n",
    "            \n",
    "            LCC_list[i] += P_infty / N\n",
    "            susceptibility_list[i] += (P_infty / N) * (P_infty / N)\n",
    "    \n",
    "        \n",
    "    LCC_list /= num_samples\n",
    "    susceptibility_list /= num_samples\n",
    "    for i in range(len(LCC_list)):\n",
    "        susceptibility_list[i] -= LCC_list[i] * LCC_list[i]\n",
    "        if LCC_list[i] > 0.:\n",
    "            susceptibility_list[i] /= LCC_list[i]\n",
    "\n",
    "    return LCC_list, susceptibility_list\n",
    "    \n",
    "    \n",
    "    \n",
    "    \n",
    "    "
   ]
  },
  {
   "cell_type": "code",
   "execution_count": 154,
   "metadata": {},
   "outputs": [
    {
     "name": "stderr",
     "output_type": "stream",
     "text": [
      "  0%|          | 0/1000 [00:00<?, ?it/s]"
     ]
    },
    {
     "name": "stderr",
     "output_type": "stream",
     "text": [
      "100%|██████████| 1000/1000 [00:05<00:00, 189.45it/s]\n",
      "100%|██████████| 1000/1000 [00:04<00:00, 247.87it/s]\n"
     ]
    }
   ],
   "source": [
    "N = 1000\n",
    "k = 5\n",
    "E = int(N * k / 2)\n",
    "num_iterations = 1000\n",
    "\n",
    "G = nx.gnm_random_graph(N, E)\n",
    "bond_x = [i/E for i in range(E)]\n",
    "site_x = [i/N for i in range(N)]\n",
    "\n",
    "NZ_bond_LCC_list, NZ_bond_susceptibility_list = NZ_bond_percolation(G, num_iterations)\n",
    "NZ_site_LCC_list, NZ_site_susceptibility_list = NZ_site_percolation(G, num_iterations)\n"
   ]
  },
  {
   "cell_type": "code",
   "execution_count": 155,
   "metadata": {},
   "outputs": [
    {
     "data": {
      "image/png": "[encoded data removed]",
      "text/plain": [
       "<Figure size 1600x600 with 2 Axes>"
      ]
     },
     "metadata": {},
     "output_type": "display_data"
    }
   ],
   "source": [
    "fig, ax = plt.subplots(ncols=2, figsize=(16, 6))\n",
    "\n",
    "ax[0].plot(bond_x, NZ_bond_LCC_list, c='k', ls='-', lw=3., label=r'Bond Percolation')\n",
    "ax[0].plot(site_x, NZ_site_LCC_list, c='r', ls='--', lw=3., label=r'Site Percolation')\n",
    "ax[0].axvline(x=1/k, c='b', ls='-', alpha=0.5, lw=4, label=r'$p_c=1/\\bar{k}$')\n",
    "\n",
    "ax[0].set_xlabel(r'$p$', fontsize=20)\n",
    "ax[0].set_ylabel(r'$P_{\\infty}$', fontsize=20)\n",
    "ax[0].tick_params('both', labelsize=20)\n",
    "ax[0].legend(fontsize=15)\n",
    "\n",
    "ax[1].plot(bond_x, NZ_bond_susceptibility_list, c='k', ls='-', lw=3., label=r'Bond Percolation')\n",
    "ax[1].plot(site_x, NZ_site_susceptibility_list, c='r', ls='--', lw=3., label=r'Site Percolation')\n",
    "ax[1].axvline(x=1/k, c='b', ls='-', alpha=0.5, lw=4, label=r'$p_c=1/\\bar{k}$')\n",
    "\n",
    "ax[1].set_xlabel(r'$p$', fontsize=20)\n",
    "ax[1].set_ylabel(r'$\\chi$', fontsize=20)\n",
    "ax[1].tick_params('both', labelsize=20)\n",
    "\n",
    "plt.tight_layout()\n",
    "plt.show()"
   ]
  },
  {
   "cell_type": "code",
   "execution_count": 156,
   "metadata": {},
   "outputs": [
    {
     "name": "stderr",
     "output_type": "stream",
     "text": [
      "100%|██████████| 1000/1000 [00:07<00:00, 136.04it/s]\n",
      "100%|██████████| 1000/1000 [00:05<00:00, 199.73it/s]\n"
     ]
    }
   ],
   "source": [
    "N = 1000\n",
    "degree_exponent = 2.1\n",
    "k_min = 3\n",
    "k_max = int(np.sqrt(N))\n",
    "\n",
    "\n",
    "degree_sequence = [random_pl(k_min, k_max, degree_exponent) for n in range(N)]\n",
    "if sum(degree_sequence) % 2 != 0:\n",
    "    r = random.randint(0, N)\n",
    "    degree_sequence[r] += 1\n",
    "\n",
    "G = nx.configuration_model(degree_sequence)\n",
    "G.remove_edges_from(nx.selfloop_edges(G))\n",
    "\n",
    "# don't forget the nodes without any edges!\n",
    "for n in range(N):\n",
    "    G.add_node(n)\n",
    "\n",
    "num_samples = 100\n",
    "E = len(G.edges())\n",
    "\n",
    "bond_x = [i/E for i in range(E)]\n",
    "site_x = [i/N for i in range(N)]\n",
    "\n",
    "NZ_bond_LCC_list, NZ_bond_susceptibility_list = NZ_bond_percolation(G, num_iterations)\n",
    "NZ_site_LCC_list, NZ_site_susceptibility_list = NZ_site_percolation(G, num_iterations)\n"
   ]
  },
  {
   "cell_type": "code",
   "execution_count": 157,
   "metadata": {},
   "outputs": [
    {
     "data": {
      "image/png": "[encoded data removed]",
      "text/plain": [
       "<Figure size 1600x600 with 2 Axes>"
      ]
     },
     "metadata": {},
     "output_type": "display_data"
    }
   ],
   "source": [
    "fig, ax = plt.subplots(ncols=2, figsize=(16, 6))\n",
    "\n",
    "ax[0].plot(bond_x, NZ_bond_LCC_list, c='k', ls='-', lw=3., label=r'Bond Percolation')\n",
    "ax[0].plot(site_x, NZ_site_LCC_list, c='r', ls='--', lw=3., label=r'Site Percolation')\n",
    "ax[0].axvline(x=0., c='b', ls='-', alpha=0.5, lw=4, label=r'$p_c=1/\\bar{k}$')\n",
    "\n",
    "ax[0].set_xlabel(r'$p$', fontsize=25)\n",
    "ax[0].set_ylabel(r'$P_{\\infty}$', fontsize=25)\n",
    "ax[0].tick_params('both', labelsize=25)\n",
    "ax[0].legend(fontsize=15)\n",
    "\n",
    "ax[1].plot(bond_x, NZ_bond_susceptibility_list, c='k', ls='-', lw=3., label=r'Bond Percolation')\n",
    "ax[1].plot(site_x, NZ_site_susceptibility_list, c='r', ls='--', lw=3., label=r'Site Percolation')\n",
    "ax[1].axvline(x=0., c='b', ls='-', alpha=0.5, lw=4, label=r'$p_c=1/\\bar{k}$')\n",
    "\n",
    "ax[1].set_xlabel(r'$p$', fontsize=25)\n",
    "ax[1].set_ylabel(r'$\\chi$', fontsize=25)\n",
    "ax[1].tick_params('both', labelsize=25)\n",
    "\n",
    "plt.tight_layout()\n",
    "plt.show()"
   ]
  },
  {
   "cell_type": "markdown",
   "metadata": {},
   "source": [
    "# Message Passing Method\n",
    "\n",
    " The code makes use of the belief-propagation algorithm originally proposed by Brian Karrer, M. E. J. Newman, and Lenka Zdeborová, [Percolation on Sparse Networks](http://journals.aps.org/prl/abstract/10.1103/PhysRevLett.113.208702), Phys. Rev. Lett. 113, 208702 (2014), Kathleen E. Hamilton, and Leonid P. Pryadko, [Tight Lower Bound for Percolation Threshold on an Infinite Graph](https://journals.aps.org/prl/abstract/10.1103/PhysRevLett.113.208701), Phys. Rev. Lett. 113, 208701 (2014).\n",
    " \n",
    " The code below takes as inputs a graph $G$ and the value of the site/bond occupation probability $p$."
   ]
  },
  {
   "cell_type": "code",
   "execution_count": 184,
   "metadata": {},
   "outputs": [],
   "source": [
    "def message_passing_percolation_iteration(G, p, prob_edges):\n",
    "    \n",
    "    max_err = 0.0\n",
    "    tmp_prob_edges = prob_edges.copy()\n",
    "    \n",
    "    for e in tmp_prob_edges:\n",
    "        tmp_prob_edges[e] = prob_edges[e]\n",
    "    \n",
    "    for e in prob_edges:\n",
    "        i = e[0]\n",
    "        j = e[1]\n",
    "\n",
    "        prob_edges[e] = 1.0\n",
    "        for k in G.neighbors(j):\n",
    "            if k != i:\n",
    "                # Here, we are actually computing the probability\n",
    "                # that node j is part of the largest cluster\n",
    "                # without the contribution of node i\n",
    "                prob_edges[e] = prob_edges[e] * (1.0 - p * tmp_prob_edges[(j, k)])\n",
    "        \n",
    "        # now we are changing the probability that node j is\n",
    "        # not part of the largest cluster when node i is removed\n",
    "        prob_edges[e] = 1.0 - prob_edges[e]\n",
    "        err = np.abs(prob_edges[e] - tmp_prob_edges[e])\n",
    "        if err > max_err:\n",
    "            max_err = err\n",
    "    return max_err\n",
    "\n",
    "\n",
    "def solve_message_passing_percolation(G, p):\n",
    "    prob_edges = {(e[0], e[1]): random.random() for e in G.edges()}\n",
    "    prob_edges.update({(e[1], e[0]): random.random() for e in G.edges()})\n",
    "\n",
    "    iteration = 0\n",
    "    err = 1.0\n",
    "\n",
    "    while err > 1e-6:\n",
    "        err = message_passing_percolation_iteration(G, p, prob_edges)\n",
    "        iteration += 1\n",
    "        if iteration % 100 == 0:\n",
    "            print(f\"iteration {iteration}, err={err}\")\n",
    "    print(f\"Converged in {iteration} iterations\")\n",
    "    \n",
    "    return prob_edges\n",
    "    \n",
    "def get_percolation_diagram_from_message_passing(G, p_range):\n",
    "\n",
    "    LCC_list = []\n",
    "\n",
    "    for p in p_range:\n",
    "        print(f\"working on p={p}\")\n",
    "        prob_nodes = {n: 1.0 for n in G.nodes()}\n",
    "        prob_edges = solve_message_passing_percolation(G, p)\n",
    "\n",
    "        for e in prob_edges:\n",
    "            n = e[0]\n",
    "            # Here, we are actually computing the probability\n",
    "            # that node n does not belong to the largest cluster\n",
    "            prob_nodes[n] = prob_nodes[n] * (1.0 - p * prob_edges[e])\n",
    "\n",
    "        P_infty = 0.0\n",
    "        for n in G.nodes:\n",
    "            # Now we are converting the previous probability\n",
    "            # into the probability that node n belongs to the largest cluster\n",
    "            prob_nodes[n] = 1.0 - prob_nodes[n]  \n",
    "            P_infty += prob_nodes[n]\n",
    "\n",
    "        P_infty /= len(G.nodes())\n",
    "\n",
    "        LCC_list.append(P_infty)\n",
    "    \n",
    "    return LCC_list\n",
    "        \n",
    "\n",
    "def get_largest_eigen_pair_from_non_backtracking_matrix(G, method='manual'):\n",
    "\n",
    "    M = nx.DiGraph()\n",
    "\n",
    "    print(\"Constructing non-backtracking matrix:\")\n",
    "    for edge in tqdm(G.edges()):\n",
    "        n = edge[0]\n",
    "        m = edge[1]\n",
    "\n",
    "        for q in G.neighbors(m):\n",
    "            if q != n:\n",
    "                M.add_edge((n, m), (m, q))\n",
    "        \n",
    "        for q in G.neighbors(n):\n",
    "            if q != m:\n",
    "                M.add_edge((m, n), (n, q))\n",
    "\n",
    "    print(\"Computing largest eigenvalue pair:\")\n",
    "    if method == 'manual':\n",
    "\n",
    "        eigen_vectors = {}\n",
    "        for r in M:\n",
    "            eigen_vectors[r] = 1.0\n",
    "\n",
    "        err = 1.0\n",
    "        iteration = 0\n",
    "        while err > 1e-6:\n",
    "            norm, err = single_step_power_iteration(M, eigen_vectors)\n",
    "            iteration += 1\n",
    "            if iteration % 100 == 0:\n",
    "                print(f\"iteration {iteration}, err={err}\")\n",
    "        print(f\"Converged in {iteration} iterations\")\n",
    "\n",
    "    elif method == 'scipy':\n",
    "        # Convert directed graph to adjacency matrix\n",
    "        A = nx.adjacency_matrix(M).todense()\n",
    "        # Get eigenvalues and eigenvectors using scipy\n",
    "        eigenvalues, eigenvectors = scipy.linalg.eig(A)\n",
    "        # Get index of largest eigenvalue\n",
    "        max_idx = np.argmax(np.abs(eigenvalues))\n",
    "        # Get largest eigenvalue and corresponding eigenvector\n",
    "        norm = np.abs(eigenvalues[max_idx])\n",
    "        # Convert eigenvector to dictionary format matching manual method\n",
    "        eigen_vectors = {node: eigenvectors[i,max_idx] for i, node in enumerate(M.nodes())}\n",
    "\n",
    "    return norm, eigen_vectors       \n",
    "\n",
    "def single_step_power_iteration(M, eigen_vectors):\n",
    "\n",
    "    tmp = eigen_vectors.copy()\n",
    "\n",
    "    for r in eigen_vectors:\n",
    "        eigen_vectors[r] = 0.0\n",
    "\n",
    "        for q in M.predecessors(r):\n",
    "            eigen_vectors[r] += tmp[q]\n",
    "    \n",
    "    norm = 0.0\n",
    "\n",
    "    for r in eigen_vectors:\n",
    "        norm += eigen_vectors[r] * eigen_vectors[r]\n",
    "    norm = np.sqrt(norm)\n",
    "\n",
    "    for r in eigen_vectors:\n",
    "        eigen_vectors[r] /= norm\n",
    "\n",
    "    err = 0.0\n",
    "    for r in eigen_vectors:\n",
    "        if abs(eigen_vectors[r] - tmp[r]) > err:\n",
    "            err = abs(eigen_vectors[r] - tmp[r])\n",
    "    \n",
    "    return norm, err\n",
    "            "
   ]
  },
  {
   "cell_type": "code",
   "execution_count": 173,
   "metadata": {},
   "outputs": [
    {
     "name": "stdout",
     "output_type": "stream",
     "text": [
      "working on p=0.0\n",
      "Converged in 2 iterations\n",
      "working on p=0.02\n",
      "Converged in 8 iterations\n",
      "working on p=0.04\n",
      "Converged in 10 iterations\n",
      "working on p=0.06\n",
      "Converged in 13 iterations\n",
      "working on p=0.08\n",
      "Converged in 16 iterations\n",
      "working on p=0.1\n",
      "Converged in 20 iterations\n",
      "working on p=0.12\n",
      "Converged in 26 iterations\n",
      "working on p=0.14\n",
      "Converged in 36 iterations\n",
      "working on p=0.16\n",
      "Converged in 53 iterations\n",
      "working on p=0.18\n",
      "Converged in 95 iterations\n",
      "working on p=0.2\n",
      "iteration 100, err=0.00047522579796221986\n",
      "iteration 200, err=9.669990578509147e-05\n",
      "iteration 300, err=2.9187884135861708e-05\n",
      "iteration 400, err=9.843371145512592e-06\n",
      "iteration 500, err=3.4437008515908474e-06\n",
      "iteration 600, err=1.2202526545879167e-06\n",
      "Converged in 620 iterations\n",
      "working on p=0.22\n",
      "iteration 100, err=3.1033684425585406e-06\n",
      "Converged in 113 iterations\n",
      "working on p=0.24\n",
      "Converged in 58 iterations\n",
      "working on p=0.26\n",
      "Converged in 38 iterations\n",
      "working on p=0.28\n",
      "Converged in 23 iterations\n",
      "working on p=0.3\n",
      "Converged in 25 iterations\n",
      "working on p=0.32\n",
      "Converged in 23 iterations\n",
      "working on p=0.34\n",
      "Converged in 21 iterations\n",
      "working on p=0.36\n",
      "Converged in 20 iterations\n",
      "working on p=0.38\n",
      "Converged in 18 iterations\n",
      "working on p=0.4\n",
      "Converged in 17 iterations\n",
      "working on p=0.42\n",
      "Converged in 16 iterations\n",
      "working on p=0.44\n",
      "Converged in 16 iterations\n",
      "working on p=0.46\n",
      "Converged in 15 iterations\n",
      "working on p=0.48\n",
      "Converged in 14 iterations\n",
      "working on p=0.5\n",
      "Converged in 14 iterations\n",
      "working on p=0.52\n",
      "Converged in 13 iterations\n",
      "working on p=0.54\n",
      "Converged in 13 iterations\n",
      "working on p=0.56\n",
      "Converged in 13 iterations\n",
      "working on p=0.58\n",
      "Converged in 12 iterations\n",
      "working on p=0.6\n",
      "Converged in 12 iterations\n",
      "working on p=0.62\n",
      "Converged in 12 iterations\n",
      "working on p=0.64\n",
      "Converged in 11 iterations\n",
      "working on p=0.66\n",
      "Converged in 11 iterations\n",
      "working on p=0.68\n",
      "Converged in 10 iterations\n",
      "working on p=0.7000000000000001\n",
      "Converged in 10 iterations\n",
      "working on p=0.72\n",
      "Converged in 10 iterations\n",
      "working on p=0.74\n",
      "Converged in 10 iterations\n",
      "working on p=0.76\n",
      "Converged in 9 iterations\n",
      "working on p=0.78\n",
      "Converged in 9 iterations\n",
      "working on p=0.8\n",
      "Converged in 9 iterations\n",
      "working on p=0.8200000000000001\n",
      "Converged in 9 iterations\n",
      "working on p=0.84\n",
      "Converged in 9 iterations\n",
      "working on p=0.86\n",
      "Converged in 8 iterations\n",
      "working on p=0.88\n",
      "Converged in 8 iterations\n",
      "working on p=0.9\n",
      "Converged in 8 iterations\n",
      "working on p=0.92\n",
      "Converged in 8 iterations\n",
      "working on p=0.9400000000000001\n",
      "Converged in 7 iterations\n",
      "working on p=0.96\n",
      "Converged in 7 iterations\n",
      "working on p=0.98\n",
      "Converged in 7 iterations\n",
      "working on p=1.0\n",
      "Converged in 6 iterations\n"
     ]
    }
   ],
   "source": [
    "N = 1000\n",
    "k = 5\n",
    "E = int(N * k / 2)\n",
    "\n",
    "G = nx.gnm_random_graph(N, E)\n",
    "p_list = np.linspace(0.0, 1.0, 51)\n",
    "\n",
    "LCC_list = get_percolation_diagram_from_message_passing(G, p_list)"
   ]
  },
  {
   "cell_type": "code",
   "execution_count": 174,
   "metadata": {},
   "outputs": [
    {
     "name": "stderr",
     "output_type": "stream",
     "text": [
      "  0%|          | 0/1000 [00:00<?, ?it/s]"
     ]
    },
    {
     "name": "stderr",
     "output_type": "stream",
     "text": [
      "100%|██████████| 1000/1000 [00:05<00:00, 185.98it/s]\n",
      "100%|██████████| 1000/1000 [00:03<00:00, 255.65it/s]\n"
     ]
    }
   ],
   "source": [
    "N = 1000\n",
    "k = 5\n",
    "E = int(N * k / 2)\n",
    "num_iterations = 1000\n",
    "\n",
    "G = nx.gnm_random_graph(N, E)\n",
    "bond_x = [i/E for i in range(E)]\n",
    "site_x = [i/N for i in range(N)]\n",
    "\n",
    "NZ_bond_LCC_list, NZ_bond_susceptibility_list = NZ_bond_percolation(G, num_iterations)\n",
    "NZ_site_LCC_list, NZ_site_susceptibility_list = NZ_site_percolation(G, num_iterations)\n"
   ]
  },
  {
   "cell_type": "code",
   "execution_count": 185,
   "metadata": {},
   "outputs": [
    {
     "name": "stdout",
     "output_type": "stream",
     "text": [
      "Computing largest eigenvalue pair manually\n",
      "Constructing non-backtracking matrix:\n"
     ]
    },
    {
     "name": "stderr",
     "output_type": "stream",
     "text": [
      "100%|██████████| 2500/2500 [00:00<00:00, 31104.22it/s]"
     ]
    },
    {
     "name": "stdout",
     "output_type": "stream",
     "text": [
      "Computing largest eigenvalue pair:\n"
     ]
    },
    {
     "name": "stderr",
     "output_type": "stream",
     "text": [
      "\n"
     ]
    },
    {
     "name": "stdout",
     "output_type": "stream",
     "text": [
      "Converged in 14 iterations\n",
      "Computing largest eigenvalue pair using scipy\n",
      "Constructing non-backtracking matrix:\n"
     ]
    },
    {
     "name": "stderr",
     "output_type": "stream",
     "text": [
      "100%|██████████| 2500/2500 [00:00<00:00, 69428.79it/s]\n"
     ]
    },
    {
     "name": "stdout",
     "output_type": "stream",
     "text": [
      "Computing largest eigenvalue pair:\n",
      "4.9262921881802875 4.926290935165811\n"
     ]
    }
   ],
   "source": [
    "print(\"Computing largest eigenvalue pair manually\")\n",
    "lambda1, _ = get_largest_eigen_pair_from_non_backtracking_matrix(G, method='manual')\n",
    "\n",
    "print(\"Computing largest eigenvalue pair using scipy\")\n",
    "lambda2, _ = get_largest_eigen_pair_from_non_backtracking_matrix(G, method='scipy')\n",
    "\n",
    "print(lambda1, lambda2)\n",
    "# print(lambda2)\n"
   ]
  },
  {
   "cell_type": "code",
   "execution_count": 188,
   "metadata": {},
   "outputs": [
    {
     "data": {
      "image/png": "[encoded data removed]",
      "text/plain": [
       "<Figure size 1600x600 with 2 Axes>"
      ]
     },
     "metadata": {},
     "output_type": "display_data"
    }
   ],
   "source": [
    "fig, ax = plt.subplots(ncols=2, figsize=(16, 6))\n",
    "\n",
    "ax[0].plot(p_list, LCC_list, \n",
    "           c='k', ls='-', lw=3., \n",
    "           label=r'message passing')\n",
    "ax[0].plot(bond_x, NZ_bond_LCC_list, \n",
    "           c='r', ls='--', lw=4., alpha=0.7,\n",
    "           label=r'numerical simulation')\n",
    "\n",
    "ax[0].axvline(x=1/k, c='b', ls='-', alpha=0.5, lw=4, label=r'$p_c=1/\\bar{k}$')\n",
    "ax[0].axvline(x=1/lambda2, c='g', ls='--', alpha=0.5, lw=4, label=r'$p_c=1/\\lambda$')\n",
    "\n",
    "ax[0].set_xlabel(r'$p$', fontsize=25)\n",
    "ax[0].set_ylabel(r'$P_{\\infty}$', fontsize=25)\n",
    "ax[0].tick_params('both', labelsize=25)\n",
    "ax[0].set_xlim(0.0, 1.0)\n",
    "ax[0].set_ylim(0.0, 1.0)\n",
    "ax[0].legend(fontsize=15)\n",
    "\n",
    "\n",
    "LCC_site = []\n",
    "for i, p in enumerate(p_list):\n",
    "    LCC_site.append(p*LCC_list[i])\n",
    "ax[1].plot(p_list, LCC_site, \n",
    "           c='k', ls='-', lw=3.,\n",
    "           label=r'message passing')\n",
    "ax[1].plot(site_x, NZ_site_LCC_list, \n",
    "           c='r', ls='--', lw=4., alpha=0.7,\n",
    "           label=r'numerical simulation')\n",
    "ax[1].set_xlabel(r'$p$', fontsize=25)\n",
    "ax[1].set_ylabel(r'$P_{\\infty}$', fontsize=25)\n",
    "ax[1].tick_params('both', labelsize=25)\n",
    "\n",
    "ax[1].set_xlim(0.0, 1.0)\n",
    "ax[1].set_ylim(0.0, 1.0)\n",
    "\n",
    "ax[1].axvline(x=1/k, c='b', ls='-', alpha=0.5, lw=4, label=r'$p_c=1/\\bar{k}$')\n",
    "ax[1].axvline(x=1/lambda2, c='g', ls='--', alpha=0.5, lw=4, label=r'$p_c=1/\\lambda$')\n",
    "\n",
    "\n",
    "ax[0].set_title(r'Bond Percolation', fontsize=20)\n",
    "ax[1].set_title(r'Site Percolation', fontsize=20)\n",
    "\n",
    "plt.tight_layout()\n",
    "plt.show()\n"
   ]
  },
  {
   "cell_type": "code",
   "execution_count": 189,
   "metadata": {},
   "outputs": [
    {
     "name": "stderr",
     "output_type": "stream",
     "text": [
      "100%|██████████| 1000/1000 [00:07<00:00, 132.31it/s]\n",
      "100%|██████████| 1000/1000 [00:05<00:00, 197.12it/s]\n"
     ]
    },
    {
     "name": "stdout",
     "output_type": "stream",
     "text": [
      "working on p=0.0\n",
      "Converged in 2 iterations\n",
      "working on p=0.02\n",
      "Converged in 10 iterations\n",
      "working on p=0.04\n",
      "Converged in 17 iterations\n",
      "working on p=0.06\n",
      "Converged in 28 iterations\n",
      "working on p=0.08\n",
      "Converged in 62 iterations\n",
      "working on p=0.1\n",
      "iteration 100, err=0.00017872025733589592\n",
      "iteration 200, err=7.1210221737061374e-06\n",
      "Converged in 263 iterations\n",
      "working on p=0.12\n",
      "Converged in 50 iterations\n",
      "working on p=0.14\n",
      "Converged in 29 iterations\n",
      "working on p=0.16\n",
      "Converged in 18 iterations\n",
      "working on p=0.18\n",
      "Converged in 19 iterations\n",
      "working on p=0.2\n",
      "Converged in 17 iterations\n",
      "working on p=0.22\n",
      "Converged in 16 iterations\n",
      "working on p=0.24\n",
      "Converged in 15 iterations\n",
      "working on p=0.26\n",
      "Converged in 15 iterations\n",
      "working on p=0.28\n",
      "Converged in 14 iterations\n",
      "working on p=0.3\n",
      "Converged in 13 iterations\n",
      "working on p=0.32\n",
      "Converged in 13 iterations\n",
      "working on p=0.34\n",
      "Converged in 13 iterations\n",
      "working on p=0.36\n",
      "Converged in 12 iterations\n",
      "working on p=0.38\n",
      "Converged in 12 iterations\n",
      "working on p=0.4\n",
      "Converged in 12 iterations\n",
      "working on p=0.42\n",
      "Converged in 11 iterations\n",
      "working on p=0.44\n",
      "Converged in 11 iterations\n",
      "working on p=0.46\n",
      "Converged in 11 iterations\n",
      "working on p=0.48\n",
      "Converged in 11 iterations\n",
      "working on p=0.5\n",
      "Converged in 11 iterations\n",
      "working on p=0.52\n",
      "Converged in 11 iterations\n",
      "working on p=0.54\n",
      "Converged in 10 iterations\n",
      "working on p=0.56\n",
      "Converged in 10 iterations\n",
      "working on p=0.58\n",
      "Converged in 10 iterations\n",
      "working on p=0.6\n",
      "Converged in 10 iterations\n",
      "working on p=0.62\n",
      "Converged in 10 iterations\n",
      "working on p=0.64\n",
      "Converged in 10 iterations\n",
      "working on p=0.66\n",
      "Converged in 9 iterations\n",
      "working on p=0.68\n",
      "Converged in 9 iterations\n",
      "working on p=0.7000000000000001\n",
      "Converged in 10 iterations\n",
      "working on p=0.72\n",
      "Converged in 9 iterations\n",
      "working on p=0.74\n",
      "Converged in 9 iterations\n",
      "working on p=0.76\n",
      "Converged in 9 iterations\n",
      "working on p=0.78\n",
      "Converged in 9 iterations\n",
      "working on p=0.8\n",
      "Converged in 8 iterations\n",
      "working on p=0.8200000000000001\n",
      "Converged in 8 iterations\n",
      "working on p=0.84\n",
      "Converged in 8 iterations\n",
      "working on p=0.86\n",
      "Converged in 8 iterations\n",
      "working on p=0.88\n",
      "Converged in 7 iterations\n",
      "working on p=0.9\n",
      "Converged in 7 iterations\n",
      "working on p=0.92\n",
      "Converged in 7 iterations\n",
      "working on p=0.9400000000000001\n",
      "Converged in 6 iterations\n",
      "working on p=0.96\n",
      "Converged in 6 iterations\n",
      "working on p=0.98\n",
      "Converged in 6 iterations\n",
      "working on p=1.0\n",
      "Converged in 5 iterations\n"
     ]
    }
   ],
   "source": [
    "N = 1000\n",
    "degree_exponent = 2.1\n",
    "k_min = 3\n",
    "k_max = int(np.sqrt(N))\n",
    "\n",
    "\n",
    "degree_sequence = [random_pl(k_min, k_max, degree_exponent) for n in range(N)]\n",
    "if sum(degree_sequence) % 2 != 0:\n",
    "    r = random.randint(0, N)\n",
    "    degree_sequence[r] += 1\n",
    "\n",
    "G = nx.configuration_model(degree_sequence)\n",
    "G.remove_edges_from(nx.selfloop_edges(G))\n",
    "\n",
    "# don't forget the nodes without any edges!\n",
    "for n in range(N):\n",
    "    G.add_node(n)\n",
    "\n",
    "num_samples = 1000\n",
    "E = len(G.edges())\n",
    "\n",
    "bond_x = [i/E for i in range(E)]\n",
    "site_x = [i/N for i in range(N)]\n",
    "\n",
    "NZ_bond_LCC_list, NZ_bond_susceptibility_list = NZ_bond_percolation(G, num_samples)\n",
    "NZ_site_LCC_list, NZ_site_susceptibility_list = NZ_site_percolation(G, num_samples)\n",
    "\n",
    "p_list = np.linspace(0.0, 1.0, 51)\n",
    "LCC_list = get_percolation_diagram_from_message_passing(G, p_list)"
   ]
  },
  {
   "cell_type": "code",
   "execution_count": 190,
   "metadata": {},
   "outputs": [
    {
     "name": "stdout",
     "output_type": "stream",
     "text": [
      "Computing largest eigenvalue pair manually\n",
      "Constructing non-backtracking matrix:\n"
     ]
    },
    {
     "name": "stderr",
     "output_type": "stream",
     "text": [
      "100%|██████████| 3515/3515 [00:00<00:00, 23700.67it/s]"
     ]
    },
    {
     "name": "stdout",
     "output_type": "stream",
     "text": [
      "Computing largest eigenvalue pair:\n"
     ]
    },
    {
     "name": "stderr",
     "output_type": "stream",
     "text": [
      "\n"
     ]
    },
    {
     "name": "stdout",
     "output_type": "stream",
     "text": [
      "Converged in 10 iterations\n",
      "Computing largest eigenvalue pair using scipy\n",
      "Constructing non-backtracking matrix:\n"
     ]
    },
    {
     "name": "stderr",
     "output_type": "stream",
     "text": [
      "100%|██████████| 3515/3515 [00:00<00:00, 34123.32it/s]"
     ]
    },
    {
     "name": "stdout",
     "output_type": "stream",
     "text": [
      "Computing largest eigenvalue pair:\n"
     ]
    },
    {
     "name": "stderr",
     "output_type": "stream",
     "text": [
      "\n"
     ]
    },
    {
     "name": "stdout",
     "output_type": "stream",
     "text": [
      "10.31801341792691 10.31800480229276\n"
     ]
    }
   ],
   "source": [
    "print(\"Computing largest eigenvalue pair manually\")\n",
    "lambda1, _ = get_largest_eigen_pair_from_non_backtracking_matrix(G, method='manual')\n",
    "\n",
    "print(\"Computing largest eigenvalue pair using scipy\")\n",
    "lambda2, _ = get_largest_eigen_pair_from_non_backtracking_matrix(G, method='scipy')\n",
    "\n",
    "print(lambda1, lambda2)\n"
   ]
  },
  {
   "cell_type": "code",
   "execution_count": 191,
   "metadata": {},
   "outputs": [
    {
     "data": {
      "image/png": "[encoded data removed]",
      "text/plain": [
       "<Figure size 1600x600 with 2 Axes>"
      ]
     },
     "metadata": {},
     "output_type": "display_data"
    }
   ],
   "source": [
    "fig, ax = plt.subplots(ncols=2, figsize=(16, 6))\n",
    "\n",
    "ax[0].plot(p_list, LCC_list, \n",
    "           c='k', ls='-', lw=3., \n",
    "           label=r'message passing')\n",
    "ax[0].plot(bond_x, NZ_bond_LCC_list, \n",
    "           c='r', ls='--', lw=4., alpha=0.7,\n",
    "           label=r'numerical simulation')\n",
    "ax[0].axvline(x=1/lambda2, c='g', ls='--', alpha=0.5, lw=4, label=r'$p_c=1/\\lambda$')\n",
    "\n",
    "ax[0].set_xlabel(r'$p$', fontsize=25)\n",
    "ax[0].set_ylabel(r'$P_{\\infty}$', fontsize=25)\n",
    "ax[0].tick_params('both', labelsize=25)\n",
    "ax[0].set_xlim(0.0, 1.0)\n",
    "ax[0].set_ylim(0.0, 1.0)\n",
    "ax[0].legend(fontsize=15)\n",
    "\n",
    "LCC_site = []\n",
    "for i, p in enumerate(p_list):\n",
    "    LCC_site.append(p*LCC_list[i])\n",
    "ax[1].plot(p_list, LCC_site, \n",
    "           c='k', ls='-', lw=3.,\n",
    "           label=r'message passing')\n",
    "ax[1].plot(site_x, NZ_site_LCC_list, \n",
    "           c='r', ls='--', lw=4., alpha=0.7,\n",
    "           label=r'numerical simulation')\n",
    "\n",
    "ax[1].axvline(x=1/lambda2, c='g', ls='--', alpha=0.5, lw=4, label=r'$p_c=1/\\lambda$')\n",
    "ax[1].set_xlabel(r'$p$', fontsize=25)\n",
    "ax[1].set_ylabel(r'$P_{\\infty}$', fontsize=25)\n",
    "ax[1].set_xlim(0.0, 1.0)\n",
    "ax[1].set_ylim(0.0, 1.0)\n",
    "ax[1].tick_params('both', labelsize=25)\n",
    "\n",
    "\n",
    "ax[0].set_title(r'Bond Percolation', fontsize=20)\n",
    "ax[1].set_title(r'Site Percolation', fontsize=20)\n",
    "\n",
    "plt.tight_layout()\n",
    "plt.show()\n"
   ]
  },
  {
   "cell_type": "markdown",
   "metadata": {},
   "source": [
    "# some cool visualization with message passing?"
   ]
  },
  {
   "cell_type": "code",
   "execution_count": 230,
   "metadata": {},
   "outputs": [],
   "source": [
    "def message_passing_percolation_iteration(G, p, prob_edges):\n",
    "    \n",
    "    max_err = 0.0\n",
    "    tmp_prob_edges = prob_edges.copy()\n",
    "    \n",
    "    for e in tmp_prob_edges:\n",
    "        tmp_prob_edges[e] = prob_edges[e]\n",
    "    \n",
    "    for e in prob_edges:\n",
    "        i = e[0]\n",
    "        j = e[1]\n",
    "\n",
    "        prob_edges[e] = 1.0\n",
    "        for k in G.neighbors(j):\n",
    "            if k != i:\n",
    "                # Here, we are actually computing the probability\n",
    "                # that node j is part of the largest cluster\n",
    "                # without the contribution of node i\n",
    "                prob_edges[e] = prob_edges[e] * (1.0 - p * tmp_prob_edges[(j, k)])\n",
    "        \n",
    "        # now we are changing the probability that node j is\n",
    "        # not part of the largest cluster when node i is removed\n",
    "        prob_edges[e] = 1.0 - prob_edges[e]\n",
    "        err = np.abs(prob_edges[e] - tmp_prob_edges[e])\n",
    "        if err > max_err:\n",
    "            max_err = err\n",
    "    return max_err\n",
    "\n",
    "\n",
    "def modified_solve_message_passing_percolation(G, p):\n",
    "    prob_edges = {(e[0], e[1]): random.random() for e in G.edges()}\n",
    "    prob_edges.update({(e[1], e[0]): random.random() for e in G.edges()})\n",
    "    list_prob_edges = []  # i want to keep track on the probability of each edge\n",
    "    iteration = 0\n",
    "\n",
    "    err = 1.0\n",
    "\n",
    "    while err > 1e-6:\n",
    "        err = message_passing_percolation_iteration(G, p, prob_edges)\n",
    "        iteration += 1\n",
    "        # if iteration % 100 == 0:\n",
    "        print(f\"iteration {iteration}, err={err}\")\n",
    "        tmp_prob_edges = prob_edges.copy()\n",
    "        list_prob_edges.append(tmp_prob_edges)\n",
    "    \n",
    "    print(f\"Converged in {iteration} iterations\")\n",
    "    \n",
    "    return list_prob_edges\n",
    "    \n",
    "def modified_get_percolation_diagram_from_message_passing(G, p):\n",
    "\n",
    "    LCC_list = []\n",
    "    list_prob_nodes = []\n",
    "\n",
    "    \n",
    "    list_prob_edges = modified_solve_message_passing_percolation(G, p)\n",
    "\n",
    "    for prob_edges in list_prob_edges:\n",
    "        prob_nodes = {n: 1.0 for n in G.nodes()}\n",
    "\n",
    "        for e in prob_edges:\n",
    "            n = e[0]\n",
    "            # Here, we are actually computing the probability\n",
    "            # that node n does not belong to the largest cluster\n",
    "            prob_nodes[n] = prob_nodes[n] * (1.0 - p * prob_edges[e])\n",
    "\n",
    "        P_infty = 0.0\n",
    "        for n in G.nodes:\n",
    "            # Now we are converting the previous probability\n",
    "            # into the probability that node n belongs to the largest cluster\n",
    "            prob_nodes[n] = 1.0 - prob_nodes[n]  \n",
    "            P_infty += prob_nodes[n]\n",
    "\n",
    "        P_infty /= len(G.nodes())\n",
    "\n",
    "        list_prob_nodes.append(prob_nodes)\n",
    "        LCC_list.append(P_infty)\n",
    "    return LCC_list, list_prob_nodes, list_prob_edges"
   ]
  },
  {
   "cell_type": "code",
   "execution_count": 292,
   "metadata": {},
   "outputs": [
    {
     "name": "stdout",
     "output_type": "stream",
     "text": [
      "iteration 1, err=0.9810244373243109\n",
      "iteration 2, err=0.5674938605757551\n",
      "iteration 3, err=0.26695743558279594\n",
      "iteration 4, err=0.10272723466507083\n",
      "iteration 5, err=0.04224626692403555\n",
      "iteration 6, err=0.019174945896936246\n",
      "iteration 7, err=0.00680481459144755\n",
      "iteration 8, err=0.002731894776507482\n",
      "iteration 9, err=0.0011108684434082416\n",
      "iteration 10, err=0.00045796427025701636\n",
      "iteration 11, err=0.00018589139598657045\n",
      "iteration 12, err=7.577442789963307e-05\n",
      "iteration 13, err=3.129791049227837e-05\n",
      "iteration 14, err=1.298243075231742e-05\n",
      "iteration 15, err=5.3342560630831315e-06\n",
      "iteration 16, err=2.1967546971479734e-06\n",
      "iteration 17, err=9.024598218720925e-07\n",
      "Converged in 17 iterations\n"
     ]
    }
   ],
   "source": [
    "N = 1000\n",
    "k = 5\n",
    "E = int(N * k / 2)\n",
    "G = nx.gnm_random_graph(N, E)\n",
    "p = 0.4\n",
    "gcc_list, node_prob_list, edge_prob_list = modified_get_percolation_diagram_from_message_passing(G, p)\n",
    "node_prob_list.insert(0, {i: random.random() for i in G.nodes()})\n",
    "node_prob_list.insert(0, node_prob_list[0])\n",
    "node_prob_list.insert(0, node_prob_list[0])"
   ]
  },
  {
   "cell_type": "code",
   "execution_count": 293,
   "metadata": {},
   "outputs": [
    {
     "data": {
      "text/plain": [
       "20"
      ]
     },
     "execution_count": 293,
     "metadata": {},
     "output_type": "execute_result"
    }
   ],
   "source": [
    "len(node_prob_list)"
   ]
  },
  {
   "cell_type": "code",
   "execution_count": 294,
   "metadata": {},
   "outputs": [
    {
     "data": {
      "text/plain": [
       "<Figure size 640x480 with 0 Axes>"
      ]
     },
     "metadata": {},
     "output_type": "display_data"
    }
   ],
   "source": [
    "from matplotlib.animation import FuncAnimation\n",
    "\n",
    "# Create an animation showing the evolution of node probabilities\n",
    "pos = nx.kamada_kawai_layout(G, scale=1.5)\n",
    "\n",
    "# Set up the figure and axis with higher DPI and larger size\n",
    "fig, ax = plt.subplots(figsize=(20, 18), dpi=250)\n",
    "plt.close()\n",
    "\n",
    "# Create a dummy scatter plot for the colorbar\n",
    "dummy_scatter = ax.scatter([], [], c=[], cmap=plt.cm.RdBu, vmin=0, vmax=1)\n",
    "cbar = plt.colorbar(dummy_scatter, ax=ax, label='Node Probability')\n",
    "cbar.ax.tick_params(labelsize=20)  # Increase colorbar tick label size\n",
    "cbar.set_label('Node Probability', size=25)  # Increase colorbar label size\n",
    "\n",
    "# Function to update the plot for each frame\n",
    "def update(frame):\n",
    "    ax.clear()\n",
    "    \n",
    "    # Get node probabilities for this iteration\n",
    "    node_probs = node_prob_list[frame]\n",
    "    \n",
    "    # Draw the network with larger nodes\n",
    "    nodes = nx.draw_networkx_nodes(G, pos,\n",
    "                                   node_color=[node_probs[node] for node in G.nodes()],\n",
    "                                   node_size=100,  # Increased node size\n",
    "                                   cmap=\"RdBu\",\n",
    "                                   vmin=0, vmax=1,\n",
    "                                   ax=ax)\n",
    "    nx.draw_networkx_edges(G, pos, alpha=0.2, ax=ax, width=2)  # Thicker edges\n",
    "    \n",
    "    if frame < 3:\n",
    "        ax.set_title(f'Iteration 0', fontsize=25)  # Larger title font\n",
    "    else:\n",
    "        ax.set_title(f'Iteration {frame-2}', fontsize=25)  # Larger title font\n",
    "    ax.axis('off')\n",
    "    return nodes,\n",
    "\n",
    "# Create the animation\n",
    "anim = FuncAnimation(fig, update, \n",
    "                     frames=len(node_prob_list),\n",
    "                     interval=500, # 500ms between frames\n",
    "                     blit=True)\n",
    "\n",
    "# Save the animation with higher quality\n",
    "anim.save(f'percolation_animation_{p:.2f}.gif', writer='pillow', dpi=250)\n",
    "\n",
    "plt.show()"
   ]
  },
  {
   "cell_type": "code",
   "execution_count": 300,
   "metadata": {},
   "outputs": [
    {
     "name": "stdout",
     "output_type": "stream",
     "text": [
      "iteration 1, err=0.9993738587149695\n",
      "iteration 2, err=0.0\n",
      "Converged in 2 iterations\n",
      "iteration 1, err=0.9993074778702294\n",
      "iteration 2, err=0.06849790712634285\n",
      "iteration 3, err=0.00312084945451363\n",
      "iteration 4, err=0.00015088101763083284\n",
      "iteration 5, err=7.3840175089934235e-06\n",
      "iteration 6, err=3.614963718368003e-07\n",
      "Converged in 6 iterations\n",
      "iteration 1, err=0.9970074621534327\n",
      "iteration 2, err=0.11440757999691953\n",
      "iteration 3, err=0.010643730193700573\n",
      "iteration 4, err=0.0011124982482837442\n",
      "iteration 5, err=0.00010996866211043788\n",
      "iteration 6, err=1.0903241007387265e-05\n",
      "iteration 7, err=1.061367935539792e-06\n",
      "iteration 8, err=1.048201176967467e-07\n",
      "Converged in 8 iterations\n",
      "iteration 1, err=0.9828450569876855\n",
      "iteration 2, err=0.17164633480085\n",
      "iteration 3, err=0.026761467150493323\n",
      "iteration 4, err=0.003604486915039229\n",
      "iteration 5, err=0.0005181127297969601\n",
      "iteration 6, err=7.697721860999707e-05\n",
      "iteration 7, err=1.1227361751742215e-05\n",
      "iteration 8, err=1.6660221131559183e-06\n",
      "iteration 9, err=2.4692766953382517e-07\n",
      "Converged in 9 iterations\n",
      "iteration 1, err=0.9976289940874239\n",
      "iteration 2, err=0.23380613965420938\n",
      "iteration 3, err=0.04162668215825038\n",
      "iteration 4, err=0.007776879606705922\n",
      "iteration 5, err=0.0014995428320000448\n",
      "iteration 6, err=0.0002956860252409932\n",
      "iteration 7, err=5.830209696344735e-05\n",
      "iteration 8, err=1.1470777259936504e-05\n",
      "iteration 9, err=2.2600406440753673e-06\n",
      "iteration 10, err=4.460592835098254e-07\n",
      "Converged in 10 iterations\n",
      "iteration 1, err=0.9660661768399355\n",
      "iteration 2, err=0.28768341816824294\n",
      "iteration 3, err=0.0653406632880057\n",
      "iteration 4, err=0.013678989671398578\n",
      "iteration 5, err=0.0034978280200993472\n",
      "iteration 6, err=0.0008493857365901025\n",
      "iteration 7, err=0.00020583533465401427\n",
      "iteration 8, err=5.07173928654403e-05\n",
      "iteration 9, err=1.2525159577725375e-05\n",
      "iteration 10, err=3.081888391376353e-06\n",
      "iteration 11, err=7.596796884890011e-07\n",
      "Converged in 11 iterations\n",
      "iteration 1, err=0.97470538744155\n",
      "iteration 2, err=0.2905237893893037\n",
      "iteration 3, err=0.08295721528500422\n",
      "iteration 4, err=0.022166262863598685\n",
      "iteration 5, err=0.006660949239603697\n",
      "iteration 6, err=0.0019229929099910947\n",
      "iteration 7, err=0.0005668358386935468\n",
      "iteration 8, err=0.00016715622210694558\n",
      "iteration 9, err=4.9522795980805334e-05\n",
      "iteration 10, err=1.4609996140224624e-05\n",
      "iteration 11, err=4.321376386062781e-06\n",
      "iteration 12, err=1.277410497602105e-06\n",
      "iteration 13, err=3.7762836546662015e-07\n",
      "Converged in 13 iterations\n",
      "iteration 1, err=0.9804258167262243\n",
      "iteration 2, err=0.3065773392209574\n",
      "iteration 3, err=0.09202190465788107\n",
      "iteration 4, err=0.03205013523607925\n",
      "iteration 5, err=0.010531971110439464\n",
      "iteration 6, err=0.003750267836968746\n",
      "iteration 7, err=0.0012724478225505376\n",
      "iteration 8, err=0.00044395990504086935\n",
      "iteration 9, err=0.00015237088433694979\n",
      "iteration 10, err=5.258935079754945e-05\n",
      "iteration 11, err=1.81304758150036e-05\n",
      "iteration 12, err=6.255382965614231e-06\n",
      "iteration 13, err=2.157132330760092e-06\n",
      "iteration 14, err=7.439868814351769e-07\n",
      "Converged in 14 iterations\n",
      "iteration 1, err=0.9786757252185475\n",
      "iteration 2, err=0.3353742313569159\n",
      "iteration 3, err=0.1110564916043485\n",
      "iteration 4, err=0.04145475193576953\n",
      "iteration 5, err=0.01700256028647862\n",
      "iteration 6, err=0.006642513272818729\n",
      "iteration 7, err=0.0026042036043257832\n",
      "iteration 8, err=0.0010207691883630243\n",
      "iteration 9, err=0.00040398917723794003\n",
      "iteration 10, err=0.00015899679813902168\n",
      "iteration 11, err=6.269987592488757e-05\n",
      "iteration 12, err=2.4716882885744695e-05\n",
      "iteration 13, err=9.740954132975155e-06\n",
      "iteration 14, err=3.839481945488998e-06\n",
      "iteration 15, err=1.5134756048418296e-06\n",
      "iteration 16, err=5.965792914119916e-07\n",
      "Converged in 16 iterations\n",
      "iteration 1, err=0.9665913609793028\n",
      "iteration 2, err=0.3162330909131946\n",
      "iteration 3, err=0.11265606230791358\n",
      "iteration 4, err=0.05139154731088191\n",
      "iteration 5, err=0.02329587193980609\n",
      "iteration 6, err=0.0105728102248841\n",
      "iteration 7, err=0.004573052702692815\n",
      "iteration 8, err=0.002036720484986154\n",
      "iteration 9, err=0.0009025616742288634\n",
      "iteration 10, err=0.0003998597071219745\n",
      "iteration 11, err=0.0001773962560627229\n",
      "iteration 12, err=7.866275704004888e-05\n",
      "iteration 13, err=3.487706886995401e-05\n",
      "iteration 14, err=1.5465732345565364e-05\n",
      "iteration 15, err=6.858348800764524e-06\n",
      "iteration 16, err=3.041309691198535e-06\n",
      "iteration 17, err=1.348670002121466e-06\n",
      "iteration 18, err=5.980712390885046e-07\n",
      "Converged in 18 iterations\n",
      "iteration 1, err=0.9992102114298226\n",
      "iteration 2, err=0.355045957134834\n",
      "iteration 3, err=0.15616324454167674\n",
      "iteration 4, err=0.062491733642854874\n",
      "iteration 5, err=0.03225273866163059\n",
      "iteration 6, err=0.016257388298797415\n",
      "iteration 7, err=0.007746328575397254\n",
      "iteration 8, err=0.0038506018170699763\n",
      "iteration 9, err=0.0018893117373964818\n",
      "iteration 10, err=0.0009311978805578436\n",
      "iteration 11, err=0.0004589438782361954\n",
      "iteration 12, err=0.00022615085458721484\n",
      "iteration 13, err=0.00011142920830675695\n",
      "iteration 14, err=5.490122810092313e-05\n",
      "iteration 15, err=2.705152057280724e-05\n",
      "iteration 16, err=1.3328893275210696e-05\n",
      "iteration 17, err=6.567467467188948e-06\n",
      "iteration 18, err=3.2359525500291753e-06\n",
      "iteration 19, err=1.594433859497535e-06\n",
      "iteration 20, err=7.856167959507943e-07\n",
      "Converged in 20 iterations\n",
      "iteration 1, err=0.9573600329463612\n",
      "iteration 2, err=0.3511674113402211\n",
      "iteration 3, err=0.14936598706429383\n",
      "iteration 4, err=0.07247739510479412\n",
      "iteration 5, err=0.04101662507708437\n",
      "iteration 6, err=0.02185361495559257\n",
      "iteration 7, err=0.01187406512926159\n",
      "iteration 8, err=0.00638529121307041\n",
      "iteration 9, err=0.0034705473145478782\n",
      "iteration 10, err=0.001878540252818306\n",
      "iteration 11, err=0.001018570872007185\n",
      "iteration 12, err=0.0005520412618117421\n",
      "iteration 13, err=0.00029917545757829345\n",
      "iteration 14, err=0.0001621456502339802\n",
      "iteration 15, err=8.788114397539903e-05\n",
      "iteration 16, err=4.7630624502525976e-05\n",
      "iteration 17, err=2.581567090575998e-05\n",
      "iteration 18, err=1.3992019120001586e-05\n",
      "iteration 19, err=7.583629688778792e-06\n",
      "iteration 20, err=4.1103070945736064e-06\n",
      "iteration 21, err=2.227773978180636e-06\n",
      "iteration 22, err=1.2074472102163725e-06\n",
      "iteration 23, err=6.544329336222177e-07\n",
      "Converged in 23 iterations\n",
      "iteration 1, err=0.9870332386131508\n",
      "iteration 2, err=0.34211112282705836\n",
      "iteration 3, err=0.14830263508307118\n",
      "iteration 4, err=0.08412187194298004\n",
      "iteration 5, err=0.04901849278634374\n",
      "iteration 6, err=0.028520103543132502\n",
      "iteration 7, err=0.017007916782623478\n",
      "iteration 8, err=0.009975044414138323\n",
      "iteration 9, err=0.005908755184483416\n",
      "iteration 10, err=0.0034837180579256888\n",
      "iteration 11, err=0.0020612500424985747\n",
      "iteration 12, err=0.0012181476097682387\n",
      "iteration 13, err=0.0007202764268697814\n",
      "iteration 14, err=0.00042581205698533076\n",
      "iteration 15, err=0.00025176147702932195\n",
      "iteration 16, err=0.00014885699836020283\n",
      "iteration 17, err=8.801319141371611e-05\n",
      "iteration 18, err=5.203927060515312e-05\n",
      "iteration 19, err=3.076913644584067e-05\n",
      "iteration 20, err=1.8192831408359034e-05\n",
      "iteration 21, err=1.0756856701266138e-05\n",
      "iteration 22, err=6.360198546939699e-06\n",
      "iteration 23, err=3.7605909761762035e-06\n",
      "iteration 24, err=2.223522759803309e-06\n",
      "iteration 25, err=1.3147012994929597e-06\n",
      "iteration 26, err=7.773428880586408e-07\n",
      "Converged in 26 iterations\n",
      "iteration 1, err=0.9887835578044227\n",
      "iteration 2, err=0.3521485672683595\n",
      "iteration 3, err=0.15602122374380667\n",
      "iteration 4, err=0.0877298896792349\n",
      "iteration 5, err=0.05806240158478415\n",
      "iteration 6, err=0.03686950712009551\n",
      "iteration 7, err=0.022963283615958674\n",
      "iteration 8, err=0.014768756250630455\n",
      "iteration 9, err=0.009425522133572506\n",
      "iteration 10, err=0.0060211613672239706\n",
      "iteration 11, err=0.0038543665642768454\n",
      "iteration 12, err=0.0024687182623265302\n",
      "iteration 13, err=0.0015803672700226423\n",
      "iteration 14, err=0.0010119748969941167\n",
      "iteration 15, err=0.0006481468345017616\n",
      "iteration 16, err=0.0004151302881663099\n",
      "iteration 17, err=0.0002658930423748984\n",
      "iteration 18, err=0.00017030929548789153\n",
      "iteration 19, err=0.00010908756493088756\n",
      "iteration 20, err=6.987416474513175e-05\n",
      "iteration 21, err=4.4756917231159044e-05\n",
      "iteration 22, err=2.8668513050611466e-05\n",
      "iteration 23, err=1.836331519688983e-05\n",
      "iteration 24, err=1.1762446705754215e-05\n",
      "iteration 25, err=7.534330056624405e-06\n",
      "iteration 26, err=4.82605051710383e-06\n",
      "iteration 27, err=3.0912864684706776e-06\n",
      "iteration 28, err=1.980098268794528e-06\n",
      "iteration 29, err=1.2683359476017841e-06\n",
      "iteration 30, err=8.12422423668302e-07\n",
      "Converged in 30 iterations\n",
      "iteration 1, err=0.9888910072320253\n",
      "iteration 2, err=0.3567464373304029\n",
      "iteration 3, err=0.19115198948094247\n",
      "iteration 4, err=0.08917517633620686\n",
      "iteration 5, err=0.06392910705209198\n",
      "iteration 6, err=0.04274370172664366\n",
      "iteration 7, err=0.029573428039394334\n",
      "iteration 8, err=0.019781763915712736\n",
      "iteration 9, err=0.013745567621951782\n",
      "iteration 10, err=0.0094020749538124\n",
      "iteration 11, err=0.006480775563592167\n",
      "iteration 12, err=0.004460256133484997\n",
      "iteration 13, err=0.0030735406811661647\n",
      "iteration 14, err=0.0021180791246959707\n",
      "iteration 15, err=0.0014603474092971247\n",
      "iteration 16, err=0.0010069627134655645\n",
      "iteration 17, err=0.0006944338910399583\n",
      "iteration 18, err=0.0004789379421058504\n",
      "iteration 19, err=0.0003303370246532378\n",
      "iteration 20, err=0.00022785102942912694\n",
      "iteration 21, err=0.000157165463498532\n",
      "iteration 22, err=0.00010841046545317923\n",
      "iteration 23, err=7.478095473201218e-05\n",
      "iteration 24, err=5.158396237303631e-05\n",
      "iteration 25, err=3.558287861304965e-05\n",
      "iteration 26, err=2.454535482343534e-05\n",
      "iteration 27, err=1.6931632314531875e-05\n",
      "iteration 28, err=1.167963379489212e-05\n",
      "iteration 29, err=8.056756384489105e-06\n",
      "iteration 30, err=5.557655946786255e-06\n",
      "iteration 31, err=3.833746329395815e-06\n",
      "iteration 32, err=2.6445713487976974e-06\n",
      "iteration 33, err=1.8242625450248795e-06\n",
      "iteration 34, err=1.2584022608397305e-06\n",
      "iteration 35, err=8.680639154157177e-07\n",
      "Converged in 35 iterations\n",
      "iteration 1, err=0.9843522794454697\n",
      "iteration 2, err=0.3494816123779927\n",
      "iteration 3, err=0.1617113815208464\n",
      "iteration 4, err=0.09560816287192075\n",
      "iteration 5, err=0.0687331971291234\n",
      "iteration 6, err=0.04941644653411492\n",
      "iteration 7, err=0.03476985446976888\n",
      "iteration 8, err=0.025323913022799016\n",
      "iteration 9, err=0.018598301144373997\n",
      "iteration 10, err=0.013606805545433476\n",
      "iteration 11, err=0.009997657282821315\n",
      "iteration 12, err=0.00735486538330965\n",
      "iteration 13, err=0.005418153473289777\n",
      "iteration 14, err=0.003994242738926013\n",
      "iteration 15, err=0.00294667251816072\n",
      "iteration 16, err=0.0021749210489422355\n",
      "iteration 17, err=0.0016058463783991117\n",
      "iteration 18, err=0.0011859841271788518\n",
      "iteration 19, err=0.0008760671971100864\n",
      "iteration 20, err=0.0006472286307934727\n",
      "iteration 21, err=0.0004782156867018106\n",
      "iteration 22, err=0.0003533651000077187\n",
      "iteration 23, err=0.0002611250405559762\n",
      "iteration 24, err=0.00019297089222325425\n",
      "iteration 25, err=0.00014260959564094122\n",
      "iteration 26, err=0.00010539397167907971\n",
      "iteration 27, err=7.789153197013121e-05\n",
      "iteration 28, err=5.756655329980376e-05\n",
      "iteration 29, err=4.2545563447182744e-05\n",
      "iteration 30, err=3.144425723178301e-05\n",
      "iteration 31, err=2.3239705737254646e-05\n",
      "iteration 32, err=1.7175981052108824e-05\n",
      "iteration 33, err=1.2694444308625208e-05\n",
      "iteration 34, err=9.382244246403104e-06\n",
      "iteration 35, err=6.934265056379729e-06\n",
      "iteration 36, err=5.125008996409441e-06\n",
      "iteration 37, err=3.787818740441651e-06\n",
      "iteration 38, err=2.7995228241151082e-06\n",
      "iteration 39, err=2.0690883466567556e-06\n",
      "iteration 40, err=1.5292349085926915e-06\n",
      "iteration 41, err=1.1302368942978092e-06\n",
      "iteration 42, err=8.353429978846805e-07\n",
      "Converged in 42 iterations\n",
      "iteration 1, err=0.9914104359362987\n",
      "iteration 2, err=0.3996899905665984\n",
      "iteration 3, err=0.17360697843297868\n",
      "iteration 4, err=0.09706691811032808\n",
      "iteration 5, err=0.07148988427197855\n",
      "iteration 6, err=0.05269194818064671\n",
      "iteration 7, err=0.03978220824912215\n",
      "iteration 8, err=0.0305434699090138\n",
      "iteration 9, err=0.02358918358664175\n",
      "iteration 10, err=0.01820056753660093\n",
      "iteration 11, err=0.014188207905574068\n",
      "iteration 12, err=0.011069913041694246\n",
      "iteration 13, err=0.008655331909099506\n",
      "iteration 14, err=0.006779086386667688\n",
      "iteration 15, err=0.005317529842183699\n",
      "iteration 16, err=0.004175470894230315\n",
      "iteration 17, err=0.0032813951348715786\n",
      "iteration 18, err=0.002580532255507806\n",
      "iteration 19, err=0.0020304189681151774\n",
      "iteration 20, err=0.0015982391014975894\n",
      "iteration 21, err=0.0012584609893318\n",
      "iteration 22, err=0.0009911721112676464\n",
      "iteration 23, err=0.0007808117030833062\n",
      "iteration 24, err=0.0006151949625620157\n",
      "iteration 25, err=0.0004847678747708084\n",
      "iteration 26, err=0.0003820303947160708\n",
      "iteration 27, err=0.0003010897137455393\n",
      "iteration 28, err=0.00023731252276226744\n",
      "iteration 29, err=0.00018705377150118885\n",
      "iteration 30, err=0.0001474446084233083\n",
      "iteration 31, err=0.00011622630222718477\n",
      "iteration 32, err=9.161999635820539e-05\n",
      "iteration 33, err=7.222445261634292e-05\n",
      "iteration 34, err=5.6935700019411506e-05\n",
      "iteration 35, err=4.488385273759832e-05\n",
      "iteration 36, err=3.5383401533306547e-05\n",
      "iteration 37, err=2.789408865222498e-05\n",
      "iteration 38, err=2.1990102377134058e-05\n",
      "iteration 39, err=1.733581563423403e-05\n",
      "iteration 40, err=1.3666674419932079e-05\n",
      "iteration 41, err=1.07741404208328e-05\n",
      "iteration 42, err=8.49382623357986e-06\n",
      "iteration 43, err=6.6961452735991855e-06\n",
      "iteration 44, err=5.278942814213039e-06\n",
      "iteration 45, err=4.161687984893803e-06\n",
      "iteration 46, err=3.2808958619900963e-06\n",
      "iteration 47, err=2.5865189601237404e-06\n",
      "iteration 48, err=2.0391027810706674e-06\n",
      "iteration 49, err=1.607543554382751e-06\n",
      "iteration 50, err=1.2673206836177897e-06\n",
      "iteration 51, err=9.991033381728798e-07\n",
      "Converged in 51 iterations\n",
      "iteration 1, err=0.99534325225902\n",
      "iteration 2, err=0.3779527629502476\n",
      "iteration 3, err=0.17291434356284363\n",
      "iteration 4, err=0.0959600823788872\n",
      "iteration 5, err=0.06690380546369223\n",
      "iteration 6, err=0.0542399851623695\n",
      "iteration 7, err=0.04190975314760925\n",
      "iteration 8, err=0.03381953918554759\n",
      "iteration 9, err=0.027030336729530924\n",
      "iteration 10, err=0.022088941491560266\n",
      "iteration 11, err=0.018019091907859996\n",
      "iteration 12, err=0.014794110409116934\n",
      "iteration 13, err=0.012170912070419204\n",
      "iteration 14, err=0.010049390068681996\n",
      "iteration 15, err=0.008316387824504834\n",
      "iteration 16, err=0.006896132391045806\n",
      "iteration 17, err=0.005727910784935064\n",
      "iteration 18, err=0.004764258089087092\n",
      "iteration 19, err=0.003967287255186469\n",
      "iteration 20, err=0.0033068300642837833\n",
      "iteration 21, err=0.0027585422590676867\n",
      "iteration 22, err=0.0023027118446395933\n",
      "iteration 23, err=0.0019232839571527993\n",
      "iteration 24, err=0.0016071306141975938\n",
      "iteration 25, err=0.0013434745768008405\n",
      "iteration 26, err=0.0011234411118781207\n",
      "iteration 27, err=0.0009397026557018684\n",
      "iteration 28, err=0.0007861952273843231\n",
      "iteration 29, err=0.0006578908944024908\n",
      "iteration 30, err=0.0005506140078922472\n",
      "iteration 31, err=0.0004608919848431148\n",
      "iteration 32, err=0.00038583360128996436\n",
      "iteration 33, err=0.00032302932926842054\n",
      "iteration 34, err=0.00027046944487973956\n",
      "iteration 35, err=0.00022647654078344903\n",
      "iteration 36, err=0.0001896497696434185\n",
      "iteration 37, err=0.0001588186808653136\n",
      "iteration 38, err=0.0001330049303127634\n",
      "iteration 39, err=0.00011139047125185986\n",
      "iteration 40, err=9.329109487588028e-05\n",
      "iteration 41, err=7.81343963965897e-05\n",
      "iteration 42, err=6.544140934883202e-05\n",
      "iteration 43, err=5.481128538253888e-05\n",
      "iteration 44, err=4.5908506049907594e-05\n",
      "iteration 45, err=3.845220216169842e-05\n",
      "iteration 46, err=3.2207229200609255e-05\n",
      "iteration 47, err=2.6976707117598586e-05\n",
      "iteration 48, err=2.259578217822522e-05\n",
      "iteration 49, err=1.8926409208419592e-05\n",
      "iteration 50, err=1.585298633721699e-05\n",
      "iteration 51, err=1.3278702203911585e-05\n",
      "iteration 52, err=1.1122478881131492e-05\n",
      "iteration 53, err=9.316412972970589e-06\n",
      "iteration 54, err=7.803633495950812e-06\n",
      "iteration 55, err=6.536508452392731e-06\n",
      "iteration 56, err=5.475143236566282e-06\n",
      "iteration 57, err=4.586123291683286e-06\n",
      "iteration 58, err=3.841461231113286e-06\n",
      "iteration 59, err=3.2177151229051404e-06\n",
      "iteration 60, err=2.6952501021026976e-06\n",
      "iteration 61, err=2.2576199659729568e-06\n",
      "iteration 62, err=1.8910492680657143e-06\n",
      "iteration 63, err=1.5839995405331209e-06\n",
      "iteration 64, err=1.3268060012894267e-06\n",
      "iteration 65, err=1.1113732628631467e-06\n",
      "iteration 66, err=9.309204690444162e-07\n",
      "Converged in 66 iterations\n",
      "iteration 1, err=0.9795852895982818\n",
      "iteration 2, err=0.3555378537538395\n",
      "iteration 3, err=0.19194818495579136\n",
      "iteration 4, err=0.0842562299591626\n",
      "iteration 5, err=0.06868968909219575\n",
      "iteration 6, err=0.05263481186078911\n",
      "iteration 7, err=0.04254285331515306\n",
      "iteration 8, err=0.03484800700832014\n",
      "iteration 9, err=0.0294710921255108\n",
      "iteration 10, err=0.024739422402788036\n",
      "iteration 11, err=0.020996657112515082\n",
      "iteration 12, err=0.01790056174316934\n",
      "iteration 13, err=0.015345960843541673\n",
      "iteration 14, err=0.013211479888778244\n",
      "iteration 15, err=0.011417234288490397\n",
      "iteration 16, err=0.009897471581387873\n",
      "iteration 17, err=0.008604073065221374\n",
      "iteration 18, err=0.007497753883588754\n",
      "iteration 19, err=0.006547523809472877\n",
      "iteration 20, err=0.0057282853598509265\n",
      "iteration 21, err=0.005019663773549232\n",
      "iteration 22, err=0.004404939163165866\n",
      "iteration 23, err=0.003870313504708789\n",
      "iteration 24, err=0.0034042989640945542\n",
      "iteration 25, err=0.0029972819994835698\n",
      "iteration 26, err=0.0026411677873169337\n",
      "iteration 27, err=0.0023291056277792155\n",
      "iteration 28, err=0.0020552700673639457\n",
      "iteration 29, err=0.0018146860672473286\n",
      "iteration 30, err=0.0016030883381072947\n",
      "iteration 31, err=0.0014168071549750527\n",
      "iteration 32, err=0.0012526751502075495\n",
      "iteration 33, err=0.0011079506881604972\n",
      "iteration 34, err=0.000980254501642852\n",
      "iteration 35, err=0.00086751699341725\n",
      "iteration 36, err=0.0007679341701070097\n",
      "iteration 37, err=0.0006799306081204382\n",
      "iteration 38, err=0.0006021281825573377\n",
      "iteration 39, err=0.000533319545778288\n",
      "iteration 40, err=0.000472445542276545\n",
      "iteration 41, err=0.00041857590272686984\n",
      "iteration 42, err=0.0003708926833870807\n",
      "iteration 43, err=0.0003286760147229728\n",
      "iteration 44, err=0.00029129180105014196\n",
      "iteration 45, err=0.0002581810753974345\n",
      "iteration 46, err=0.00022885076414991268\n",
      "iteration 47, err=0.00020286565677596347\n",
      "iteration 48, err=0.00017984140916993407\n",
      "iteration 49, err=0.00015943843632137966\n",
      "iteration 50, err=0.00014135657234959353\n",
      "iteration 51, err=0.0001253303944855899\n",
      "iteration 52, err=0.00011112512286004517\n",
      "iteration 53, err=9.853302082973858e-05\n",
      "iteration 54, err=8.737023125804377e-05\n",
      "iteration 55, err=7.747399322466375e-05\n",
      "iteration 56, err=6.870019125793103e-05\n",
      "iteration 57, err=6.092119566747378e-05\n",
      "iteration 58, err=5.402395804121607e-05\n",
      "iteration 59, err=4.790833073786693e-05\n",
      "iteration 60, err=4.248558314390305e-05\n",
      "iteration 61, err=3.767709105484407e-05\n",
      "iteration 62, err=3.341317841765168e-05\n",
      "iteration 63, err=2.9632093345166588e-05\n",
      "iteration 64, err=2.6279102495085915e-05\n",
      "iteration 65, err=2.3305689899166815e-05\n",
      "iteration 66, err=2.0668847971583304e-05\n",
      "iteration 67, err=1.8330449958914308e-05\n",
      "iteration 68, err=1.62566943335829e-05\n",
      "iteration 69, err=1.441761280340792e-05\n",
      "iteration 70, err=1.2786634554395881e-05\n",
      "iteration 71, err=1.1340200266940492e-05\n",
      "iteration 72, err=1.0057420147480123e-05\n",
      "iteration 73, err=8.919770937310112e-06\n",
      "iteration 74, err=7.91082740991822e-06\n",
      "iteration 75, err=7.016024432093815e-06\n",
      "iteration 76, err=6.222446059633846e-06\n",
      "iteration 77, err=5.5186386136441e-06\n",
      "iteration 78, err=4.894444974756773e-06\n",
      "iteration 79, err=4.3408576941850185e-06\n",
      "iteration 80, err=3.849888768558962e-06\n",
      "iteration 81, err=3.4144541860570143e-06\n",
      "iteration 82, err=3.0282715648422e-06\n",
      "iteration 83, err=2.6857693949944306e-06\n",
      "iteration 84, err=2.3820065626622977e-06\n",
      "iteration 85, err=2.112600996029279e-06\n",
      "iteration 86, err=1.8736663939256104e-06\n",
      "iteration 87, err=1.66175611415742e-06\n",
      "iteration 88, err=1.4738134244129952e-06\n",
      "iteration 89, err=1.307127382665918e-06\n",
      "iteration 90, err=1.1592937063653608e-06\n",
      "iteration 91, err=1.0281800825184817e-06\n",
      "iteration 92, err=9.118953935294272e-07\n",
      "Converged in 92 iterations\n",
      "iteration 1, err=0.9597842165964162\n",
      "iteration 2, err=0.3506977388325866\n",
      "iteration 3, err=0.1764196697206556\n",
      "iteration 4, err=0.08548479094309758\n",
      "iteration 5, err=0.0654021955626074\n",
      "iteration 6, err=0.04659960447968192\n",
      "iteration 7, err=0.04037250054174546\n",
      "iteration 8, err=0.03410103341252446\n",
      "iteration 9, err=0.029211156904627278\n",
      "iteration 10, err=0.02515100784563551\n",
      "iteration 11, err=0.021936607508973416\n",
      "iteration 12, err=0.019206851623051913\n",
      "iteration 13, err=0.01693689261615272\n",
      "iteration 14, err=0.015007829601197842\n",
      "iteration 15, err=0.013366265601248983\n",
      "iteration 16, err=0.011953851070201305\n",
      "iteration 17, err=0.01073213363759229\n",
      "iteration 18, err=0.009668060948064272\n",
      "iteration 19, err=0.008736852929109862\n",
      "iteration 20, err=0.007917458768308072\n",
      "iteration 21, err=0.007193218583602556\n",
      "iteration 22, err=0.006550359598928135\n",
      "iteration 23, err=0.005977542229536392\n",
      "iteration 24, err=0.005465319517294676\n",
      "iteration 25, err=0.005005788009666889\n",
      "iteration 26, err=0.004592288538166178\n",
      "iteration 27, err=0.004219178530491696\n",
      "iteration 28, err=0.0038816511117910624\n",
      "iteration 29, err=0.00357559036965871\n",
      "iteration 30, err=0.0032974550164565075\n",
      "iteration 31, err=0.003044184392673621\n",
      "iteration 32, err=0.0028131219287819142\n",
      "iteration 33, err=0.0026019524720269915\n",
      "iteration 34, err=0.0024086507022520465\n",
      "iteration 35, err=0.002231438437000799\n",
      "iteration 36, err=0.0020687491248982948\n",
      "iteration 37, err=0.0019191981730130037\n",
      "iteration 38, err=0.0017815580393324426\n",
      "iteration 39, err=0.0016547372345087075\n",
      "iteration 40, err=0.0015377625466791445\n",
      "iteration 41, err=0.001429763935307804\n",
      "iteration 42, err=0.001329961644967348\n",
      "iteration 43, err=0.001237655173078278\n",
      "iteration 44, err=0.0011522137921211595\n",
      "iteration 45, err=0.0010730683801293273\n",
      "iteration 46, err=0.0009997043562710584\n",
      "iteration 47, err=0.0009316555531335702\n",
      "iteration 48, err=0.0008684988856707543\n",
      "iteration 49, err=0.0008098496998624194\n",
      "iteration 50, err=0.0007553577031517156\n",
      "iteration 51, err=0.0007047033942967351\n",
      "iteration 52, err=0.0006575949232142664\n",
      "iteration 53, err=0.0006137653220524841\n",
      "iteration 54, err=0.0005729700576589947\n",
      "iteration 55, err=0.0005349848630206155\n",
      "iteration 56, err=0.0004996038114759571\n",
      "iteration 57, err=0.0004666376027284702\n",
      "iteration 58, err=0.0004359120340853284\n",
      "iteration 59, err=0.00040726663405665775\n",
      "iteration 60, err=0.0003805534386185361\n",
      "iteration 61, err=0.000355635893084183\n",
      "iteration 62, err=0.0003323878648481271\n",
      "iteration 63, err=0.00031069275415573916\n",
      "iteration 64, err=0.0002904426917709202\n",
      "iteration 65, err=0.0002715378138008484\n",
      "iteration 66, err=0.0002538856051687022\n",
      "iteration 67, err=0.00023740030429453274\n",
      "iteration 68, err=0.00022200236245306648\n",
      "iteration 69, err=0.00020761795204005118\n",
      "iteration 70, err=0.00019417851870728864\n",
      "iteration 71, err=0.00018162037286972854\n",
      "iteration 72, err=0.00016988431665609927\n",
      "iteration 73, err=0.00015891530277123422\n",
      "iteration 74, err=0.00014866212218411778\n",
      "iteration 75, err=0.00013907711785432486\n",
      "iteration 76, err=0.00013011592204914546\n",
      "iteration 77, err=0.00012173721503350166\n",
      "iteration 78, err=0.00011390250318976669\n",
      "iteration 79, err=0.00010657591477714057\n",
      "iteration 80, err=9.972401178337531e-05\n",
      "iteration 81, err=9.331561642011987e-05\n",
      "iteration 82, err=8.732165100666656e-05\n",
      "iteration 83, err=8.171499008391425e-05\n",
      "iteration 84, err=7.6470323715494e-05\n",
      "iteration 85, err=7.156403104890963e-05\n",
      "iteration 86, err=6.697406327216271e-05\n",
      "iteration 87, err=6.267983521668352e-05\n",
      "iteration 88, err=5.8662124878372524e-05\n",
      "iteration 89, err=5.4902980253679345e-05\n",
      "iteration 90, err=5.138563289086573e-05\n",
      "iteration 91, err=4.809441762954059e-05\n",
      "iteration 92, err=4.501469806372782e-05\n",
      "iteration 93, err=4.213279727438568e-05\n",
      "iteration 94, err=3.943593343114227e-05\n",
      "iteration 95, err=3.6912159907531716e-05\n",
      "iteration 96, err=3.4550309552683345e-05\n",
      "iteration 97, err=3.233994282958452e-05\n",
      "iteration 98, err=3.0271299526929418e-05\n",
      "iteration 99, err=2.8335253775990665e-05\n",
      "iteration 100, err=2.6523272152800814e-05\n",
      "iteration 101, err=2.4827374617508724e-05\n",
      "iteration 102, err=2.3240098116494856e-05\n",
      "iteration 103, err=2.1754462623646553e-05\n",
      "iteration 104, err=2.0363939490564142e-05\n",
      "iteration 105, err=1.906242189819718e-05\n",
      "iteration 106, err=1.7844197299665687e-05\n",
      "iteration 107, err=1.6703921696836765e-05\n",
      "iteration 108, err=1.5636595627088745e-05\n",
      "iteration 109, err=1.4637541742246185e-05\n",
      "iteration 110, err=1.370238388054279e-05\n",
      "iteration 111, err=1.2827027506712163e-05\n",
      "iteration 112, err=1.2007641453704032e-05\n",
      "iteration 113, err=1.1240640860776807e-05\n",
      "iteration 114, err=1.0522671230139835e-05\n",
      "iteration 115, err=9.8505935302029e-06\n",
      "iteration 116, err=9.221470277598343e-06\n",
      "iteration 117, err=8.63255252203654e-06\n",
      "iteration 118, err=8.081267679926896e-06\n",
      "iteration 119, err=7.565208170690063e-06\n",
      "iteration 120, err=7.08212078048831e-06\n",
      "iteration 121, err=6.6298967248412666e-06\n",
      "iteration 122, err=6.206562351840361e-06\n",
      "iteration 123, err=5.81027045154503e-06\n",
      "iteration 124, err=5.439292128039952e-06\n",
      "iteration 125, err=5.092009192519953e-06\n",
      "iteration 126, err=4.766907059194914e-06\n",
      "iteration 127, err=4.462568083729579e-06\n",
      "iteration 128, err=4.177665351656756e-06\n",
      "iteration 129, err=3.910956849595415e-06\n",
      "iteration 130, err=3.6612800246027533e-06\n",
      "iteration 131, err=3.4275466856970027e-06\n",
      "iteration 132, err=3.208738237114872e-06\n",
      "iteration 133, err=3.0039012270943743e-06\n",
      "iteration 134, err=2.812143160779712e-06\n",
      "iteration 135, err=2.6326286066691296e-06\n",
      "iteration 136, err=2.4645755374308465e-06\n",
      "iteration 137, err=2.3072519130806768e-06\n",
      "iteration 138, err=2.1599724807641607e-06\n",
      "iteration 139, err=2.0220957788197325e-06\n",
      "iteration 140, err=1.8930213382395422e-06\n",
      "iteration 141, err=1.7721870559928021e-06\n",
      "iteration 142, err=1.6590667450966379e-06\n",
      "iteration 143, err=1.5531678350111378e-06\n",
      "iteration 144, err=1.454029220027131e-06\n",
      "iteration 145, err=1.3612192536482937e-06\n",
      "iteration 146, err=1.2743338594356501e-06\n",
      "iteration 147, err=1.1929947693056775e-06\n",
      "iteration 148, err=1.1168478765144485e-06\n",
      "iteration 149, err=1.045561690116159e-06\n",
      "iteration 150, err=9.788258882315048e-07\n",
      "Converged in 150 iterations\n",
      "iteration 1, err=0.9935579891223415\n",
      "iteration 2, err=0.37729911902064306\n",
      "iteration 3, err=0.16001091832890213\n",
      "iteration 4, err=0.08832857816167772\n",
      "iteration 5, err=0.05597704846326357\n",
      "iteration 6, err=0.0431422957531159\n",
      "iteration 7, err=0.03584831268191624\n",
      "iteration 8, err=0.030795623312993015\n",
      "iteration 9, err=0.02671634464593109\n",
      "iteration 10, err=0.02318187244999037\n",
      "iteration 11, err=0.020528384465502425\n",
      "iteration 12, err=0.01819132432534587\n",
      "iteration 13, err=0.016256948239047997\n",
      "iteration 14, err=0.014609837421334482\n",
      "iteration 15, err=0.013200246339928334\n",
      "iteration 16, err=0.011984930373404312\n",
      "iteration 17, err=0.010928293372909237\n",
      "iteration 18, err=0.010004720237371645\n",
      "iteration 19, err=0.009192543264901154\n",
      "iteration 20, err=0.008474632909388768\n",
      "iteration 21, err=0.007836924180639304\n",
      "iteration 22, err=0.007267903027139089\n",
      "iteration 23, err=0.006758054056083207\n",
      "iteration 24, err=0.006299446837023104\n",
      "iteration 25, err=0.005885437444401842\n",
      "iteration 26, err=0.005510424035292338\n",
      "iteration 27, err=0.005169656955233859\n",
      "iteration 28, err=0.004859088573436865\n",
      "iteration 29, err=0.004575251930208912\n",
      "iteration 30, err=0.004315163721592352\n",
      "iteration 31, err=0.004076245602945838\n",
      "iteration 32, err=0.0038562599693829913\n",
      "iteration 33, err=0.0036532573263096113\n",
      "iteration 34, err=0.0034655328995615298\n",
      "iteration 35, err=0.0032915906785834226\n",
      "iteration 36, err=0.0031301134727032\n",
      "iteration 37, err=0.0029799378603799775\n",
      "iteration 38, err=0.0028400331378624077\n",
      "iteration 39, err=0.0027094835546088714\n",
      "iteration 40, err=0.0025874732618639262\n",
      "iteration 41, err=0.0024732735111572257\n",
      "iteration 42, err=0.0023662317264585564\n",
      "iteration 43, err=0.0022657621430905994\n",
      "iteration 44, err=0.0021713377618785\n",
      "iteration 45, err=0.002082483411525393\n",
      "iteration 46, err=0.001998769748159046\n",
      "iteration 47, err=0.0019198080501108272\n",
      "iteration 48, err=0.0018452456897256608\n",
      "iteration 49, err=0.001774762183401224\n",
      "iteration 50, err=0.0017080657369911156\n",
      "iteration 51, err=0.001644890216802919\n",
      "iteration 52, err=0.0015849924873290178\n",
      "iteration 53, err=0.00152815006580298\n",
      "iteration 54, err=0.0014741590512155067\n",
      "iteration 55, err=0.0014228322916958192\n",
      "iteration 56, err=0.0013739977593864028\n",
      "iteration 57, err=0.0013274971064097807\n",
      "iteration 58, err=0.0012831843792007191\n",
      "iteration 59, err=0.0012409248716824806\n",
      "iteration 60, err=0.0012005941003807585\n",
      "iteration 61, err=0.0011620768869062825\n",
      "iteration 62, err=0.0011252665351147995\n",
      "iteration 63, err=0.0010900640919530025\n",
      "iteration 64, err=0.0010563776823985238\n",
      "iteration 65, err=0.0010241219101135846\n",
      "iteration 66, err=0.00099321731651425\n",
      "iteration 67, err=0.0009635898918181063\n",
      "iteration 68, err=0.0009351706324384201\n",
      "iteration 69, err=0.0009078951397902824\n",
      "iteration 70, err=0.0008817032561102556\n",
      "iteration 71, err=0.0008565387334589225\n",
      "iteration 72, err=0.0008323489324858491\n",
      "iteration 73, err=0.0008090845479288289\n",
      "iteration 74, err=0.0007866993581872039\n",
      "iteration 75, err=0.0007651499965715125\n",
      "iteration 76, err=0.0007443957421114922\n",
      "iteration 77, err=0.0007243983280461608\n",
      "iteration 78, err=0.000705121766286787\n",
      "iteration 79, err=0.0006865321863734897\n",
      "iteration 80, err=0.0006685976875492328\n",
      "iteration 81, err=0.0006512882027611688\n",
      "iteration 82, err=0.00063457537349354\n",
      "iteration 83, err=0.0006184324344592484\n",
      "iteration 84, err=0.0006028341072726873\n",
      "iteration 85, err=0.0005877565023159059\n",
      "iteration 86, err=0.0005731770280776871\n",
      "iteration 87, err=0.0005590743073261573\n",
      "iteration 88, err=0.0005454280995322858\n",
      "iteration 89, err=0.0005322192290192485\n",
      "iteration 90, err=0.0005194295183519326\n",
      "iteration 91, err=0.0005070417265427007\n",
      "iteration 92, err=0.0004950394916771739\n",
      "iteration 93, err=0.0004834072775949938\n",
      "iteration 94, err=0.0004721303243163666\n",
      "iteration 95, err=0.00046119460189808503\n",
      "iteration 96, err=0.0004505867674664543\n",
      "iteration 97, err=0.00044029412517210265\n",
      "iteration 98, err=0.0004303045888398582\n",
      "iteration 99, err=0.0004206066471120762\n",
      "iteration 100, err=0.00041118933089889786\n",
      "iteration 101, err=0.00040204218295603056\n",
      "iteration 102, err=0.00039315522943628167\n",
      "iteration 103, err=0.00038451895327606955\n",
      "iteration 104, err=0.0003761242692617017\n",
      "iteration 105, err=0.00036796250069004444\n",
      "iteration 106, err=0.00036002535747270414\n",
      "iteration 107, err=0.00035230491560078736\n",
      "iteration 108, err=0.00034479359787942254\n",
      "iteration 109, err=0.0003374841558277941\n",
      "iteration 110, err=0.0003303696526723021\n",
      "iteration 111, err=0.0003234434473624592\n",
      "iteration 112, err=0.00031669917953502935\n",
      "iteration 113, err=0.00031013075535701873\n",
      "iteration 114, err=0.00030373233420311063\n",
      "iteration 115, err=0.0002974983161001532\n",
      "iteration 116, err=0.0002914233298900726\n",
      "iteration 117, err=0.00028550222207479603\n",
      "iteration 118, err=0.0002797300462814567\n",
      "iteration 119, err=0.0002741020533251204\n",
      "iteration 120, err=0.0002686136818215168\n",
      "iteration 121, err=0.0002632605493150253\n",
      "iteration 122, err=0.00025803844389860053\n",
      "iteration 123, err=0.00025294331627845335\n",
      "iteration 124, err=0.0002479712722793792\n",
      "iteration 125, err=0.00024311856573666635\n",
      "iteration 126, err=0.00023838159177713703\n",
      "iteration 127, err=0.00023375688044580123\n",
      "iteration 128, err=0.00022924109067135046\n",
      "iteration 129, err=0.00022483100453929428\n",
      "iteration 130, err=0.00022052352186541224\n",
      "iteration 131, err=0.00021631565503998917\n",
      "iteration 132, err=0.00021220452414383306\n",
      "iteration 133, err=0.00020818735229632956\n",
      "iteration 134, err=0.00020426146125296363\n",
      "iteration 135, err=0.00020042426720268125\n",
      "iteration 136, err=0.00019667327679018243\n",
      "iteration 137, err=0.0001930060833228442\n",
      "iteration 138, err=0.0001894203631601643\n",
      "iteration 139, err=0.0001859138722904996\n",
      "iteration 140, err=0.00018248444305479783\n",
      "iteration 141, err=0.00017912998103830624\n",
      "iteration 142, err=0.00017584846210882965\n",
      "iteration 143, err=0.0001726379295841074\n",
      "iteration 144, err=0.00016949649154684998\n",
      "iteration 145, err=0.0001664223182712421\n",
      "iteration 146, err=0.00016341363977101508\n",
      "iteration 147, err=0.00016046874346753448\n",
      "iteration 148, err=0.00015758597195192348\n",
      "iteration 149, err=0.0001547637208584307\n",
      "iteration 150, err=0.0001520004368260608\n",
      "iteration 151, err=0.00014929461555679424\n",
      "iteration 152, err=0.0001466447999544096\n",
      "iteration 153, err=0.00014404957835034704\n",
      "iteration 154, err=0.00014150758280317977\n",
      "iteration 155, err=0.00013901748747568998\n",
      "iteration 156, err=0.00013657800707678192\n",
      "iteration 157, err=0.00013418789537822384\n",
      "iteration 158, err=0.000131845943785458\n",
      "iteration 159, err=0.00012955097997791043\n",
      "iteration 160, err=0.00012730186659981602\n",
      "iteration 161, err=0.00012509750000833098\n",
      "iteration 162, err=0.00012293680907671245\n",
      "iteration 163, err=0.00012081875404157394\n",
      "iteration 164, err=0.00011874232540254326\n",
      "iteration 165, err=0.00011670654286277671\n",
      "iteration 166, err=0.00011471045431743487\n",
      "iteration 167, err=0.00011275313487779659\n",
      "iteration 168, err=0.00011083368593856058\n",
      "iteration 169, err=0.00010895123428056319\n",
      "iteration 170, err=0.00010710493121024456\n",
      "iteration 171, err=0.00010529395173120015\n",
      "iteration 172, err=0.00010351749375248076\n",
      "iteration 173, err=0.0001017747773210953\n",
      "iteration 174, err=0.00010006504389326043\n",
      "iteration 175, err=9.838755562274759e-05\n",
      "iteration 176, err=9.67415946878658e-05\n",
      "iteration 177, err=9.512646263831748e-05\n",
      "iteration 178, err=9.35414797645917e-05\n",
      "iteration 179, err=9.19859844976667e-05\n",
      "iteration 180, err=9.045933282436636e-05\n",
      "iteration 181, err=8.896089773247073e-05\n",
      "iteration 182, err=8.749006866826115e-05\n",
      "iteration 183, err=8.60462510201554e-05\n",
      "iteration 184, err=8.462886561666494e-05\n",
      "iteration 185, err=8.323734824922102e-05\n",
      "iteration 186, err=8.187114920421568e-05\n",
      "iteration 187, err=8.052973282013376e-05\n",
      "iteration 188, err=7.921257705190143e-05\n",
      "iteration 189, err=7.791917305965956e-05\n",
      "iteration 190, err=7.664902480841729e-05\n",
      "iteration 191, err=7.540164867703147e-05\n",
      "iteration 192, err=7.417657309050085e-05\n",
      "iteration 193, err=7.297333815914353e-05\n",
      "iteration 194, err=7.179149532920981e-05\n",
      "iteration 195, err=7.063060705114754e-05\n",
      "iteration 196, err=6.949024645297452e-05\n",
      "iteration 197, err=6.836999703296875e-05\n",
      "iteration 198, err=6.726945235124848e-05\n",
      "iteration 199, err=6.618821574577716e-05\n",
      "iteration 200, err=6.512590004326135e-05\n",
      "iteration 201, err=6.408212729658302e-05\n",
      "iteration 202, err=6.305652851212873e-05\n",
      "iteration 203, err=6.204874340265398e-05\n",
      "iteration 204, err=6.10584201410358e-05\n",
      "iteration 205, err=6.008521511757792e-05\n",
      "iteration 206, err=5.9128792718743384e-05\n",
      "iteration 207, err=5.8188825096117114e-05\n",
      "iteration 208, err=5.72649919587942e-05\n",
      "iteration 209, err=5.635698036310366e-05\n",
      "iteration 210, err=5.546448450843844e-05\n",
      "iteration 211, err=5.4587205548295437e-05\n",
      "iteration 212, err=5.372485139520933e-05\n",
      "iteration 213, err=5.287713654555937e-05\n",
      "iteration 214, err=5.204378189438419e-05\n",
      "iteration 215, err=5.1224514574510494e-05\n",
      "iteration 216, err=5.0419067781137805e-05\n",
      "iteration 217, err=4.962718061485294e-05\n",
      "iteration 218, err=4.8848597931305804e-05\n",
      "iteration 219, err=4.8083070181448306e-05\n",
      "iteration 220, err=4.7330353268426606e-05\n",
      "iteration 221, err=4.659020841346617e-05\n",
      "iteration 222, err=4.586240200654679e-05\n",
      "iteration 223, err=4.514670547961508e-05\n",
      "iteration 224, err=4.444289518068523e-05\n",
      "iteration 225, err=4.375075224016811e-05\n",
      "iteration 226, err=4.307006245674039e-05\n",
      "iteration 227, err=4.240061617566404e-05\n",
      "iteration 228, err=4.1742208176431816e-05\n",
      "iteration 229, err=4.109463755930243e-05\n",
      "iteration 230, err=4.045770764105061e-05\n",
      "iteration 231, err=3.983122584738652e-05\n",
      "iteration 232, err=3.921500361325769e-05\n",
      "iteration 233, err=3.860885628181876e-05\n",
      "iteration 234, err=3.801260301372622e-05\n",
      "iteration 235, err=3.742606668910575e-05\n",
      "iteration 236, err=3.684907381884539e-05\n",
      "iteration 237, err=3.62814544583312e-05\n",
      "iteration 238, err=3.572304212040578e-05\n",
      "iteration 239, err=3.517367369354485e-05\n",
      "iteration 240, err=3.463318936203219e-05\n",
      "iteration 241, err=3.410143252491338e-05\n",
      "iteration 242, err=3.357824972349821e-05\n",
      "iteration 243, err=3.3063490565643505e-05\n",
      "iteration 244, err=3.2557007653477577e-05\n",
      "iteration 245, err=3.205865651412232e-05\n",
      "iteration 246, err=3.156829553263574e-05\n",
      "iteration 247, err=3.108578588373323e-05\n",
      "iteration 248, err=3.061099146994817e-05\n",
      "iteration 249, err=3.0143778856794867e-05\n",
      "iteration 250, err=2.9684017213704728e-05\n",
      "iteration 251, err=2.9231578252075785e-05\n",
      "iteration 252, err=2.8786336171982008e-05\n",
      "iteration 253, err=2.834816760310943e-05\n",
      "iteration 254, err=2.791695154746865e-05\n",
      "iteration 255, err=2.7492569334652828e-05\n",
      "iteration 256, err=2.7074904558777035e-05\n",
      "iteration 257, err=2.6663843038399193e-05\n",
      "iteration 258, err=2.625927276034279e-05\n",
      "iteration 259, err=2.586108383551e-05\n",
      "iteration 260, err=2.5469168451919266e-05\n",
      "iteration 261, err=2.5083420823968083e-05\n",
      "iteration 262, err=2.4703737160458594e-05\n",
      "iteration 263, err=2.433001560564474e-05\n",
      "iteration 264, err=2.3962156212031793e-05\n",
      "iteration 265, err=2.360006088708566e-05\n",
      "iteration 266, err=2.324363336259072e-05\n",
      "iteration 267, err=2.2892779151129083e-05\n",
      "iteration 268, err=2.2547405507777896e-05\n",
      "iteration 269, err=2.220742139669163e-05\n",
      "iteration 270, err=2.1872737449024626e-05\n",
      "iteration 271, err=2.154326593672984e-05\n",
      "iteration 272, err=2.121892072703968e-05\n",
      "iteration 273, err=2.089961725926237e-05\n",
      "iteration 274, err=2.0585272505035945e-05\n",
      "iteration 275, err=2.0275804941127795e-05\n",
      "iteration 276, err=1.9971134514240596e-05\n",
      "iteration 277, err=1.9671182614477978e-05\n",
      "iteration 278, err=1.9375872043148057e-05\n",
      "iteration 279, err=1.908512698489684e-05\n",
      "iteration 280, err=1.8798872979508552e-05\n",
      "iteration 281, err=1.851703689303985e-05\n",
      "iteration 282, err=1.8239546894172065e-05\n",
      "iteration 283, err=1.796633242345802e-05\n",
      "iteration 284, err=1.7697324171894735e-05\n",
      "iteration 285, err=1.7432454052279667e-05\n",
      "iteration 286, err=1.7171655179115675e-05\n",
      "iteration 287, err=1.691486183819091e-05\n",
      "iteration 288, err=1.6662009471368755e-05\n",
      "iteration 289, err=1.6413034646722835e-05\n",
      "iteration 290, err=1.616787503988526e-05\n",
      "iteration 291, err=1.5926469411065014e-05\n",
      "iteration 292, err=1.568875758561905e-05\n",
      "iteration 293, err=1.5454680431070678e-05\n",
      "iteration 294, err=1.5224179836459406e-05\n",
      "iteration 295, err=1.4997198695021474e-05\n",
      "iteration 296, err=1.477368088320663e-05\n",
      "iteration 297, err=1.455357124124923e-05\n",
      "iteration 298, err=1.4336815554627513e-05\n",
      "iteration 299, err=1.4123360539075591e-05\n",
      "iteration 300, err=1.391315381704672e-05\n",
      "iteration 301, err=1.3706143906166979e-05\n",
      "iteration 302, err=1.3502280197585925e-05\n",
      "iteration 303, err=1.3301512942653915e-05\n",
      "iteration 304, err=1.310379323637978e-05\n",
      "iteration 305, err=1.2909072997890902e-05\n",
      "iteration 306, err=1.27173049598861e-05\n",
      "iteration 307, err=1.252844265176023e-05\n",
      "iteration 308, err=1.2342440381951647e-05\n",
      "iteration 309, err=1.2159253226839972e-05\n",
      "iteration 310, err=1.1978837015313992e-05\n",
      "iteration 311, err=1.180114831433876e-05\n",
      "iteration 312, err=1.1626144417631323e-05\n",
      "iteration 313, err=1.1453783326231814e-05\n",
      "iteration 314, err=1.1284023744506655e-05\n",
      "iteration 315, err=1.111682505883227e-05\n",
      "iteration 316, err=1.0952147330267614e-05\n",
      "iteration 317, err=1.0789951280676391e-05\n",
      "iteration 318, err=1.063019827995948e-05\n",
      "iteration 319, err=1.0472850336396e-05\n",
      "iteration 320, err=1.0317870082654501e-05\n",
      "iteration 321, err=1.0165220764801752e-05\n",
      "iteration 322, err=1.0014866233976072e-05\n",
      "iteration 323, err=9.866770932620561e-06\n",
      "iteration 324, err=9.720899885490297e-06\n",
      "iteration 325, err=9.577218687217837e-06\n",
      "iteration 326, err=9.435693495318809e-06\n",
      "iteration 327, err=9.296291016647196e-06\n",
      "iteration 328, err=9.15897850151115e-06\n",
      "iteration 329, err=9.023723729795208e-06\n",
      "iteration 330, err=8.890495005520194e-06\n",
      "iteration 331, err=8.75926114507486e-06\n",
      "iteration 332, err=8.629991468889209e-06\n",
      "iteration 333, err=8.502655792885783e-06\n",
      "iteration 334, err=8.377224418709694e-06\n",
      "iteration 335, err=8.253668129509784e-06\n",
      "iteration 336, err=8.13195817328527e-06\n",
      "iteration 337, err=8.012066263107798e-06\n",
      "iteration 338, err=7.893964564797962e-06\n",
      "iteration 339, err=7.7776256899309e-06\n",
      "iteration 340, err=7.663022687842691e-06\n",
      "iteration 341, err=7.550129038857989e-06\n",
      "iteration 342, err=7.4389186450751765e-06\n",
      "iteration 343, err=7.329365827701828e-06\n",
      "iteration 344, err=7.221445312066699e-06\n",
      "iteration 345, err=7.115132229507104e-06\n",
      "iteration 346, err=7.010402102380908e-06\n",
      "iteration 347, err=6.9072308459539045e-06\n",
      "iteration 348, err=6.805594751191357e-06\n",
      "iteration 349, err=6.705470489420939e-06\n",
      "iteration 350, err=6.606835096567565e-06\n",
      "iteration 351, err=6.5096659748187236e-06\n",
      "iteration 352, err=6.413940879967939e-06\n",
      "iteration 353, err=6.319637918528187e-06\n",
      "iteration 354, err=6.226735541736694e-06\n",
      "iteration 355, err=6.135212541336088e-06\n",
      "iteration 356, err=6.045048038805234e-06\n",
      "iteration 357, err=5.956221485803326e-06\n",
      "iteration 358, err=5.868712654399921e-06\n",
      "iteration 359, err=5.7825016344104085e-06\n",
      "iteration 360, err=5.697568825180355e-06\n",
      "iteration 361, err=5.6138949353634615e-06\n",
      "iteration 362, err=5.531460971042179e-06\n",
      "iteration 363, err=5.450248237504063e-06\n",
      "iteration 364, err=5.37023832847261e-06\n",
      "iteration 365, err=5.291413127439526e-06\n",
      "iteration 366, err=5.213754795563297e-06\n",
      "iteration 367, err=5.1372457764431445e-06\n",
      "iteration 368, err=5.061868779354661e-06\n",
      "iteration 369, err=4.987606788353638e-06\n",
      "iteration 370, err=4.914443045622718e-06\n",
      "iteration 371, err=4.842361057799671e-06\n",
      "iteration 372, err=4.771344581988579e-06\n",
      "iteration 373, err=4.70137762820233e-06\n",
      "iteration 374, err=4.6324444555878586e-06\n",
      "iteration 375, err=4.5645295619900494e-06\n",
      "iteration 376, err=4.497617687060362e-06\n",
      "iteration 377, err=4.431693804374248e-06\n",
      "iteration 378, err=4.366743119654792e-06\n",
      "iteration 379, err=4.302751065887733e-06\n",
      "iteration 380, err=4.239703297437281e-06\n",
      "iteration 381, err=4.177585693598829e-06\n",
      "iteration 382, err=4.116384347052637e-06\n",
      "iteration 383, err=4.0560855638638316e-06\n",
      "iteration 384, err=3.996675861595023e-06\n",
      "iteration 385, err=3.938141961867814e-06\n",
      "iteration 386, err=3.88047079180609e-06\n",
      "iteration 387, err=3.82364947737468e-06\n",
      "iteration 388, err=3.767665340714821e-06\n",
      "iteration 389, err=3.7125058979237124e-06\n",
      "iteration 390, err=3.658158856612026e-06\n",
      "iteration 391, err=3.6046121093535888e-06\n",
      "iteration 392, err=3.5518537367940084e-06\n",
      "iteration 393, err=3.4998719976586656e-06\n",
      "iteration 394, err=3.448655330084982e-06\n",
      "iteration 395, err=3.3981923502901523e-06\n",
      "iteration 396, err=3.3484718453546947e-06\n",
      "iteration 397, err=3.2994827726673392e-06\n",
      "iteration 398, err=3.2512142584817383e-06\n",
      "iteration 399, err=3.20365559280944e-06\n",
      "iteration 400, err=3.156796229308867e-06\n",
      "iteration 401, err=3.1106257805113557e-06\n",
      "iteration 402, err=3.0651340157117346e-06\n",
      "iteration 403, err=3.0203108609683227e-06\n",
      "iteration 404, err=2.9761463929967036e-06\n",
      "iteration 405, err=2.9326308395027922e-06\n",
      "iteration 406, err=2.8897545756301213e-06\n",
      "iteration 407, err=2.8475081208512165e-06\n",
      "iteration 408, err=2.805882140521909e-06\n",
      "iteration 409, err=2.7648674375546634e-06\n",
      "iteration 410, err=2.7244549559712894e-06\n",
      "iteration 411, err=2.6846357733534276e-06\n",
      "iteration 412, err=2.645401107059797e-06\n",
      "iteration 413, err=2.606742301014542e-06\n",
      "iteration 414, err=2.568650832146524e-06\n",
      "iteration 415, err=2.53111830583741e-06\n",
      "iteration 416, err=2.4941364518138442e-06\n",
      "iteration 417, err=2.457697126700964e-06\n",
      "iteration 418, err=2.4217923078051484e-06\n",
      "iteration 419, err=2.386414092447886e-06\n",
      "iteration 420, err=2.3515546976327073e-06\n",
      "iteration 421, err=2.3172064577137164e-06\n",
      "iteration 422, err=2.283361820287766e-06\n",
      "iteration 423, err=2.2500133464165017e-06\n",
      "iteration 424, err=2.217153710293296e-06\n",
      "iteration 425, err=2.1847756944692875e-06\n",
      "iteration 426, err=2.152872189076227e-06\n",
      "iteration 427, err=2.121436191604431e-06\n",
      "iteration 428, err=2.0904608049043816e-06\n",
      "iteration 429, err=2.059939232634811e-06\n",
      "iteration 430, err=2.029864783259505e-06\n",
      "iteration 431, err=2.0002308618316533e-06\n",
      "iteration 432, err=1.9710309742126952e-06\n",
      "iteration 433, err=1.9422587228534738e-06\n",
      "iteration 434, err=1.9139078044627666e-06\n",
      "iteration 435, err=1.8859720118946655e-06\n",
      "iteration 436, err=1.8584452280423491e-06\n",
      "iteration 437, err=1.8313214295018199e-06\n",
      "iteration 438, err=1.8045946811318103e-06\n",
      "iteration 439, err=1.7782591364978728e-06\n",
      "iteration 440, err=1.7523090360960225e-06\n",
      "iteration 441, err=1.726738706131492e-06\n",
      "iteration 442, err=1.701542558629754e-06\n",
      "iteration 443, err=1.6767150871066505e-06\n",
      "iteration 444, err=1.6522508662353275e-06\n",
      "iteration 445, err=1.6281445543997464e-06\n",
      "iteration 446, err=1.604390887477436e-06\n",
      "iteration 447, err=1.5809846787284698e-06\n",
      "iteration 448, err=1.5579208189064886e-06\n",
      "iteration 449, err=1.5351942774799454e-06\n",
      "iteration 450, err=1.5128000950825893e-06\n",
      "iteration 451, err=1.4907333872882234e-06\n",
      "iteration 452, err=1.4689893405028798e-06\n",
      "iteration 453, err=1.4475632170718455e-06\n",
      "iteration 454, err=1.426450344399477e-06\n",
      "iteration 455, err=1.4056461219436045e-06\n",
      "iteration 456, err=1.3851460169966856e-06\n",
      "iteration 457, err=1.3649455636866037e-06\n",
      "iteration 458, err=1.3450403630876906e-06\n",
      "iteration 459, err=1.3254260798900575e-06\n",
      "iteration 460, err=1.30609844362084e-06\n",
      "iteration 461, err=1.2870532485331765e-06\n",
      "iteration 462, err=1.2682863488322482e-06\n",
      "iteration 463, err=1.2497936607847038e-06\n",
      "iteration 464, err=1.2315711629407033e-06\n",
      "iteration 465, err=1.2136148902497368e-06\n",
      "iteration 466, err=1.1959209380574265e-06\n",
      "iteration 467, err=1.1784854599961037e-06\n",
      "iteration 468, err=1.1613046646541392e-06\n",
      "iteration 469, err=1.1443748185735458e-06\n",
      "iteration 470, err=1.127692241698064e-06\n",
      "iteration 471, err=1.111253309482585e-06\n",
      "iteration 472, err=1.0950544511167948e-06\n",
      "iteration 473, err=1.0790921475267723e-06\n",
      "iteration 474, err=1.0633629322631677e-06\n",
      "iteration 475, err=1.0478633895028011e-06\n",
      "iteration 476, err=1.0325901543817295e-06\n",
      "iteration 477, err=1.017539911662979e-06\n",
      "iteration 478, err=1.0027093937381437e-06\n",
      "iteration 479, err=9.880953838470319e-07\n",
      "Converged in 479 iterations\n",
      "iteration 1, err=0.9804672567870825\n",
      "iteration 2, err=0.4035574160320723\n",
      "iteration 3, err=0.14156378113990498\n",
      "iteration 4, err=0.07820176616791186\n",
      "iteration 5, err=0.05053451455470481\n",
      "iteration 6, err=0.035422125837060725\n",
      "iteration 7, err=0.03142553311740304\n",
      "iteration 8, err=0.025910814535320403\n",
      "iteration 9, err=0.022711171366085137\n",
      "iteration 10, err=0.019670899256037155\n",
      "iteration 11, err=0.017342825753196234\n",
      "iteration 12, err=0.015357918315127006\n",
      "iteration 13, err=0.013702183169568172\n",
      "iteration 14, err=0.012286609893730205\n",
      "iteration 15, err=0.011077170808201697\n",
      "iteration 16, err=0.01003004102695948\n",
      "iteration 17, err=0.0091202110600771\n",
      "iteration 18, err=0.008323513630591362\n",
      "iteration 19, err=0.007622697400116785\n",
      "iteration 20, err=0.007002734647814313\n",
      "iteration 21, err=0.00645178328853091\n",
      "iteration 22, err=0.00595997279847249\n",
      "iteration 23, err=0.005519178864012209\n",
      "iteration 24, err=0.0051226080777107\n",
      "iteration 25, err=0.004764568253777468\n",
      "iteration 26, err=0.004440251592565003\n",
      "iteration 27, err=0.004145578897903124\n",
      "iteration 28, err=0.003877069544375056\n",
      "iteration 29, err=0.0036317395917661033\n",
      "iteration 30, err=0.0034070190391063404\n",
      "iteration 31, err=0.0032006848074594973\n",
      "iteration 32, err=0.003010806024156043\n",
      "iteration 33, err=0.0028356991045430657\n",
      "iteration 34, err=0.0026738906891129455\n",
      "iteration 35, err=0.002524086897146449\n",
      "iteration 36, err=0.00238514770024556\n",
      "iteration 37, err=0.0022560654639200983\n",
      "iteration 38, err=0.0021359469004842424\n",
      "iteration 39, err=0.0020239978276113124\n",
      "iteration 40, err=0.0019195102452751467\n",
      "iteration 41, err=0.001821851336646474\n",
      "iteration 42, err=0.0017304540726232887\n",
      "iteration 43, err=0.001644809158290017\n",
      "iteration 44, err=0.0015644581067255636\n",
      "iteration 45, err=0.0014889872633923051\n",
      "iteration 46, err=0.0014180226348990965\n",
      "iteration 47, err=0.0013512254007754798\n",
      "iteration 48, err=0.0012882880070602676\n",
      "iteration 49, err=0.001228930757123492\n",
      "iteration 50, err=0.001172898828658786\n",
      "iteration 51, err=0.0011199596570633519\n",
      "iteration 52, err=0.0010699006346601703\n",
      "iteration 53, err=0.001022527082924607\n",
      "iteration 54, err=0.000977660461336849\n",
      "iteration 55, err=0.0009351367817986844\n",
      "iteration 56, err=0.0008948052021060526\n",
      "iteration 57, err=0.0008565267757323358\n",
      "iteration 58, err=0.0008201733383720322\n",
      "iteration 59, err=0.0007856265144252639\n",
      "iteration 60, err=0.0007527768288683179\n",
      "iteration 61, err=0.000721522911927952\n",
      "iteration 62, err=0.000691770785650303\n",
      "iteration 63, err=0.0006634332228441231\n",
      "iteration 64, err=0.000636429170142061\n",
      "iteration 65, err=0.0006106832279568764\n",
      "iteration 66, err=0.0005861251809832213\n",
      "iteration 67, err=0.0005626895737378401\n",
      "iteration 68, err=0.0005403153262391047\n",
      "iteration 69, err=0.0005189453855584114\n",
      "iteration 70, err=0.0004985264094574671\n",
      "iteration 71, err=0.00047900847878612485\n",
      "iteration 72, err=0.0004603448356726991\n",
      "iteration 73, err=0.00044249164491483306\n",
      "iteration 74, err=0.00042540777622634973\n",
      "iteration 75, err=0.00040905460530271665\n",
      "iteration 76, err=0.0003933958318437236\n",
      "iteration 77, err=0.0003783973129224405\n",
      "iteration 78, err=0.00036402691021164557\n",
      "iteration 79, err=0.00035025434978852577\n",
      "iteration 80, err=0.0003370510933220494\n",
      "iteration 81, err=0.0003243902196210513\n",
      "iteration 82, err=0.0003122463155711408\n",
      "iteration 83, err=0.0003005953756459734\n",
      "iteration 84, err=0.0002894147092035171\n",
      "iteration 85, err=0.00027868285489862643\n",
      "iteration 86, err=0.00026837950158997703\n",
      "iteration 87, err=0.00025848541517636825\n",
      "iteration 88, err=0.0002489823708605732\n",
      "iteration 89, err=0.00023985309038576652\n",
      "iteration 90, err=0.00023108118382664244\n",
      "iteration 91, err=0.00022265109555763551\n",
      "iteration 92, err=0.00021454805406484478\n",
      "iteration 93, err=0.0002067580252770318\n",
      "iteration 94, err=0.00019926766914868388\n",
      "iteration 95, err=0.0001920642992307986\n",
      "iteration 96, err=0.00018513584498869307\n",
      "iteration 97, err=0.00017847081666644282\n",
      "iteration 98, err=0.00017205827249244798\n",
      "iteration 99, err=0.00016588778804826898\n",
      "iteration 100, err=0.00015994942764452347\n",
      "iteration 101, err=0.00015423371754319515\n",
      "iteration 102, err=0.00014873162089945602\n",
      "iteration 103, err=0.00014343451429199572\n",
      "iteration 104, err=0.00013833416572361923\n",
      "iteration 105, err=0.00013342271399763295\n",
      "iteration 106, err=0.00012869264935355673\n",
      "iteration 107, err=0.0001241367952933281\n",
      "iteration 108, err=0.00011974829149863364\n",
      "iteration 109, err=0.0001155205777729762\n",
      "iteration 110, err=0.00011144737893598045\n",
      "iteration 111, err=0.00010752269059866038\n",
      "iteration 112, err=0.00010374076577346347\n",
      "iteration 113, err=0.00010009610225014676\n",
      "iteration 114, err=9.658343069196551e-05\n",
      "iteration 115, err=9.319770340854294e-05\n",
      "iteration 116, err=8.993408375290723e-05\n",
      "iteration 117, err=8.678793611238689e-05\n",
      "iteration 118, err=8.375481644340432e-05\n",
      "iteration 119, err=8.08304633285184e-05\n",
      "iteration 120, err=7.801078951419349e-05\n",
      "iteration 121, err=7.529187390042935e-05\n",
      "iteration 122, err=7.266995395760478e-05\n",
      "iteration 123, err=7.014141854122524e-05\n",
      "iteration 124, err=6.770280108392424e-05\n",
      "iteration 125, err=6.535077313518656e-05\n",
      "iteration 126, err=6.308213823680298e-05\n",
      "iteration 127, err=6.089382610829919e-05\n",
      "iteration 128, err=5.878288712279911e-05\n",
      "iteration 129, err=5.6746487067993456e-05\n",
      "iteration 130, err=5.478190215590928e-05\n",
      "iteration 131, err=5.288651428225766e-05\n",
      "iteration 132, err=5.105780652636671e-05\n",
      "iteration 133, err=4.929335885517361e-05\n",
      "iteration 134, err=4.759084404004632e-05\n",
      "iteration 135, err=4.594802377266838e-05\n",
      "iteration 136, err=4.436274495767112e-05\n",
      "iteration 137, err=4.283293618245754e-05\n",
      "iteration 138, err=4.13566043521163e-05\n",
      "iteration 139, err=3.993183148343071e-05\n",
      "iteration 140, err=3.8556771635667175e-05\n",
      "iteration 141, err=3.722964799568462e-05\n",
      "iteration 142, err=3.594875008228193e-05\n",
      "iteration 143, err=3.471243108854605e-05\n",
      "iteration 144, err=3.3519105329671284e-05\n",
      "iteration 145, err=3.2367245817122026e-05\n",
      "iteration 146, err=3.12553819312722e-05\n",
      "iteration 147, err=3.0182097198516722e-05\n",
      "iteration 148, err=2.914602716708181e-05\n",
      "iteration 149, err=2.8145857373762517e-05\n",
      "iteration 150, err=2.7180321393815987e-05\n",
      "iteration 151, err=2.624819898278119e-05\n",
      "iteration 152, err=2.5348314291351315e-05\n",
      "iteration 153, err=2.4479534153409865e-05\n",
      "iteration 154, err=2.364076645855473e-05\n",
      "iteration 155, err=2.283095857102957e-05\n",
      "iteration 156, err=2.2049095839804522e-05\n",
      "iteration 157, err=2.1294200149402087e-05\n",
      "iteration 158, err=2.0565328540778083e-05\n",
      "iteration 159, err=1.986157188871296e-05\n",
      "iteration 160, err=1.9182053627275764e-05\n",
      "iteration 161, err=1.8525928533241753e-05\n",
      "iteration 162, err=1.7892381552031544e-05\n",
      "iteration 163, err=1.7280626678828348e-05\n",
      "iteration 164, err=1.6689905879219147e-05\n",
      "iteration 165, err=1.6119488048582653e-05\n",
      "iteration 166, err=1.5568668024767973e-05\n",
      "iteration 167, err=1.5036765628084758e-05\n",
      "iteration 168, err=1.4523124743148763e-05\n",
      "iteration 169, err=1.402711244247179e-05\n",
      "iteration 170, err=1.3548118127926223e-05\n",
      "iteration 171, err=1.3085552729497074e-05\n",
      "iteration 172, err=1.2638847910362294e-05\n",
      "iteration 173, err=1.2207455321266991e-05\n",
      "iteration 174, err=1.1790845869663613e-05\n",
      "iteration 175, err=1.1388509032372873e-05\n",
      "iteration 176, err=1.0999952173462724e-05\n",
      "iteration 177, err=1.0624699911088165e-05\n",
      "iteration 178, err=1.0262293488771945e-05\n",
      "iteration 179, err=9.912290183655692e-06\n",
      "iteration 180, err=9.574262730072114e-06\n",
      "iteration 181, err=9.247798764322468e-06\n",
      "iteration 182, err=8.932500298874935e-06\n",
      "iteration 183, err=8.627983201114908e-06\n",
      "iteration 184, err=8.333876708732646e-06\n",
      "iteration 185, err=8.049822947553409e-06\n",
      "iteration 186, err=7.775476478899535e-06\n",
      "iteration 187, err=7.510503854279982e-06\n",
      "iteration 188, err=7.254583196170117e-06\n",
      "iteration 189, err=7.007403784675681e-06\n",
      "iteration 190, err=6.768665665513041e-06\n",
      "iteration 191, err=6.538079269313712e-06\n",
      "iteration 192, err=6.315365048470412e-06\n",
      "iteration 193, err=6.100253120977506e-06\n",
      "iteration 194, err=5.8924829325901484e-06\n",
      "iteration 195, err=5.691802930085643e-06\n",
      "iteration 196, err=5.497970245516015e-06\n",
      "iteration 197, err=5.310750389120322e-06\n",
      "iteration 198, err=5.129916960555647e-06\n",
      "iteration 199, err=4.955251362792623e-06\n",
      "iteration 200, err=4.7865425316651056e-06\n",
      "iteration 201, err=4.623586670748914e-06\n",
      "iteration 202, err=4.466186999785293e-06\n",
      "iteration 203, err=4.314153511209007e-06\n",
      "iteration 204, err=4.16730272934096e-06\n",
      "iteration 205, err=4.0254574913412e-06\n",
      "iteration 206, err=3.888446719169103e-06\n",
      "iteration 207, err=3.7561052158574526e-06\n",
      "iteration 208, err=3.6282734550141527e-06\n",
      "iteration 209, err=3.504797389308756e-06\n",
      "iteration 210, err=3.3855282561834343e-06\n",
      "iteration 211, err=3.270322399551162e-06\n",
      "iteration 212, err=3.1590410883852726e-06\n",
      "iteration 213, err=3.051550349297827e-06\n",
      "iteration 214, err=2.9477208012274048e-06\n",
      "iteration 215, err=2.8474274970102798e-06\n",
      "iteration 216, err=2.7505497691704406e-06\n",
      "iteration 217, err=2.6569710842583305e-06\n",
      "iteration 218, err=2.566578897744698e-06\n",
      "iteration 219, err=2.4792645190174767e-06\n",
      "iteration 220, err=2.3949229760455992e-06\n",
      "iteration 221, err=2.3134528901458395e-06\n",
      "iteration 222, err=2.234756348973299e-06\n",
      "iteration 223, err=2.1587387903920785e-06\n",
      "iteration 224, err=2.0853088846806145e-06\n",
      "iteration 225, err=2.0143784246196006e-06\n",
      "iteration 226, err=1.94586221857751e-06\n",
      "iteration 227, err=1.8796779858165635e-06\n",
      "iteration 228, err=1.8157462570167482e-06\n",
      "iteration 229, err=1.753990277908457e-06\n",
      "iteration 230, err=1.6943359152366e-06\n",
      "iteration 231, err=1.6367115680537836e-06\n",
      "iteration 232, err=1.581048080567804e-06\n",
      "iteration 233, err=1.5272786566544738e-06\n",
      "iteration 234, err=1.4753387818089436e-06\n",
      "iteration 235, err=1.4251661418773764e-06\n",
      "iteration 236, err=1.3767005506704066e-06\n",
      "iteration 237, err=1.3298838745789965e-06\n",
      "iteration 238, err=1.2846599639626533e-06\n",
      "iteration 239, err=1.240974583316401e-06\n",
      "iteration 240, err=1.1987753498754472e-06\n",
      "iteration 241, err=1.158011662782954e-06\n",
      "iteration 242, err=1.1186346515756895e-06\n",
      "iteration 243, err=1.0805971086824684e-06\n",
      "iteration 244, err=1.0438534370216246e-06\n",
      "iteration 245, err=1.0083595944898605e-06\n",
      "iteration 246, err=9.740730396723407e-07\n",
      "Converged in 246 iterations\n",
      "iteration 1, err=0.9685671121369317\n",
      "iteration 2, err=0.37682911286402665\n",
      "iteration 3, err=0.17306760466189486\n",
      "iteration 4, err=0.07367594390485899\n",
      "iteration 5, err=0.04461462006587813\n",
      "iteration 6, err=0.031228115104608545\n",
      "iteration 7, err=0.02437469656235214\n",
      "iteration 8, err=0.020791700234921273\n",
      "iteration 9, err=0.01766612875219209\n",
      "iteration 10, err=0.015239043220364623\n",
      "iteration 11, err=0.013240145803873893\n",
      "iteration 12, err=0.011576887462317331\n",
      "iteration 13, err=0.0101625243539758\n",
      "iteration 14, err=0.00896109005295298\n",
      "iteration 15, err=0.007937497827712914\n",
      "iteration 16, err=0.007056156351991194\n",
      "iteration 17, err=0.0062931426852241845\n",
      "iteration 18, err=0.005628964978959705\n",
      "iteration 19, err=0.00504800245969983\n",
      "iteration 20, err=0.0045376025933542286\n",
      "iteration 21, err=0.004087390511226863\n",
      "iteration 22, err=0.0036888317170873375\n",
      "iteration 23, err=0.003334835606091935\n",
      "iteration 24, err=0.0030194815725651525\n",
      "iteration 25, err=0.002737784155493417\n",
      "iteration 26, err=0.002485525881895323\n",
      "iteration 27, err=0.002259117998464899\n",
      "iteration 28, err=0.002055490634615742\n",
      "iteration 29, err=0.0018720051661383907\n",
      "iteration 30, err=0.001706383168319059\n",
      "iteration 31, err=0.0015566488668535827\n",
      "iteration 32, err=0.0014210820327414941\n",
      "iteration 33, err=0.0012981792856668894\n",
      "iteration 34, err=0.0011866221160218293\n",
      "iteration 35, err=0.0010852503180220907\n",
      "iteration 36, err=0.0009930398129842644\n",
      "iteration 37, err=0.0009090840468414241\n",
      "iteration 38, err=0.0008325783161505784\n",
      "iteration 39, err=0.0007628065036588971\n",
      "iteration 40, err=0.0006991298061396201\n",
      "iteration 41, err=0.0006409771168711664\n",
      "iteration 42, err=0.0005878367881920754\n",
      "iteration 43, err=0.0005392495499775274\n",
      "iteration 44, err=0.0004948024001140139\n",
      "iteration 45, err=0.00045412331551430984\n",
      "iteration 46, err=0.00041687665836576127\n",
      "iteration 47, err=0.0003827591736241809\n",
      "iteration 48, err=0.00035149649101617886\n",
      "iteration 49, err=0.00032284005907301516\n",
      "iteration 50, err=0.00029656445029357936\n",
      "iteration 51, err=0.00027246498617972126\n",
      "iteration 52, err=0.00025035563879582945\n",
      "iteration 53, err=0.0002300671721334746\n",
      "iteration 54, err=0.0002114454919984743\n",
      "iteration 55, err=0.00019435017779667607\n",
      "iteration 56, err=0.00017865317336407394\n",
      "iteration 57, err=0.00016423761728334707\n",
      "iteration 58, err=0.000150996795820868\n",
      "iteration 59, err=0.00013883320392471532\n",
      "iteration 60, err=0.00012765770169764767\n",
      "iteration 61, err=0.00011738875541189575\n",
      "iteration 62, err=0.00010795175353839337\n",
      "iteration 63, err=9.927838950329892e-05\n",
      "iteration 64, err=9.130610390062355e-05\n",
      "iteration 65, err=8.397757979472509e-05\n",
      "iteration 66, err=7.724028551825413e-05\n",
      "iteration 67, err=7.104606002783509e-05\n",
      "iteration 68, err=6.535073646607437e-05\n",
      "iteration 69, err=6.011380007542311e-05\n",
      "iteration 70, err=5.529807704640621e-05\n",
      "iteration 71, err=5.0869451252211206e-05\n",
      "iteration 72, err=4.679660618367443e-05\n",
      "iteration 73, err=4.30507896496124e-05\n",
      "iteration 74, err=3.960559909788053e-05\n",
      "iteration 75, err=3.643678562426089e-05\n",
      "iteration 76, err=3.352207492823833e-05\n",
      "iteration 77, err=3.084100367023446e-05\n",
      "iteration 78, err=2.8374769821537527e-05\n",
      "iteration 79, err=2.610609574604794e-05\n",
      "iteration 80, err=2.401910288252207e-05\n",
      "iteration 81, err=2.2099196985370106e-05\n",
      "iteration 82, err=2.0332963006408633e-05\n",
      "iteration 83, err=1.8708068768580333e-05\n",
      "iteration 84, err=1.721317666547595e-05\n",
      "iteration 85, err=1.5837862700318617e-05\n",
      "iteration 86, err=1.4572542228918905e-05\n",
      "iteration 87, err=1.3408401832726291e-05\n",
      "iteration 88, err=1.23373368079438e-05\n",
      "iteration 89, err=1.135189378853596e-05\n",
      "iteration 90, err=1.044521807391785e-05\n",
      "iteration 91, err=9.611005266529915e-06\n",
      "iteration 92, err=8.84345685825405e-06\n",
      "iteration 93, err=8.137239436822874e-06\n",
      "iteration 94, err=7.487447214349352e-06\n",
      "iteration 95, err=6.889567596202184e-06\n",
      "iteration 96, err=6.33944954786525e-06\n",
      "iteration 97, err=5.833274524413845e-06\n",
      "iteration 98, err=5.367529750999189e-06\n",
      "iteration 99, err=4.9389836670465925e-06\n",
      "iteration 100, err=4.5446633488710475e-06\n",
      "iteration 101, err=4.181833760164011e-06\n",
      "iteration 102, err=3.847978671034369e-06\n",
      "iteration 103, err=3.540783115374424e-06\n",
      "iteration 104, err=3.2581172618728615e-06\n",
      "iteration 105, err=2.9980215792146936e-06\n",
      "iteration 106, err=2.758693198545714e-06\n",
      "iteration 107, err=2.5384733681743654e-06\n",
      "iteration 108, err=2.3358359155789543e-06\n",
      "iteration 109, err=2.149376638449496e-06\n",
      "iteration 110, err=1.9778035460493726e-06\n",
      "iteration 111, err=1.8199278792874196e-06\n",
      "iteration 112, err=1.6746558555436053e-06\n",
      "iteration 113, err=1.5409810758537645e-06\n",
      "iteration 114, err=1.4179775333911238e-06\n",
      "iteration 115, err=1.3047931886056574e-06\n",
      "iteration 116, err=1.2006440576195487e-06\n",
      "iteration 117, err=1.1048087706910792e-06\n",
      "iteration 118, err=1.0166235691055903e-06\n",
      "iteration 119, err=9.354777023018457e-07\n",
      "Converged in 119 iterations\n",
      "iteration 1, err=0.9686837102401273\n",
      "iteration 2, err=0.3687472192874669\n",
      "iteration 3, err=0.1593281898659653\n",
      "iteration 4, err=0.06777577796169787\n",
      "iteration 5, err=0.0358034807967641\n",
      "iteration 6, err=0.024415658926014494\n",
      "iteration 7, err=0.018250032994959753\n",
      "iteration 8, err=0.015126916579940142\n",
      "iteration 9, err=0.012499889050917368\n",
      "iteration 10, err=0.010573844355096229\n",
      "iteration 11, err=0.008946869936525603\n",
      "iteration 12, err=0.007605496924430466\n",
      "iteration 13, err=0.006488030730880223\n",
      "iteration 14, err=0.0055566657961501065\n",
      "iteration 15, err=0.004774917559937197\n",
      "iteration 16, err=0.004113858802117898\n",
      "iteration 17, err=0.003552726779564086\n",
      "iteration 18, err=0.0030769650128346093\n",
      "iteration 19, err=0.002669484967874558\n",
      "iteration 20, err=0.0023191510027082973\n",
      "iteration 21, err=0.0020172014322801246\n",
      "iteration 22, err=0.0017563916846363714\n",
      "iteration 23, err=0.0015306914582393638\n",
      "iteration 24, err=0.0013350495096313697\n",
      "iteration 25, err=0.0011652172386613646\n",
      "iteration 26, err=0.0010176027902586426\n",
      "iteration 27, err=0.0008891570590354725\n",
      "iteration 28, err=0.0007772820965681326\n",
      "iteration 29, err=0.0006797570909267137\n",
      "iteration 30, err=0.0005946779497134624\n",
      "iteration 31, err=0.000520407822228508\n",
      "iteration 32, err=0.0004555363041490734\n",
      "iteration 33, err=0.0003988455792746093\n",
      "iteration 34, err=0.00034928217978080767\n",
      "iteration 35, err=0.00030593331875106156\n",
      "iteration 36, err=0.00026800695981743505\n",
      "iteration 37, err=0.00023481496522248513\n",
      "iteration 38, err=0.00020575879190354307\n",
      "iteration 39, err=0.00018031730806167268\n",
      "iteration 40, err=0.00015803638305289525\n",
      "iteration 41, err=0.0001385199670238535\n",
      "iteration 42, err=0.00012142242740575959\n",
      "iteration 43, err=0.00010644194989217759\n",
      "iteration 44, err=9.331484423580338e-05\n",
      "iteration 45, err=8.181062164258623e-05\n",
      "iteration 46, err=7.172773214492167e-05\n",
      "iteration 47, err=6.288986800428997e-05\n",
      "iteration 48, err=5.514275375217981e-05\n",
      "iteration 49, err=4.835135555691927e-05\n",
      "iteration 50, err=4.2397452612252806e-05\n",
      "iteration 51, err=3.717752164855703e-05\n",
      "iteration 52, err=3.260089269563338e-05\n",
      "iteration 53, err=2.8588140161045494e-05\n",
      "iteration 54, err=2.5069678313616173e-05\n",
      "iteration 55, err=2.1984534509966736e-05\n",
      "iteration 56, err=1.9279277150174856e-05\n",
      "iteration 57, err=1.690707843293726e-05\n",
      "iteration 58, err=1.4826894650488143e-05\n",
      "iteration 59, err=1.3002749042700934e-05\n",
      "iteration 60, err=1.1403104188123514e-05\n",
      "iteration 61, err=1.0000312613556162e-05\n",
      "iteration 62, err=8.770135758950914e-06\n",
      "iteration 63, err=7.691322718050841e-06\n",
      "iteration 64, err=6.745241248551359e-06\n",
      "iteration 65, err=5.915554523894251e-06\n",
      "iteration 66, err=5.187937918926799e-06\n",
      "iteration 67, err=4.549830834865709e-06\n",
      "iteration 68, err=3.990219209493162e-06\n",
      "iteration 69, err=3.499444906518434e-06\n",
      "iteration 70, err=3.0690386341181153e-06\n",
      "iteration 71, err=2.691573493085464e-06\n",
      "iteration 72, err=2.3605365918610843e-06\n",
      "iteration 73, err=2.0702164916786003e-06\n",
      "iteration 74, err=1.8156045299422274e-06\n",
      "iteration 75, err=1.592308307762913e-06\n",
      "iteration 76, err=1.3964758308615544e-06\n",
      "iteration 77, err=1.2247289988831511e-06\n",
      "iteration 78, err=1.0741052889340352e-06\n",
      "iteration 79, err=9.420066117149517e-07\n",
      "Converged in 79 iterations\n",
      "iteration 1, err=0.9486720703329918\n",
      "iteration 2, err=0.38410079575484024\n",
      "iteration 3, err=0.15779006117618444\n",
      "iteration 4, err=0.05762981746055651\n",
      "iteration 5, err=0.030126650011312317\n",
      "iteration 6, err=0.01860513188036783\n",
      "iteration 7, err=0.013134098544623662\n",
      "iteration 8, err=0.010793944830958413\n",
      "iteration 9, err=0.008314214860107527\n",
      "iteration 10, err=0.006830828757133367\n",
      "iteration 11, err=0.005600044725040387\n",
      "iteration 12, err=0.004609964992768223\n",
      "iteration 13, err=0.0037987336374654124\n",
      "iteration 14, err=0.0031415727229586743\n",
      "iteration 15, err=0.002602268884296488\n",
      "iteration 16, err=0.0021595155109299657\n",
      "iteration 17, err=0.001794123467156683\n",
      "iteration 18, err=0.001492263399615279\n",
      "iteration 19, err=0.0012423061273076907\n",
      "iteration 20, err=0.0010350093881426048\n",
      "iteration 21, err=0.000862841123818292\n",
      "iteration 22, err=0.0007196925591476111\n",
      "iteration 23, err=0.0006005550120873338\n",
      "iteration 24, err=0.0005013232658760414\n",
      "iteration 25, err=0.0004186157515511102\n",
      "iteration 26, err=0.00034964249685343063\n",
      "iteration 27, err=0.0002920959158660974\n",
      "iteration 28, err=0.00024406425271683574\n",
      "iteration 29, err=0.00020396119970522708\n",
      "iteration 30, err=0.00017046884582927468\n",
      "iteration 31, err=0.00014249108160846458\n",
      "iteration 32, err=0.00011911546035792142\n",
      "iteration 33, err=9.95818465131526e-05\n",
      "iteration 34, err=8.32565919094419e-05\n",
      "iteration 35, err=6.961120752124739e-05\n",
      "iteration 36, err=5.820471555451068e-05\n",
      "iteration 37, err=4.866902158118247e-05\n",
      "iteration 38, err=4.069677275631012e-05\n",
      "iteration 39, err=3.403126740619822e-05\n",
      "iteration 40, err=2.845806091367198e-05\n",
      "iteration 41, err=2.3797976751227523e-05\n",
      "iteration 42, err=1.9901283259793345e-05\n",
      "iteration 43, err=1.6642838796654402e-05\n",
      "iteration 44, err=1.391804216210879e-05\n",
      "iteration 45, err=1.1639453288747603e-05\n",
      "iteration 46, err=9.733972254233336e-06\n",
      "iteration 47, err=8.140483661156495e-06\n",
      "iteration 48, err=6.807889120996613e-06\n",
      "iteration 49, err=5.6934635564998e-06\n",
      "iteration 50, err=4.761481781967447e-06\n",
      "iteration 51, err=3.982070753694167e-06\n",
      "iteration 52, err=3.3302502855381277e-06\n",
      "iteration 53, err=2.785131208438152e-06\n",
      "iteration 54, err=2.3292450663792152e-06\n",
      "iteration 55, err=1.9479837372049502e-06\n",
      "iteration 56, err=1.6291309192784098e-06\n",
      "iteration 57, err=1.3624704064962856e-06\n",
      "iteration 58, err=1.1394585491819598e-06\n",
      "iteration 59, err=9.529503782745863e-07\n",
      "Converged in 59 iterations\n",
      "iteration 1, err=0.9546773924757121\n",
      "iteration 2, err=0.35923371945205074\n",
      "iteration 3, err=0.1499418958401194\n",
      "iteration 4, err=0.0567038103497054\n",
      "iteration 5, err=0.026729931184392597\n",
      "iteration 6, err=0.014352054735322861\n",
      "iteration 7, err=0.009143447416345873\n",
      "iteration 8, err=0.00652481508019731\n",
      "iteration 9, err=0.004996291393008612\n",
      "iteration 10, err=0.003932561762845621\n",
      "iteration 11, err=0.003125901340633286\n",
      "iteration 12, err=0.002468410167119517\n",
      "iteration 13, err=0.0019530392136872798\n",
      "iteration 14, err=0.001547876479284671\n",
      "iteration 15, err=0.0012297305676669534\n",
      "iteration 16, err=0.000977809313162048\n",
      "iteration 17, err=0.0007778365421182709\n",
      "iteration 18, err=0.0006192236245088356\n",
      "iteration 19, err=0.0004931734819267897\n",
      "iteration 20, err=0.00039293107696714014\n",
      "iteration 21, err=0.00031315672597997946\n",
      "iteration 22, err=0.00024963893926144287\n",
      "iteration 23, err=0.0001990423251732043\n",
      "iteration 24, err=0.0001587247039481765\n",
      "iteration 25, err=0.0001265890943412673\n",
      "iteration 26, err=0.00010096945692317227\n",
      "iteration 27, err=8.054105076993334e-05\n",
      "iteration 28, err=6.424972521601457e-05\n",
      "iteration 29, err=5.1256222857398726e-05\n",
      "iteration 30, err=4.089205481960789e-05\n",
      "iteration 31, err=3.2624573309325555e-05\n",
      "iteration 32, err=2.6029245456804517e-05\n",
      "iteration 33, err=2.0767630953821836e-05\n",
      "iteration 34, err=1.6569874954353025e-05\n",
      "iteration 35, err=1.322077777099473e-05\n",
      "iteration 36, err=1.0548705516422174e-05\n",
      "iteration 37, err=8.416757872664604e-06\n",
      "iteration 38, err=6.715731022621796e-06\n",
      "iteration 39, err=5.358509225228403e-06\n",
      "iteration 40, err=4.275593921576615e-06\n",
      "iteration 41, err=3.4115389863087486e-06\n",
      "iteration 42, err=2.722108044417304e-06\n",
      "iteration 43, err=2.1720073126729744e-06\n",
      "iteration 44, err=1.7330772774659664e-06\n",
      "iteration 45, err=1.3828502379853447e-06\n",
      "iteration 46, err=1.103399615787204e-06\n",
      "iteration 47, err=8.804219762126309e-07\n",
      "Converged in 47 iterations\n",
      "iteration 1, err=0.9812401696017422\n",
      "iteration 2, err=0.3970611738122052\n",
      "iteration 3, err=0.13554752374553858\n",
      "iteration 4, err=0.048389706109395414\n",
      "iteration 5, err=0.021489212837960014\n",
      "iteration 6, err=0.010460189922700702\n",
      "iteration 7, err=0.006116953194561847\n",
      "iteration 8, err=0.003958712867423442\n",
      "iteration 9, err=0.0027962884301988566\n",
      "iteration 10, err=0.0021684233386009\n",
      "iteration 11, err=0.0016224247525452595\n",
      "iteration 12, err=0.0012362315936069734\n",
      "iteration 13, err=0.0009388129748477692\n",
      "iteration 14, err=0.0007101557468073283\n",
      "iteration 15, err=0.0005400584348806969\n",
      "iteration 16, err=0.0004102525700084847\n",
      "iteration 17, err=0.0003120444869681993\n",
      "iteration 18, err=0.0002373765611713985\n",
      "iteration 19, err=0.00018064601321332585\n",
      "iteration 20, err=0.000137494986539477\n",
      "iteration 21, err=0.00010467189916352204\n",
      "iteration 22, err=7.969237483229641e-05\n",
      "iteration 23, err=6.068007695936295e-05\n",
      "iteration 24, err=4.6206713658514253e-05\n",
      "iteration 25, err=3.518741978036921e-05\n",
      "iteration 26, err=2.6797066048689366e-05\n",
      "iteration 27, err=2.0408011348282962e-05\n",
      "iteration 28, err=1.554262106540083e-05\n",
      "iteration 29, err=1.1837381970969396e-05\n",
      "iteration 30, err=9.015565882175558e-06\n",
      "iteration 31, err=6.866490972479156e-06\n",
      "iteration 32, err=5.229740735468447e-06\n",
      "iteration 33, err=3.983163105902854e-06\n",
      "iteration 34, err=3.0337376417666206e-06\n",
      "iteration 35, err=2.3106250239823822e-06\n",
      "iteration 36, err=1.759876061657728e-06\n",
      "iteration 37, err=1.340403578797833e-06\n",
      "iteration 38, err=1.0209153790130543e-06\n",
      "iteration 39, err=7.775788257724514e-07\n",
      "Converged in 39 iterations\n",
      "iteration 1, err=0.9812309076482322\n",
      "iteration 2, err=0.45208750932521513\n",
      "iteration 3, err=0.17091490445971103\n",
      "iteration 4, err=0.0530102766668209\n",
      "iteration 5, err=0.018742778711432706\n",
      "iteration 6, err=0.0072033908465573004\n",
      "iteration 7, err=0.00346461024160416\n",
      "iteration 8, err=0.0016560329086688919\n",
      "iteration 9, err=0.000987534321786665\n",
      "iteration 10, err=0.0006393371430954975\n",
      "iteration 11, err=0.0004486406924624209\n",
      "iteration 12, err=0.00032767552097612285\n",
      "iteration 13, err=0.00023867699135171616\n",
      "iteration 14, err=0.00017207978320710193\n",
      "iteration 15, err=0.0001253152581290884\n",
      "iteration 16, err=9.108970942084404e-05\n",
      "iteration 17, err=6.622201347794565e-05\n",
      "iteration 18, err=4.815972821514691e-05\n",
      "iteration 19, err=3.5024565740782165e-05\n",
      "iteration 20, err=2.5470142897443537e-05\n",
      "iteration 21, err=1.8524359678639968e-05\n",
      "iteration 22, err=1.3473044278899948e-05\n",
      "iteration 23, err=9.799217172812291e-06\n",
      "iteration 24, err=7.127342806390047e-06\n",
      "iteration 25, err=5.184029207905283e-06\n",
      "iteration 26, err=3.770600948138636e-06\n",
      "iteration 27, err=2.7425587104668026e-06\n",
      "iteration 28, err=1.9948170305594815e-06\n",
      "iteration 29, err=1.450946481629245e-06\n",
      "iteration 30, err=1.0553600995333312e-06\n",
      "iteration 31, err=7.676276423396189e-07\n",
      "Converged in 31 iterations\n",
      "iteration 1, err=0.9870808889662633\n",
      "iteration 2, err=0.4222128255136093\n",
      "iteration 3, err=0.14431008528846678\n",
      "iteration 4, err=0.055818651632639105\n",
      "iteration 5, err=0.020072948359004528\n",
      "iteration 6, err=0.0054982281431561475\n",
      "iteration 7, err=0.0019116995061242426\n",
      "iteration 8, err=0.0006379652292590743\n",
      "iteration 9, err=0.00024330962004415202\n",
      "iteration 10, err=7.68093658890523e-05\n",
      "iteration 11, err=2.5019499518386112e-05\n",
      "iteration 12, err=8.655464558526837e-06\n",
      "iteration 13, err=3.1535548186134577e-06\n",
      "iteration 14, err=1.680493167288688e-06\n",
      "iteration 15, err=9.048224004493122e-07\n",
      "Converged in 15 iterations\n",
      "iteration 1, err=0.9498811250040716\n",
      "iteration 2, err=0.4555843010903867\n",
      "iteration 3, err=0.1894583115165347\n",
      "iteration 4, err=0.06254985690552795\n",
      "iteration 5, err=0.021503868454821662\n",
      "iteration 6, err=0.00833853236883153\n",
      "iteration 7, err=0.003519135308421184\n",
      "iteration 8, err=0.001840602518717649\n",
      "iteration 9, err=0.0010732942702086357\n",
      "iteration 10, err=0.000639804284285006\n",
      "iteration 11, err=0.0004235432773975756\n",
      "iteration 12, err=0.00027534431405473736\n",
      "iteration 13, err=0.0001820413595213788\n",
      "iteration 14, err=0.00012150347613548718\n",
      "iteration 15, err=8.070030009310614e-05\n",
      "iteration 16, err=5.358639135943921e-05\n",
      "iteration 17, err=3.5615019821633176e-05\n",
      "iteration 18, err=2.3653926342959153e-05\n",
      "iteration 19, err=1.5714003220645978e-05\n",
      "iteration 20, err=1.0437572798061012e-05\n",
      "iteration 21, err=6.932529268866006e-06\n",
      "iteration 22, err=4.604603586200184e-06\n",
      "iteration 23, err=3.058350071416527e-06\n",
      "iteration 24, err=2.031324702889137e-06\n",
      "iteration 25, err=1.3491792500985866e-06\n",
      "iteration 26, err=8.961047823774493e-07\n",
      "Converged in 26 iterations\n",
      "iteration 1, err=0.9733039568637113\n",
      "iteration 2, err=0.4866594144236349\n",
      "iteration 3, err=0.15576803716932108\n",
      "iteration 4, err=0.08248794596797826\n",
      "iteration 5, err=0.024336715628380134\n",
      "iteration 6, err=0.009555350410827002\n",
      "iteration 7, err=0.003980390808010603\n",
      "iteration 8, err=0.0021724949750768774\n",
      "iteration 9, err=0.0012441507264842055\n",
      "iteration 10, err=0.0007492413052151425\n",
      "iteration 11, err=0.00047714508712903836\n",
      "iteration 12, err=0.0002984034506747779\n",
      "iteration 13, err=0.00019234240281007509\n",
      "iteration 14, err=0.00012125289546638385\n",
      "iteration 15, err=7.735335534730936e-05\n",
      "iteration 16, err=4.9104466815053094e-05\n",
      "iteration 17, err=3.1196280210976646e-05\n",
      "iteration 18, err=1.9808126499265555e-05\n",
      "iteration 19, err=1.2579988676542087e-05\n",
      "iteration 20, err=7.988783581991399e-06\n",
      "iteration 21, err=5.07337657174034e-06\n",
      "iteration 22, err=3.22183649792418e-06\n",
      "iteration 23, err=2.0460243103093134e-06\n",
      "iteration 24, err=1.2993151039530915e-06\n",
      "iteration 25, err=8.25120601621876e-07\n",
      "Converged in 25 iterations\n",
      "iteration 1, err=0.9976833685949468\n",
      "iteration 2, err=0.4556713307815996\n",
      "iteration 3, err=0.17702932167785246\n",
      "iteration 4, err=0.06753463945640514\n",
      "iteration 5, err=0.024779678569123442\n",
      "iteration 6, err=0.011197828952317357\n",
      "iteration 7, err=0.005344832350489326\n",
      "iteration 8, err=0.003239865555000332\n",
      "iteration 9, err=0.0017027568420219241\n",
      "iteration 10, err=0.0010047886821124008\n",
      "iteration 11, err=0.0006180764866869914\n",
      "iteration 12, err=0.00037845754736087756\n",
      "iteration 13, err=0.00023045818067390922\n",
      "iteration 14, err=0.0001410139856365955\n",
      "iteration 15, err=8.542928789534443e-05\n",
      "iteration 16, err=5.200066544241988e-05\n",
      "iteration 17, err=3.1582425095266764e-05\n",
      "iteration 18, err=1.918343464701877e-05\n",
      "iteration 19, err=1.1653115670529068e-05\n",
      "iteration 20, err=7.078798246462625e-06\n",
      "iteration 21, err=4.299572452071132e-06\n",
      "iteration 22, err=2.6115908827728518e-06\n",
      "iteration 23, err=1.5862413328404656e-06\n",
      "iteration 24, err=9.634696064297898e-07\n",
      "Converged in 24 iterations\n",
      "iteration 1, err=0.9894751127727657\n",
      "iteration 2, err=0.5028709200826312\n",
      "iteration 3, err=0.19977919757496654\n",
      "iteration 4, err=0.07033441707609889\n",
      "iteration 5, err=0.024844862741585816\n",
      "iteration 6, err=0.011519149091949399\n",
      "iteration 7, err=0.0066971965161153335\n",
      "iteration 8, err=0.0032683551275228817\n",
      "iteration 9, err=0.0017534698465195842\n",
      "iteration 10, err=0.001047608105912201\n",
      "iteration 11, err=0.0005910741430275035\n",
      "iteration 12, err=0.0003458550303788721\n",
      "iteration 13, err=0.00020287126632545505\n",
      "iteration 14, err=0.000117201253559851\n",
      "iteration 15, err=6.83585552647692e-05\n",
      "iteration 16, err=3.9750887082745656e-05\n",
      "iteration 17, err=2.3110581432561617e-05\n",
      "iteration 18, err=1.342785332036911e-05\n",
      "iteration 19, err=7.803867212219373e-06\n",
      "iteration 20, err=4.53502463115818e-06\n",
      "iteration 21, err=2.635383506977007e-06\n",
      "iteration 22, err=1.5315239781932277e-06\n",
      "iteration 23, err=8.899778174420447e-07\n",
      "Converged in 23 iterations\n",
      "iteration 1, err=0.9821926765909575\n",
      "iteration 2, err=0.5241348950347864\n",
      "iteration 3, err=0.22600532191693445\n",
      "iteration 4, err=0.08501389390432834\n",
      "iteration 5, err=0.028369200563346797\n",
      "iteration 6, err=0.013718638559397478\n",
      "iteration 7, err=0.007328552506129182\n",
      "iteration 8, err=0.0037217946073161423\n",
      "iteration 9, err=0.001993642640627513\n",
      "iteration 10, err=0.0011069470953384286\n",
      "iteration 11, err=0.0006294810313461907\n",
      "iteration 12, err=0.00034899207326877235\n",
      "iteration 13, err=0.00019483982320789295\n",
      "iteration 14, err=0.00010883038504294618\n",
      "iteration 15, err=6.040139458129978e-05\n",
      "iteration 16, err=3.363243837495311e-05\n",
      "iteration 17, err=1.8705861430601267e-05\n",
      "iteration 18, err=1.0403988211837856e-05\n",
      "iteration 19, err=5.7861551939764055e-06\n",
      "iteration 20, err=3.21804052405561e-06\n",
      "iteration 21, err=1.789586931311149e-06\n",
      "iteration 22, err=9.952803748936034e-07\n",
      "Converged in 22 iterations\n",
      "iteration 1, err=0.928840647244767\n",
      "iteration 2, err=0.5413594268434041\n",
      "iteration 3, err=0.20897368209660216\n",
      "iteration 4, err=0.06926058402506563\n",
      "iteration 5, err=0.030070895955048638\n",
      "iteration 6, err=0.01405283173163585\n",
      "iteration 7, err=0.006768098331178307\n",
      "iteration 8, err=0.0038178813254351462\n",
      "iteration 9, err=0.001982454033591985\n",
      "iteration 10, err=0.0010142479712411667\n",
      "iteration 11, err=0.0005429633119188315\n",
      "iteration 12, err=0.0002924419047520832\n",
      "iteration 13, err=0.0001562924946412192\n",
      "iteration 14, err=8.309560161556817e-05\n",
      "iteration 15, err=4.4279152658588394e-05\n",
      "iteration 16, err=2.3604378178165852e-05\n",
      "iteration 17, err=1.2564673995796305e-05\n",
      "iteration 18, err=6.690177622892257e-06\n",
      "iteration 19, err=3.561196211365747e-06\n",
      "iteration 20, err=1.8959752724478918e-06\n",
      "iteration 21, err=1.0093345103046047e-06\n",
      "iteration 22, err=5.373598985780603e-07\n",
      "Converged in 22 iterations\n",
      "iteration 1, err=0.9488526357715432\n",
      "iteration 2, err=0.49907434147751695\n",
      "iteration 3, err=0.20205826134568294\n",
      "iteration 4, err=0.07207834366108823\n",
      "iteration 5, err=0.02873920684166653\n",
      "iteration 6, err=0.013518824624726089\n",
      "iteration 7, err=0.007198299990099133\n",
      "iteration 8, err=0.004047794700245522\n",
      "iteration 9, err=0.0019655755690080046\n",
      "iteration 10, err=0.0009883737799059045\n",
      "iteration 11, err=0.0005022007409970497\n",
      "iteration 12, err=0.00025497346612701755\n",
      "iteration 13, err=0.00013057466242960558\n",
      "iteration 14, err=6.668505049178819e-05\n",
      "iteration 15, err=3.403238942578657e-05\n",
      "iteration 16, err=1.735019025383977e-05\n",
      "iteration 17, err=8.84706848192085e-06\n",
      "iteration 18, err=4.511465514500657e-06\n",
      "iteration 19, err=2.299350642109843e-06\n",
      "iteration 20, err=1.1719926619191412e-06\n",
      "iteration 21, err=5.97434797411367e-07\n",
      "Converged in 21 iterations\n",
      "iteration 1, err=0.9833579303648055\n",
      "iteration 2, err=0.5644181352683078\n",
      "iteration 3, err=0.28984055594444447\n",
      "iteration 4, err=0.07489793158741243\n",
      "iteration 5, err=0.03617351985351969\n",
      "iteration 6, err=0.014880301742427604\n",
      "iteration 7, err=0.007105510217134681\n",
      "iteration 8, err=0.003680427454012314\n",
      "iteration 9, err=0.0017842918566609578\n",
      "iteration 10, err=0.0008853334971906657\n",
      "iteration 11, err=0.00042303623123740586\n",
      "iteration 12, err=0.00020667693731979409\n",
      "iteration 13, err=0.00010099869062107913\n",
      "iteration 14, err=4.930900982602626e-05\n",
      "iteration 15, err=2.4104103571120916e-05\n",
      "iteration 16, err=1.1780583796694444e-05\n",
      "iteration 17, err=5.74907471195818e-06\n",
      "iteration 18, err=2.807295693796341e-06\n",
      "iteration 19, err=1.3702771813894898e-06\n",
      "iteration 20, err=6.68925410063359e-07\n",
      "Converged in 20 iterations\n",
      "iteration 1, err=0.9171654028648195\n",
      "iteration 2, err=0.6046180389807024\n",
      "iteration 3, err=0.2259546840559924\n",
      "iteration 4, err=0.08146993004633685\n",
      "iteration 5, err=0.03373354911186022\n",
      "iteration 6, err=0.01623289152488694\n",
      "iteration 7, err=0.007881771249516833\n",
      "iteration 8, err=0.0035669982726278526\n",
      "iteration 9, err=0.0016336573645745478\n",
      "iteration 10, err=0.0007583480841109047\n",
      "iteration 11, err=0.0003537448261015097\n",
      "iteration 12, err=0.00016732925164342216\n",
      "iteration 13, err=7.810695197851825e-05\n",
      "iteration 14, err=3.6617335375854765e-05\n",
      "iteration 15, err=1.7143982698142324e-05\n",
      "iteration 16, err=8.022290019393807e-06\n",
      "iteration 17, err=3.7502562559854624e-06\n",
      "iteration 18, err=1.7542102073164756e-06\n",
      "iteration 19, err=8.201393131290757e-07\n",
      "Converged in 19 iterations\n",
      "iteration 1, err=0.9894759709353343\n",
      "iteration 2, err=0.5778918236962253\n",
      "iteration 3, err=0.2724074662140069\n",
      "iteration 4, err=0.08490874060778009\n",
      "iteration 5, err=0.03440964455332418\n",
      "iteration 6, err=0.015302828563658277\n",
      "iteration 7, err=0.007025368482155292\n",
      "iteration 8, err=0.0032080604447494165\n",
      "iteration 9, err=0.0014084872143405036\n",
      "iteration 10, err=0.0006455743996365282\n",
      "iteration 11, err=0.0002913398752387719\n",
      "iteration 12, err=0.00012899134659405398\n",
      "iteration 13, err=5.809683815738431e-05\n",
      "iteration 14, err=2.5995893938146608e-05\n",
      "iteration 15, err=1.1650597103063376e-05\n",
      "iteration 16, err=5.22041683348462e-06\n",
      "iteration 17, err=2.3396358435068265e-06\n",
      "iteration 18, err=1.0481155744423987e-06\n",
      "iteration 19, err=4.694649092806813e-07\n",
      "Converged in 19 iterations\n",
      "iteration 1, err=0.940056112910627\n",
      "iteration 2, err=0.5849940488437635\n",
      "iteration 3, err=0.22430561600973642\n",
      "iteration 4, err=0.08602010876103316\n",
      "iteration 5, err=0.0391799717566369\n",
      "iteration 6, err=0.01706364628585577\n",
      "iteration 7, err=0.006887799877689282\n",
      "iteration 8, err=0.0030259785263240246\n",
      "iteration 9, err=0.0012236362397781697\n",
      "iteration 10, err=0.0005263553631829065\n",
      "iteration 11, err=0.00023016930858033025\n",
      "iteration 12, err=9.925452912373789e-05\n",
      "iteration 13, err=4.257552074371507e-05\n",
      "iteration 14, err=1.8243076824076e-05\n",
      "iteration 15, err=7.846615998730044e-06\n",
      "iteration 16, err=3.3709063960163377e-06\n",
      "iteration 17, err=1.4451309297003334e-06\n",
      "iteration 18, err=6.204826957789678e-07\n",
      "Converged in 18 iterations\n",
      "iteration 1, err=0.983595039737703\n",
      "iteration 2, err=0.6416896021948998\n",
      "iteration 3, err=0.25459123636474956\n",
      "iteration 4, err=0.084045652839978\n",
      "iteration 5, err=0.04139859897465248\n",
      "iteration 6, err=0.01506515118281504\n",
      "iteration 7, err=0.006717876604384276\n",
      "iteration 8, err=0.0026685843204563575\n",
      "iteration 9, err=0.0010809109791696248\n",
      "iteration 10, err=0.00043396155628094846\n",
      "iteration 11, err=0.00017823966161201188\n",
      "iteration 12, err=7.261149490889185e-05\n",
      "iteration 13, err=3.006091195312255e-05\n",
      "iteration 14, err=1.2380085976926303e-05\n",
      "iteration 15, err=5.09767362077973e-06\n",
      "iteration 16, err=2.097915243970405e-06\n",
      "iteration 17, err=8.62474766161192e-07\n",
      "Converged in 17 iterations\n",
      "iteration 1, err=0.9817360752189647\n",
      "iteration 2, err=0.688038233370623\n",
      "iteration 3, err=0.3519401560340677\n",
      "iteration 4, err=0.12298650750899875\n",
      "iteration 5, err=0.033665951197676125\n",
      "iteration 6, err=0.01658829964333064\n",
      "iteration 7, err=0.0058969282953189595\n",
      "iteration 8, err=0.0023513815438023222\n",
      "iteration 9, err=0.0009341555544956082\n",
      "iteration 10, err=0.0003630076822582762\n",
      "iteration 11, err=0.00014216066729266785\n",
      "iteration 12, err=5.57644943203206e-05\n",
      "iteration 13, err=2.2106265911703282e-05\n",
      "iteration 14, err=8.739619558495448e-06\n",
      "iteration 15, err=3.4473033135862252e-06\n",
      "iteration 16, err=1.362841237750878e-06\n",
      "iteration 17, err=5.364417793307652e-07\n",
      "Converged in 17 iterations\n",
      "iteration 1, err=0.9772349476944769\n",
      "iteration 2, err=0.5757948042027954\n",
      "iteration 3, err=0.25563357939961184\n",
      "iteration 4, err=0.07915799452970407\n",
      "iteration 5, err=0.03157206383156075\n",
      "iteration 6, err=0.013127137734332828\n",
      "iteration 7, err=0.005417643507025671\n",
      "iteration 8, err=0.0020020911122208274\n",
      "iteration 9, err=0.0007610034304632585\n",
      "iteration 10, err=0.00028681211873693435\n",
      "iteration 11, err=0.00010680240432692223\n",
      "iteration 12, err=3.9933580302520255e-05\n",
      "iteration 13, err=1.520575052682549e-05\n",
      "iteration 14, err=5.70062170202057e-06\n",
      "iteration 15, err=2.1635542085673976e-06\n",
      "iteration 16, err=8.186115189046106e-07\n",
      "Converged in 16 iterations\n",
      "iteration 1, err=0.9648666190607751\n",
      "iteration 2, err=0.6628541136037466\n",
      "iteration 3, err=0.3554105468076111\n",
      "iteration 4, err=0.09332816660511223\n",
      "iteration 5, err=0.035454694612339854\n",
      "iteration 6, err=0.015728388442519003\n",
      "iteration 7, err=0.0052015937545603075\n",
      "iteration 8, err=0.00182366950002677\n",
      "iteration 9, err=0.0006549939108836389\n",
      "iteration 10, err=0.00023118346817607716\n",
      "iteration 11, err=8.273417630555446e-05\n",
      "iteration 12, err=2.9855195650241306e-05\n",
      "iteration 13, err=1.0775987315136959e-05\n",
      "iteration 14, err=3.935161307255797e-06\n",
      "iteration 15, err=1.4280357824025813e-06\n",
      "iteration 16, err=5.179093688356673e-07\n",
      "Converged in 16 iterations\n",
      "iteration 1, err=0.9810738161338527\n",
      "iteration 2, err=0.6855165883761603\n",
      "iteration 3, err=0.2810897910513812\n",
      "iteration 4, err=0.08963759077022915\n",
      "iteration 5, err=0.037316294487644175\n",
      "iteration 6, err=0.01611883597145547\n",
      "iteration 7, err=0.004997071048946866\n",
      "iteration 8, err=0.0016531658347475053\n",
      "iteration 9, err=0.0006297697687021042\n",
      "iteration 10, err=0.00019242542365471849\n",
      "iteration 11, err=6.50043605823214e-05\n",
      "iteration 12, err=2.1892424097003094e-05\n",
      "iteration 13, err=7.693040384504357e-06\n",
      "iteration 14, err=2.704520440599545e-06\n",
      "iteration 15, err=9.415118388256261e-07\n",
      "Converged in 15 iterations\n",
      "iteration 1, err=0.9952087514377194\n",
      "iteration 2, err=0.6090158533809352\n",
      "iteration 3, err=0.3484282972554925\n",
      "iteration 4, err=0.10528258154465353\n",
      "iteration 5, err=0.03765475477388891\n",
      "iteration 6, err=0.013355380640697079\n",
      "iteration 7, err=0.003997615697797774\n",
      "iteration 8, err=0.0012957145156192729\n",
      "iteration 9, err=0.0004943221252582397\n",
      "iteration 10, err=0.00015079745235824227\n",
      "iteration 11, err=4.944202588574864e-05\n",
      "iteration 12, err=1.6108626478605892e-05\n",
      "iteration 13, err=5.466862209591028e-06\n",
      "iteration 14, err=1.813655105098455e-06\n",
      "iteration 15, err=6.022159846352793e-07\n",
      "Converged in 15 iterations\n",
      "iteration 1, err=0.9821428783622062\n",
      "iteration 2, err=0.6167977712906378\n",
      "iteration 3, err=0.3618154069499874\n",
      "iteration 4, err=0.12263981466304585\n",
      "iteration 5, err=0.03603935960266913\n",
      "iteration 6, err=0.011299381407246178\n",
      "iteration 7, err=0.0035555211194756575\n",
      "iteration 8, err=0.0011198096561269022\n",
      "iteration 9, err=0.000398409669632227\n",
      "iteration 10, err=0.00013156341852116338\n",
      "iteration 11, err=3.9581318388659525e-05\n",
      "iteration 12, err=1.2405639319590378e-05\n",
      "iteration 13, err=3.90606849998143e-06\n",
      "iteration 14, err=1.2628369372436055e-06\n",
      "iteration 15, err=4.040411327732585e-07\n",
      "Converged in 15 iterations\n",
      "iteration 1, err=0.9779804076739143\n",
      "iteration 2, err=0.6613264976650716\n",
      "iteration 3, err=0.31864569516448904\n",
      "iteration 4, err=0.10208384732743014\n",
      "iteration 5, err=0.035156003291586746\n",
      "iteration 6, err=0.012492129577886035\n",
      "iteration 7, err=0.004046692984875366\n",
      "iteration 8, err=0.0011460609366950036\n",
      "iteration 9, err=0.0003134852243547037\n",
      "iteration 10, err=0.00010474665916304637\n",
      "iteration 11, err=2.9840534770175786e-05\n",
      "iteration 12, err=9.319104706806414e-06\n",
      "iteration 13, err=2.754367799950863e-06\n",
      "iteration 14, err=8.55447282455124e-07\n",
      "Converged in 14 iterations\n",
      "iteration 1, err=0.9870656355972628\n",
      "iteration 2, err=0.6933788811665444\n",
      "iteration 3, err=0.30042898978629207\n",
      "iteration 4, err=0.1961008430436929\n",
      "iteration 5, err=0.04429442745485934\n",
      "iteration 6, err=0.013737225310901935\n",
      "iteration 7, err=0.003636999466103963\n",
      "iteration 8, err=0.000930892303266373\n",
      "iteration 9, err=0.00032564562459047597\n",
      "iteration 10, err=9.015382530597194e-05\n",
      "iteration 11, err=2.381658750061355e-05\n",
      "iteration 12, err=7.029837542193995e-06\n",
      "iteration 13, err=2.0555165908264783e-06\n",
      "iteration 14, err=6.069801894437177e-07\n",
      "Converged in 14 iterations\n",
      "iteration 1, err=0.9706601550313634\n",
      "iteration 2, err=0.6978801050388045\n",
      "iteration 3, err=0.3419612514690141\n",
      "iteration 4, err=0.11432118653497514\n",
      "iteration 5, err=0.039559444763135665\n",
      "iteration 6, err=0.011685679317618547\n",
      "iteration 7, err=0.003036868710568852\n",
      "iteration 8, err=0.000817792007741458\n",
      "iteration 9, err=0.00026965662776146093\n",
      "iteration 10, err=7.33962639348773e-05\n",
      "iteration 11, err=1.9322448670089365e-05\n",
      "iteration 12, err=5.404601671421538e-06\n",
      "iteration 13, err=1.475533166983567e-06\n",
      "iteration 14, err=4.1913651971370314e-07\n",
      "Converged in 14 iterations\n",
      "iteration 1, err=0.9696421810773862\n",
      "iteration 2, err=0.7834751074021269\n",
      "iteration 3, err=0.36636511998938626\n",
      "iteration 4, err=0.14844318356497177\n",
      "iteration 5, err=0.0430961518898747\n",
      "iteration 6, err=0.011241935859442775\n",
      "iteration 7, err=0.0023130394159884826\n",
      "iteration 8, err=0.0007338175825652993\n",
      "iteration 9, err=0.00022265026197043625\n",
      "iteration 10, err=5.22007391579038e-05\n",
      "iteration 11, err=1.3978963821936752e-05\n",
      "iteration 12, err=3.6409783622515235e-06\n",
      "iteration 13, err=9.904709534769296e-07\n",
      "Converged in 13 iterations\n",
      "iteration 1, err=0.9967225417043296\n",
      "iteration 2, err=0.6307472194311107\n",
      "iteration 3, err=0.31952522624213786\n",
      "iteration 4, err=0.13059891526316614\n",
      "iteration 5, err=0.03485411180249187\n",
      "iteration 6, err=0.008248451309477711\n",
      "iteration 7, err=0.002281401722483367\n",
      "iteration 8, err=0.000590135278963122\n",
      "iteration 9, err=0.00017168712054294044\n",
      "iteration 10, err=4.167562579493467e-05\n",
      "iteration 11, err=1.0472657384075212e-05\n",
      "iteration 12, err=2.7664837904950446e-06\n",
      "iteration 13, err=6.715477516294754e-07\n",
      "Converged in 13 iterations\n",
      "iteration 1, err=0.9898635826767028\n",
      "iteration 2, err=0.7549708511547449\n",
      "iteration 3, err=0.31074247177492087\n",
      "iteration 4, err=0.13397959847586005\n",
      "iteration 5, err=0.04220917102656774\n",
      "iteration 6, err=0.010771500980881976\n",
      "iteration 7, err=0.0022842896361764398\n",
      "iteration 8, err=0.0005412563074210786\n",
      "iteration 9, err=0.00013498183347782078\n",
      "iteration 10, err=3.294987977309205e-05\n",
      "iteration 11, err=8.721631487795811e-06\n",
      "iteration 12, err=2.0084549249288486e-06\n",
      "iteration 13, err=4.758197894583205e-07\n",
      "Converged in 13 iterations\n",
      "iteration 1, err=0.972828029883105\n",
      "iteration 2, err=0.8017347973238698\n",
      "iteration 3, err=0.31565816398080215\n",
      "iteration 4, err=0.11178875310852365\n",
      "iteration 5, err=0.0419519343242043\n",
      "iteration 6, err=0.013764794913306733\n",
      "iteration 7, err=0.0030289601609305716\n",
      "iteration 8, err=0.000644310106429069\n",
      "iteration 9, err=0.00011893281132624445\n",
      "iteration 10, err=2.9240838849142747e-05\n",
      "iteration 11, err=6.5729036142769814e-06\n",
      "iteration 12, err=1.5383717708594702e-06\n",
      "iteration 13, err=3.526155825106514e-07\n",
      "Converged in 13 iterations\n",
      "iteration 1, err=0.9971667084573658\n",
      "iteration 2, err=0.7521998242358955\n",
      "iteration 3, err=0.44580961303254607\n",
      "iteration 4, err=0.22843369576969696\n",
      "iteration 5, err=0.05702362339585587\n",
      "iteration 6, err=0.01597192194174546\n",
      "iteration 7, err=0.0019105969057258143\n",
      "iteration 8, err=0.00047735304409213253\n",
      "iteration 9, err=0.00010635763738653381\n",
      "iteration 10, err=2.2765579020034288e-05\n",
      "iteration 11, err=5.111029768523068e-06\n",
      "iteration 12, err=1.1320747218546146e-06\n",
      "iteration 13, err=2.3340973298591194e-07\n",
      "Converged in 13 iterations\n",
      "iteration 1, err=0.9996495102425733\n",
      "iteration 2, err=0.8178629711787723\n",
      "iteration 3, err=0.41875284187218975\n",
      "iteration 4, err=0.1677243876855573\n",
      "iteration 5, err=0.04442321096926205\n",
      "iteration 6, err=0.011385199208568064\n",
      "iteration 7, err=0.0023216241792319847\n",
      "iteration 8, err=0.00042320819257202213\n",
      "iteration 9, err=8.605749150902842e-05\n",
      "iteration 10, err=1.878871872684762e-05\n",
      "iteration 11, err=4.310566611986921e-06\n",
      "iteration 12, err=9.027466921773808e-07\n",
      "Converged in 12 iterations\n",
      "iteration 1, err=0.9917110995380162\n",
      "iteration 2, err=0.7439289510061897\n",
      "iteration 3, err=0.39905516309842337\n",
      "iteration 4, err=0.1312878150995872\n",
      "iteration 5, err=0.03217218965278412\n",
      "iteration 6, err=0.010158132253250463\n",
      "iteration 7, err=0.002535313324494859\n",
      "iteration 8, err=0.0003549035373875409\n",
      "iteration 9, err=6.452827288350171e-05\n",
      "iteration 10, err=1.4458683231910463e-05\n",
      "iteration 11, err=2.7071180849214116e-06\n",
      "iteration 12, err=5.274974493874041e-07\n",
      "Converged in 12 iterations\n",
      "iteration 1, err=0.983652259381592\n",
      "iteration 2, err=0.7611918008510773\n",
      "iteration 3, err=0.5078034054827089\n",
      "iteration 4, err=0.17750814934757042\n",
      "iteration 5, err=0.033575831554985225\n",
      "iteration 6, err=0.009227502103595131\n",
      "iteration 7, err=0.001521499704845386\n",
      "iteration 8, err=0.0002591003600089792\n",
      "iteration 9, err=5.2927397208191174e-05\n",
      "iteration 10, err=1.2511805760784256e-05\n",
      "iteration 11, err=2.1812767095896746e-06\n",
      "iteration 12, err=3.974618841828814e-07\n",
      "Converged in 12 iterations\n",
      "iteration 1, err=0.9728150144196565\n",
      "iteration 2, err=0.7123532113969843\n",
      "iteration 3, err=0.4515177568259957\n",
      "iteration 4, err=0.10997118193341637\n",
      "iteration 5, err=0.030177787927223143\n",
      "iteration 6, err=0.011512076308576202\n",
      "iteration 7, err=0.0014229165199819427\n",
      "iteration 8, err=0.0002753436313550628\n",
      "iteration 9, err=4.440719179599206e-05\n",
      "iteration 10, err=8.34039486719007e-06\n",
      "iteration 11, err=1.7007061108298416e-06\n",
      "iteration 12, err=2.844821358483074e-07\n",
      "Converged in 12 iterations\n",
      "iteration 1, err=0.9729275479123455\n",
      "iteration 2, err=0.7891112350174458\n",
      "iteration 3, err=0.4297342987324979\n",
      "iteration 4, err=0.12360227779778543\n",
      "iteration 5, err=0.031163182414056134\n",
      "iteration 6, err=0.009023331411709967\n",
      "iteration 7, err=0.0013329483097739292\n",
      "iteration 8, err=0.00024810526194884996\n",
      "iteration 9, err=3.5714224291272245e-05\n",
      "iteration 10, err=6.466178340658324e-06\n",
      "iteration 11, err=1.1032955934409117e-06\n",
      "iteration 12, err=2.1874514732900252e-07\n",
      "Converged in 12 iterations\n",
      "iteration 1, err=0.99013718607572\n",
      "iteration 2, err=0.7350940801651894\n",
      "iteration 3, err=0.36249688826828474\n",
      "iteration 4, err=0.12294055038950935\n",
      "iteration 5, err=0.04217821372828068\n",
      "iteration 6, err=0.006382218171322007\n",
      "iteration 7, err=0.002291047633125487\n",
      "iteration 8, err=0.00020136484483179728\n",
      "iteration 9, err=2.5656872772339412e-05\n",
      "iteration 10, err=4.776137758066845e-06\n",
      "iteration 11, err=7.646324281518346e-07\n",
      "Converged in 11 iterations\n",
      "iteration 1, err=0.9916920663414848\n",
      "iteration 2, err=0.7579616387669792\n",
      "iteration 3, err=0.3770338922844254\n",
      "iteration 4, err=0.14244088427153634\n",
      "iteration 5, err=0.03036042352814583\n",
      "iteration 6, err=0.010971493353626682\n",
      "iteration 7, err=0.0015634515823828021\n",
      "iteration 8, err=0.00019977371473278716\n",
      "iteration 9, err=2.803512972127109e-05\n",
      "iteration 10, err=3.553169257819455e-06\n",
      "iteration 11, err=6.129414263922328e-07\n",
      "Converged in 11 iterations\n",
      "iteration 1, err=0.9872796976838693\n",
      "iteration 2, err=0.7417637712580839\n",
      "iteration 3, err=0.36739416137795966\n",
      "iteration 4, err=0.135111181986039\n",
      "iteration 5, err=0.03399630826646516\n",
      "iteration 6, err=0.0048444628446855376\n",
      "iteration 7, err=0.0008421744495514805\n",
      "iteration 8, err=0.0001296048567417385\n",
      "iteration 9, err=2.3631625035935855e-05\n",
      "iteration 10, err=2.70873604968358e-06\n",
      "iteration 11, err=4.64239551023482e-07\n",
      "Converged in 11 iterations\n",
      "iteration 1, err=0.9947152328553803\n",
      "iteration 2, err=0.8231260120571894\n",
      "iteration 3, err=0.3780155485014488\n",
      "iteration 4, err=0.18503940593788837\n",
      "iteration 5, err=0.043061865797958454\n",
      "iteration 6, err=0.016872688579239847\n",
      "iteration 7, err=0.0008512723023509361\n",
      "iteration 8, err=0.00010185261748341112\n",
      "iteration 9, err=1.8242203948859448e-05\n",
      "iteration 10, err=1.8881365859702015e-06\n",
      "iteration 11, err=3.0459394895210323e-07\n",
      "Converged in 11 iterations\n",
      "iteration 1, err=0.9864133725548483\n",
      "iteration 2, err=0.7712361546161687\n",
      "iteration 3, err=0.4163775497711034\n",
      "iteration 4, err=0.1526368942921762\n",
      "iteration 5, err=0.028068227379413058\n",
      "iteration 6, err=0.006175856976973093\n",
      "iteration 7, err=0.0009821697474740043\n",
      "iteration 8, err=0.00012207813618902996\n",
      "iteration 9, err=1.4914363013485143e-05\n",
      "iteration 10, err=1.5250069307359837e-06\n",
      "iteration 11, err=2.627045638803338e-07\n",
      "Converged in 11 iterations\n",
      "iteration 1, err=0.9893082742170858\n",
      "iteration 2, err=0.7737563026495121\n",
      "iteration 3, err=0.39465128754222145\n",
      "iteration 4, err=0.20042118752249904\n",
      "iteration 5, err=0.051468651659490994\n",
      "iteration 6, err=0.006896212441231286\n",
      "iteration 7, err=0.0013993371740509408\n",
      "iteration 8, err=7.893455547591799e-05\n",
      "iteration 9, err=9.622692741739769e-06\n",
      "iteration 10, err=1.2030811462615532e-06\n",
      "iteration 11, err=1.6622458165471699e-07\n",
      "Converged in 11 iterations\n",
      "iteration 1, err=0.9988227192052359\n",
      "iteration 2, err=0.8343690201761271\n",
      "iteration 3, err=0.5370729617350163\n",
      "iteration 4, err=0.1293281412605385\n",
      "iteration 5, err=0.025753491117699978\n",
      "iteration 6, err=0.004862185129998808\n",
      "iteration 7, err=0.0008478176103525747\n",
      "iteration 8, err=8.782544492302868e-05\n",
      "iteration 9, err=7.0932440561222165e-06\n",
      "iteration 10, err=8.766608842192269e-07\n",
      "Converged in 10 iterations\n",
      "iteration 1, err=0.9939512399670909\n",
      "iteration 2, err=0.8635775325924504\n",
      "iteration 3, err=0.41008781768972324\n",
      "iteration 4, err=0.10457933008984255\n",
      "iteration 5, err=0.034119054021057194\n",
      "iteration 6, err=0.006652615321975808\n",
      "iteration 7, err=0.0008304523953306386\n",
      "iteration 8, err=0.00012175014446202947\n",
      "iteration 9, err=5.863006905637569e-06\n",
      "iteration 10, err=5.755393016615429e-07\n",
      "Converged in 10 iterations\n",
      "iteration 1, err=0.9939937779713106\n",
      "iteration 2, err=0.7632742643042433\n",
      "iteration 3, err=0.46792616985556834\n",
      "iteration 4, err=0.1120184891421776\n",
      "iteration 5, err=0.024406250502204352\n",
      "iteration 6, err=0.005228385573013528\n",
      "iteration 7, err=0.0009106433941842296\n",
      "iteration 8, err=5.8527222609461305e-05\n",
      "iteration 9, err=4.709904836475154e-06\n",
      "iteration 10, err=4.734519928328851e-07\n",
      "Converged in 10 iterations\n",
      "iteration 1, err=0.9940132193578839\n",
      "iteration 2, err=0.8321163861032849\n",
      "iteration 3, err=0.47464534507778333\n",
      "iteration 4, err=0.10540306793825072\n",
      "iteration 5, err=0.02312273644599372\n",
      "iteration 6, err=0.00413752068899953\n",
      "iteration 7, err=0.0005092938246953338\n",
      "iteration 8, err=6.517341543443855e-05\n",
      "iteration 9, err=4.6601575008908824e-06\n",
      "iteration 10, err=3.533794110666122e-07\n",
      "Converged in 10 iterations\n",
      "iteration 1, err=0.9884862399282421\n",
      "iteration 2, err=0.8466900247138877\n",
      "iteration 3, err=0.5428365474710469\n",
      "iteration 4, err=0.15366125790258078\n",
      "iteration 5, err=0.03145083627148326\n",
      "iteration 6, err=0.007109642687386342\n",
      "iteration 7, err=0.0010777085381606932\n",
      "iteration 8, err=3.050904681878297e-05\n",
      "iteration 9, err=2.865285518294236e-06\n",
      "iteration 10, err=2.3598398224411454e-07\n",
      "Converged in 10 iterations\n",
      "iteration 1, err=0.9973835317196896\n",
      "iteration 2, err=0.8895184303599117\n",
      "iteration 3, err=0.48526422863314544\n",
      "iteration 4, err=0.12750942367043328\n",
      "iteration 5, err=0.021390839999468225\n",
      "iteration 6, err=0.00893589259468841\n",
      "iteration 7, err=0.00035262090543997093\n",
      "iteration 8, err=0.00010080599124218104\n",
      "iteration 9, err=2.155408906134859e-06\n",
      "iteration 10, err=1.396601188030644e-07\n",
      "Converged in 10 iterations\n",
      "iteration 1, err=0.9891183064597311\n",
      "iteration 2, err=0.8626765689968168\n",
      "iteration 3, err=0.3957600829412553\n",
      "iteration 4, err=0.14477425049856618\n",
      "iteration 5, err=0.017603205344313033\n",
      "iteration 6, err=0.006905495316350652\n",
      "iteration 7, err=0.0008922999376440588\n",
      "iteration 8, err=4.534875238337843e-05\n",
      "iteration 9, err=2.2343699895843727e-06\n",
      "iteration 10, err=1.341347243277724e-07\n",
      "Converged in 10 iterations\n",
      "iteration 1, err=0.9933603583751893\n",
      "iteration 2, err=0.8552598356937143\n",
      "iteration 3, err=0.48604321406024453\n",
      "iteration 4, err=0.16303118035979414\n",
      "iteration 5, err=0.02577863471598474\n",
      "iteration 6, err=0.003827348204201053\n",
      "iteration 7, err=0.000898380336855964\n",
      "iteration 8, err=1.915996217793925e-05\n",
      "iteration 9, err=1.3403124096145191e-06\n",
      "iteration 10, err=6.23314379000206e-08\n",
      "Converged in 10 iterations\n",
      "iteration 1, err=0.9974947543084418\n",
      "iteration 2, err=0.8443825667245878\n",
      "iteration 3, err=0.5367676819504288\n",
      "iteration 4, err=0.1400204774139251\n",
      "iteration 5, err=0.0330632593911141\n",
      "iteration 6, err=0.0031813621364329414\n",
      "iteration 7, err=0.00044581800450715914\n",
      "iteration 8, err=2.6788366706775868e-05\n",
      "iteration 9, err=9.281753236001222e-07\n",
      "Converged in 9 iterations\n",
      "iteration 1, err=0.9969766971799975\n",
      "iteration 2, err=0.8399752708486871\n",
      "iteration 3, err=0.453179062350756\n",
      "iteration 4, err=0.06925233957815569\n",
      "iteration 5, err=0.014226839224343979\n",
      "iteration 6, err=0.004780592696575159\n",
      "iteration 7, err=0.0004812319807036003\n",
      "iteration 8, err=1.326996780404155e-05\n",
      "iteration 9, err=4.3766238067011187e-07\n",
      "Converged in 9 iterations\n",
      "iteration 1, err=0.9995926098377143\n",
      "iteration 2, err=0.7734769903630945\n",
      "iteration 3, err=0.5670295403918618\n",
      "iteration 4, err=0.10229270096794196\n",
      "iteration 5, err=0.013083368712700993\n",
      "iteration 6, err=0.0018908199637924783\n",
      "iteration 7, err=0.00014063635285122\n",
      "iteration 8, err=1.2024894646800455e-05\n",
      "iteration 9, err=5.590388248988276e-07\n",
      "Converged in 9 iterations\n",
      "iteration 1, err=0.9905893295019093\n",
      "iteration 2, err=0.897436226044448\n",
      "iteration 3, err=0.5198640365631932\n",
      "iteration 4, err=0.16151295370906527\n",
      "iteration 5, err=0.025193950238184937\n",
      "iteration 6, err=0.0017446741549766998\n",
      "iteration 7, err=0.0002032990731006823\n",
      "iteration 8, err=2.9850781002593862e-05\n",
      "iteration 9, err=3.0411726248402715e-07\n",
      "Converged in 9 iterations\n",
      "iteration 1, err=0.9944856033377192\n",
      "iteration 2, err=0.8639360098129786\n",
      "iteration 3, err=0.5875770533291206\n",
      "iteration 4, err=0.17797836363712516\n",
      "iteration 5, err=0.02849810387821783\n",
      "iteration 6, err=0.0014494513155678401\n",
      "iteration 7, err=0.00017585427417465826\n",
      "iteration 8, err=1.0042696159895392e-05\n",
      "iteration 9, err=3.633395750934909e-07\n",
      "Converged in 9 iterations\n",
      "iteration 1, err=0.9974547928449871\n",
      "iteration 2, err=0.8872210811171647\n",
      "iteration 3, err=0.5662133513124799\n",
      "iteration 4, err=0.17853921782366788\n",
      "iteration 5, err=0.01835893529689192\n",
      "iteration 6, err=0.002153045751950855\n",
      "iteration 7, err=0.0002557014900712584\n",
      "iteration 8, err=4.250127294769257e-06\n",
      "iteration 9, err=4.059993339300405e-07\n",
      "Converged in 9 iterations\n",
      "iteration 1, err=0.9956636797784457\n",
      "iteration 2, err=0.834199982044262\n",
      "iteration 3, err=0.570931676626127\n",
      "iteration 4, err=0.14651894730244253\n",
      "iteration 5, err=0.02744408958955835\n",
      "iteration 6, err=0.0030656354333611358\n",
      "iteration 7, err=0.0001403173969499738\n",
      "iteration 8, err=4.050549496925626e-06\n",
      "iteration 9, err=2.4633004513940904e-07\n",
      "Converged in 9 iterations\n",
      "iteration 1, err=0.997371305034161\n",
      "iteration 2, err=0.8968804026042844\n",
      "iteration 3, err=0.4524679319046816\n",
      "iteration 4, err=0.16003920546670092\n",
      "iteration 5, err=0.016361781530858877\n",
      "iteration 6, err=0.001090467587454902\n",
      "iteration 7, err=7.541185242854187e-05\n",
      "iteration 8, err=1.5952414599285092e-06\n",
      "iteration 9, err=5.23664097640264e-08\n",
      "Converged in 9 iterations\n",
      "iteration 1, err=0.9982822573462169\n",
      "iteration 2, err=0.8876863958957865\n",
      "iteration 3, err=0.6399602600008509\n",
      "iteration 4, err=0.20996538672718568\n",
      "iteration 5, err=0.031145051559234416\n",
      "iteration 6, err=0.001054128069911564\n",
      "iteration 7, err=8.074777522304455e-05\n",
      "iteration 8, err=2.6384530481537993e-06\n",
      "iteration 9, err=5.0328149869827143e-08\n",
      "Converged in 9 iterations\n",
      "iteration 1, err=0.9983686087599862\n",
      "iteration 2, err=0.9194290082992586\n",
      "iteration 3, err=0.7702075516786974\n",
      "iteration 4, err=0.12306660500521605\n",
      "iteration 5, err=0.005464954603934369\n",
      "iteration 6, err=0.00081334412522438\n",
      "iteration 7, err=7.773624805562651e-05\n",
      "iteration 8, err=4.989619151629654e-06\n",
      "iteration 9, err=2.7107506794799008e-08\n",
      "Converged in 9 iterations\n",
      "iteration 1, err=0.9928924889002518\n",
      "iteration 2, err=0.9258068980988561\n",
      "iteration 3, err=0.6877599040795013\n",
      "iteration 4, err=0.07795847597128314\n",
      "iteration 5, err=0.017373079595199625\n",
      "iteration 6, err=0.0012691925834493745\n",
      "iteration 7, err=2.3702265851244242e-05\n",
      "iteration 8, err=1.0422852428915164e-06\n",
      "iteration 9, err=1.3850038560470068e-08\n",
      "Converged in 9 iterations\n",
      "iteration 1, err=0.9983685448974324\n",
      "iteration 2, err=0.9204045696930669\n",
      "iteration 3, err=0.663594423941417\n",
      "iteration 4, err=0.14772978236736245\n",
      "iteration 5, err=0.006299457795537311\n",
      "iteration 6, err=0.0005786701956724816\n",
      "iteration 7, err=2.0249952594419973e-05\n",
      "iteration 8, err=6.788351970543616e-07\n",
      "Converged in 8 iterations\n",
      "iteration 1, err=0.9970099059218447\n",
      "iteration 2, err=0.8891587073223004\n",
      "iteration 3, err=0.660465548730767\n",
      "iteration 4, err=0.10756075253837616\n",
      "iteration 5, err=0.01298206832638027\n",
      "iteration 6, err=0.0013711760280604723\n",
      "iteration 7, err=2.1601626964184995e-05\n",
      "iteration 8, err=2.8783987282565704e-07\n",
      "Converged in 8 iterations\n",
      "iteration 1, err=0.9990376659331816\n",
      "iteration 2, err=0.9012390745561956\n",
      "iteration 3, err=0.7328357000919005\n",
      "iteration 4, err=0.0902571347845309\n",
      "iteration 5, err=0.0064518062311926805\n",
      "iteration 6, err=0.0004617623236868873\n",
      "iteration 7, err=5.660546262298283e-05\n",
      "iteration 8, err=3.3250060804679293e-07\n",
      "Converged in 8 iterations\n",
      "iteration 1, err=0.9983811419695127\n",
      "iteration 2, err=0.9688517617691701\n",
      "iteration 3, err=0.6888170442770398\n",
      "iteration 4, err=0.07761696926226325\n",
      "iteration 5, err=0.03105298856397165\n",
      "iteration 6, err=0.0015553930689309325\n",
      "iteration 7, err=2.6805652930117496e-05\n",
      "iteration 8, err=1.0452808585359463e-07\n",
      "Converged in 8 iterations\n",
      "iteration 1, err=0.998500088441527\n",
      "iteration 2, err=0.9225855970762195\n",
      "iteration 3, err=0.8211011813978354\n",
      "iteration 4, err=0.08913949577800728\n",
      "iteration 5, err=0.0032674335791984532\n",
      "iteration 6, err=0.0005467567057991785\n",
      "iteration 7, err=2.2684043259335596e-05\n",
      "iteration 8, err=4.193892189086057e-08\n",
      "Converged in 8 iterations\n",
      "iteration 1, err=0.9969603891265405\n",
      "iteration 2, err=0.9321291774820504\n",
      "iteration 3, err=0.7909249347077587\n",
      "iteration 4, err=0.06757191228483372\n",
      "iteration 5, err=0.009967113903781688\n",
      "iteration 6, err=0.00035153556212907944\n",
      "iteration 7, err=2.988302958140121e-05\n",
      "iteration 8, err=1.3620541361447636e-07\n",
      "Converged in 8 iterations\n",
      "iteration 1, err=0.9975953290484084\n",
      "iteration 2, err=0.9745434644683824\n",
      "iteration 3, err=0.5654528800986929\n",
      "iteration 4, err=0.049896090969474005\n",
      "iteration 5, err=0.023733435907481892\n",
      "iteration 6, err=0.0004647019147636655\n",
      "iteration 7, err=1.4629035236302101e-05\n",
      "iteration 8, err=2.233035734100497e-08\n",
      "Converged in 8 iterations\n",
      "iteration 1, err=0.9977755435657126\n",
      "iteration 2, err=0.9037384002872785\n",
      "iteration 3, err=0.7926163044268225\n",
      "iteration 4, err=0.08107991488699762\n",
      "iteration 5, err=0.004498171431255971\n",
      "iteration 6, err=0.0004470409465739955\n",
      "iteration 7, err=4.833939145632016e-06\n",
      "iteration 8, err=3.2411244799135375e-09\n",
      "Converged in 8 iterations\n",
      "iteration 1, err=0.9994569936552256\n",
      "iteration 2, err=0.9207480009456882\n",
      "iteration 3, err=0.7616772599185629\n",
      "iteration 4, err=0.05467830537698959\n",
      "iteration 5, err=0.02611502707502189\n",
      "iteration 6, err=0.0002117652475419618\n",
      "iteration 7, err=1.5469561738257198e-06\n",
      "iteration 8, err=3.22440484312736e-08\n",
      "Converged in 8 iterations\n",
      "iteration 1, err=0.9996923898504467\n",
      "iteration 2, err=0.9387103026826961\n",
      "iteration 3, err=0.8605619895819605\n",
      "iteration 4, err=0.07078812848171945\n",
      "iteration 5, err=0.0028557210751581907\n",
      "iteration 6, err=0.0003173943080087005\n",
      "iteration 7, err=1.427187405811381e-06\n",
      "iteration 8, err=1.5637079409103194e-09\n",
      "Converged in 8 iterations\n",
      "iteration 1, err=0.9983252091032142\n",
      "iteration 2, err=0.9449138596510259\n",
      "iteration 3, err=0.8567868709993355\n",
      "iteration 4, err=0.05969556884914651\n",
      "iteration 5, err=0.00409859073422103\n",
      "iteration 6, err=0.00010429702020609\n",
      "iteration 7, err=4.129261491625513e-07\n",
      "Converged in 7 iterations\n",
      "iteration 1, err=0.9983417962296355\n",
      "iteration 2, err=0.9608644349787332\n",
      "iteration 3, err=0.8794003823884674\n",
      "iteration 4, err=0.046508329796126735\n",
      "iteration 5, err=0.011918792846463355\n",
      "iteration 6, err=2.403909808790239e-05\n",
      "iteration 7, err=9.291157515578519e-07\n",
      "Converged in 7 iterations\n",
      "iteration 1, err=0.9996955513014041\n",
      "iteration 2, err=0.9520798203436127\n",
      "iteration 3, err=0.8207865738945197\n",
      "iteration 4, err=0.06586547304844492\n",
      "iteration 5, err=0.003647527237763626\n",
      "iteration 6, err=2.5923798413041155e-05\n",
      "iteration 7, err=3.763509868193182e-07\n",
      "Converged in 7 iterations\n",
      "iteration 1, err=0.9975404186025979\n",
      "iteration 2, err=0.9742554094072857\n",
      "iteration 3, err=0.7776350098229126\n",
      "iteration 4, err=0.013868966976521846\n",
      "iteration 5, err=0.0037527753139855458\n",
      "iteration 6, err=1.0082822003099068e-05\n",
      "iteration 7, err=2.5419944149618345e-08\n",
      "Converged in 7 iterations\n",
      "iteration 1, err=0.999643237607492\n",
      "iteration 2, err=0.9830588125337871\n",
      "iteration 3, err=0.8647553392549415\n",
      "iteration 4, err=0.07008659025255148\n",
      "iteration 5, err=0.0007005745054159407\n",
      "iteration 6, err=1.2398903368127101e-05\n",
      "iteration 7, err=7.426304016178165e-10\n",
      "Converged in 7 iterations\n",
      "iteration 1, err=0.9991445499792748\n",
      "iteration 2, err=0.9912898257193924\n",
      "iteration 3, err=0.966402929325277\n",
      "iteration 4, err=0.0656782202893551\n",
      "iteration 5, err=6.222953263801401e-10\n",
      "Converged in 5 iterations\n"
     ]
    }
   ],
   "source": [
    "final_node_prob_list = []\n",
    "p_list = np.linspace(0.0, 1.0, 101)\n",
    "\n",
    "for p in p_list:\n",
    "    gcc_list, node_prob_list, edge_prob_list = modified_get_percolation_diagram_from_message_passing(G, p)\n",
    "    final_node_prob_list.append(node_prob_list[-1])"
   ]
  },
  {
   "cell_type": "code",
   "execution_count": 302,
   "metadata": {},
   "outputs": [
    {
     "data": {
      "text/plain": [
       "<Figure size 640x480 with 0 Axes>"
      ]
     },
     "metadata": {},
     "output_type": "display_data"
    }
   ],
   "source": [
    "# Create an animation showing the evolution of node probabilities\n",
    "pos = nx.kamada_kawai_layout(G, scale=1.5)\n",
    "\n",
    "# Set up the figure and axis with higher DPI and larger size\n",
    "fig, ax = plt.subplots(figsize=(20, 18), dpi=250)\n",
    "plt.close()\n",
    "\n",
    "# Create a dummy scatter plot for the colorbar\n",
    "dummy_scatter = ax.scatter([], [], c=[], cmap=plt.cm.RdBu, vmin=0, vmax=1)\n",
    "cbar = plt.colorbar(dummy_scatter, ax=ax, label='Node Probability')\n",
    "cbar.ax.tick_params(labelsize=20)  # Increase colorbar tick label size\n",
    "cbar.set_label('Node Probability', size=25)  # Increase colorbar label size\n",
    "\n",
    "# Function to update the plot for each frame\n",
    "def update(frame):\n",
    "    ax.clear()\n",
    "    \n",
    "    # Get node probabilities for this iteration\n",
    "    node_probs = final_node_prob_list[frame]\n",
    "    \n",
    "    # Draw the network with larger nodes\n",
    "    nodes = nx.draw_networkx_nodes(G, pos,\n",
    "                                   node_color=[node_probs[node] for node in G.nodes()],\n",
    "                                   node_size=100,  # Increased node size\n",
    "                                   cmap=\"RdBu\",\n",
    "                                   vmin=0, vmax=1,\n",
    "                                   ax=ax)\n",
    "    nx.draw_networkx_edges(G, pos, alpha=0.2, ax=ax, width=2)  # Thicker edges\n",
    "    \n",
    "    # if frame < 3:\n",
    "    #     ax.set_title(f'Iteration 0', fontsize=25)  # Larger title font\n",
    "    # else:\n",
    "    #     ax.set_title(f'Iteration {frame-2}', fontsize=25)  # Larger title font\n",
    "    ax.set_title(f\"$p={p_list[frame]:.2f}$\", fontsize=35)\n",
    "    ax.axis('off')\n",
    "    return nodes,\n",
    "\n",
    "# Create the animation\n",
    "anim = FuncAnimation(fig, update, \n",
    "                     frames=len(final_node_prob_list),\n",
    "                     interval=100, # 500ms between frames\n",
    "                     blit=True)\n",
    "\n",
    "# Save the animation with higher quality\n",
    "anim.save(f'percolation_transition.gif', writer='pillow', dpi=250)\n",
    "\n",
    "plt.show()"
   ]
  },
  {
   "cell_type": "code",
   "execution_count": null,
   "metadata": {},
   "outputs": [],
   "source": []
  }
 ],
 "metadata": {
  "kernelspec": {
   "display_name": "airline-spp-application",
   "language": "python",
   "name": "python3"
  },
  "language_info": {
   "codemirror_mode": {
    "name": "ipython",
    "version": 3
   },
   "file_extension": ".py",
   "mimetype": "text/x-python",
   "name": "python",
   "nbconvert_exporter": "python",
   "pygments_lexer": "ipython3",
   "version": "3.10.13"
  }
 },
 "nbformat": 4,
 "nbformat_minor": 2
}
